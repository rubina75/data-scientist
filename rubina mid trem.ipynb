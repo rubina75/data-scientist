{
 "cells": [
  {
   "cell_type": "markdown",
   "id": "ede83428-d775-42c9-a868-fb3305f6a0ab",
   "metadata": {},
   "source": [
    "Q1 Write a Python function called sum_even_numbers that accepts a list of integers and returns \n",
    "the sum of all the even numbers in the list. "
   ]
  },
  {
   "cell_type": "code",
   "execution_count": 62,
   "id": "27312bd6-3f0c-4933-bb38-1fed571c25ec",
   "metadata": {},
   "outputs": [
    {
     "ename": "SyntaxError",
     "evalue": "'break' outside loop (1007745488.py, line 8)",
     "output_type": "error",
     "traceback": [
      "\u001b[1;36m  Cell \u001b[1;32mIn[62], line 8\u001b[1;36m\u001b[0m\n\u001b[1;33m    break\u001b[0m\n\u001b[1;37m    ^\u001b[0m\n\u001b[1;31mSyntaxError\u001b[0m\u001b[1;31m:\u001b[0m 'break' outside loop\n"
     ]
    }
   ],
   "source": [
    "def even_num():\n",
    "    for i in range(0):\n",
    "        a=int(input('enter a number:'))\n",
    "        b=[]\n",
    "        b. append(a)\n",
    "    if (a%2==0):\n",
    "        sum=i=+i\n",
    "        break\n",
    "even_num()\n",
    "print('the sum of all the even number:',sum)\n",
    "\n"
   ]
  },
  {
   "cell_type": "markdown",
   "id": "8698d3a7-06cc-4793-bb4d-9045550fae41",
   "metadata": {},
   "source": [
    "Q2 Write a Python function called count_occurrences that accepts a list and an element, then \n",
    "returns how many times the element appears in the list. "
   ]
  },
  {
   "cell_type": "code",
   "execution_count": 35,
   "id": "3e90f3d3-1f78-449f-b050-d7513a84027d",
   "metadata": {},
   "outputs": [
    {
     "name": "stdout",
     "output_type": "stream",
     "text": [
      "5\n"
     ]
    }
   ],
   "source": [
    "def count_occurrences(lst, element):\n",
    "    return lst.count(element)\n",
    "    \n",
    "my_list = [1, 2, 3, 2, 4,4,4,4, 2, 5,5,4,7]\n",
    "element_to_count = 4\n",
    "print(count_occurrences(my_list, element_to_count))"
   ]
  },
  {
   "cell_type": "code",
   "execution_count": null,
   "id": "ccef28c0-0b1f-434c-b396-fde277808a80",
   "metadata": {},
   "outputs": [],
   "source": [
    "Write a Python function called find_largest that accepts a list of numbers and returns the \n",
    "largest number in the list. "
   ]
  },
  {
   "cell_type": "code",
   "execution_count": 39,
   "id": "e2461841-f49e-46f0-9094-ba1ebf2f2d28",
   "metadata": {},
   "outputs": [
    {
     "name": "stdin",
     "output_type": "stream",
     "text": [
      "enter your number: 456\n",
      "enter your number: 45\n",
      "enter your number: 45\n",
      "enter your number: 45\n"
     ]
    },
    {
     "name": "stdout",
     "output_type": "stream",
     "text": [
      "the 456 is the largest\n"
     ]
    }
   ],
   "source": [
    "num1=int(input('enter your number:'))\n",
    "num2=int(input('enter your number:'))\n",
    "num3=int(input('enter your number:'))\n",
    "num4=int(input('enter your number:'))\n",
    "if (num1>=num2 and num1>=num3 and num1>=num4):\n",
    "    print(f'the {num1} is the largest')\n",
    "elif (num2>=num1 and num2>=num3 and num2>=num4):\n",
    "    print(f'the {num2} is the largest')\n",
    "elif (num3>=num2 and num3>=num1 and num3>=num4):\n",
    "    print(f'the {num3} is the largest')\n",
    "else:\n",
    "    print(f'the {num4} is the largest')"
   ]
  },
  {
   "cell_type": "markdown",
   "id": "85436be1-a636-47ff-953d-7a1728c6f8a3",
   "metadata": {},
   "source": [
    "Q4 Write a Python function called is_palindrome that checks if a given string is a palindrome. A \n",
    "palindrome is a word that reads the same backward as forward. "
   ]
  },
  {
   "cell_type": "code",
   "execution_count": 45,
   "id": "9bb52d68-366c-4257-aaf2-4e456aa9d420",
   "metadata": {},
   "outputs": [
    {
     "name": "stdin",
     "output_type": "stream",
     "text": [
      "enter text mAdam\n"
     ]
    },
    {
     "name": "stdout",
     "output_type": "stream",
     "text": [
      "not plaindrome\n"
     ]
    }
   ],
   "source": [
    "def plan():\n",
    "    text= (input ('enter text'))\n",
    "    if text==text[-1::-1]:\n",
    "        print('plaindrome')\n",
    "    else:\n",
    "        print('not plaindrome')\n",
    "plan()"
   ]
  },
  {
   "cell_type": "markdown",
   "id": "cd4ea451-3562-4f27-943a-54454407e345",
   "metadata": {},
   "source": [
    "Q5 Write a function that accepts a string and returns the number of vowels in the string. "
   ]
  },
  {
   "cell_type": "code",
   "execution_count": 47,
   "id": "03295e59-8ce8-4782-819f-9413c3ea4186",
   "metadata": {},
   "outputs": [
    {
     "name": "stdin",
     "output_type": "stream",
     "text": [
      "Enter a parageaph:  helloworld\n"
     ]
    },
    {
     "data": {
      "text/plain": [
       "{'a': 0,\n",
       " 'e': 1,\n",
       " 'i': 0,\n",
       " 'o': 2,\n",
       " 'u': 0,\n",
       " 'A': 0,\n",
       " 'E': 0,\n",
       " 'I': 0,\n",
       " 'O': 0,\n",
       " 'U': 0}"
      ]
     },
     "execution_count": 47,
     "metadata": {},
     "output_type": "execute_result"
    }
   ],
   "source": [
    "text  = input(\"Enter a parageaph: \")\n",
    "vowels = \"aeiouAEIOU\"\n",
    "vowel_count={}\n",
    "for vowel in vowels:\n",
    "    vowel_count[vowel] = text.count(vowel)\n",
    "    \n",
    "vowel_count"
   ]
  },
  {
   "cell_type": "code",
   "execution_count": null,
   "id": "c358a72d-06ba-4475-ad0c-5b7efaf60bf4",
   "metadata": {},
   "outputs": [],
   "source": []
  }
 ],
 "metadata": {
  "kernelspec": {
   "display_name": "Python [conda env:base] *",
   "language": "python",
   "name": "conda-base-py"
  },
  "language_info": {
   "codemirror_mode": {
    "name": "ipython",
    "version": 3
   },
   "file_extension": ".py",
   "mimetype": "text/x-python",
   "name": "python",
   "nbconvert_exporter": "python",
   "pygments_lexer": "ipython3",
   "version": "3.12.7"
  }
 },
 "nbformat": 4,
 "nbformat_minor": 5
}

{
 "cells": [
  {
   "cell_type": "code",
   "execution_count": 26,
   "id": "3ede86b5-0042-42eb-851e-77654cbe55e6",
   "metadata": {},
   "outputs": [],
   "source": [
    "import pandas as pd\n",
    "import numpy as np\n",
    "from sklearn.linear_model import LinearRegression\n",
    "# from sklearn.linear_model import LinearRegression\n"
   ]
  },
  {
   "cell_type": "markdown",
   "id": "7756427d-dc95-42d1-b1c7-94c9b8ab2a58",
   "metadata": {},
   "source": [
    "## LOAD DATASET FROM SK"
   ]
  },
  {
   "cell_type": "code",
   "execution_count": 28,
   "id": "881bfb85-ff55-4ccc-a01d-5063aee12b54",
   "metadata": {},
   "outputs": [],
   "source": [
    "from sklearn.datasets import fetch_california_housing\n",
    "cal = fetch_california_housing()"
   ]
  },
  {
   "cell_type": "code",
   "execution_count": 30,
   "id": "213fa3f9-5aaf-4502-bba6-8a6b7cd126d0",
   "metadata": {},
   "outputs": [
    {
     "data": {
      "text/html": [
       "<div>\n",
       "<style scoped>\n",
       "    .dataframe tbody tr th:only-of-type {\n",
       "        vertical-align: middle;\n",
       "    }\n",
       "\n",
       "    .dataframe tbody tr th {\n",
       "        vertical-align: top;\n",
       "    }\n",
       "\n",
       "    .dataframe thead th {\n",
       "        text-align: right;\n",
       "    }\n",
       "</style>\n",
       "<table border=\"1\" class=\"dataframe\">\n",
       "  <thead>\n",
       "    <tr style=\"text-align: right;\">\n",
       "      <th></th>\n",
       "      <th>MedInc</th>\n",
       "      <th>HouseAge</th>\n",
       "      <th>AveRooms</th>\n",
       "      <th>AveBedrms</th>\n",
       "      <th>Population</th>\n",
       "      <th>AveOccup</th>\n",
       "      <th>Latitude</th>\n",
       "      <th>Longitude</th>\n",
       "    </tr>\n",
       "  </thead>\n",
       "  <tbody>\n",
       "    <tr>\n",
       "      <th>0</th>\n",
       "      <td>8.3252</td>\n",
       "      <td>41.0</td>\n",
       "      <td>6.984127</td>\n",
       "      <td>1.02381</td>\n",
       "      <td>322.0</td>\n",
       "      <td>2.555556</td>\n",
       "      <td>37.88</td>\n",
       "      <td>-122.23</td>\n",
       "    </tr>\n",
       "    <tr>\n",
       "      <th>1</th>\n",
       "      <td>8.3014</td>\n",
       "      <td>21.0</td>\n",
       "      <td>6.238137</td>\n",
       "      <td>0.97188</td>\n",
       "      <td>2401.0</td>\n",
       "      <td>2.109842</td>\n",
       "      <td>37.86</td>\n",
       "      <td>-122.22</td>\n",
       "    </tr>\n",
       "  </tbody>\n",
       "</table>\n",
       "</div>"
      ],
      "text/plain": [
       "   MedInc  HouseAge  AveRooms  AveBedrms  Population  AveOccup  Latitude  \\\n",
       "0  8.3252      41.0  6.984127    1.02381       322.0  2.555556     37.88   \n",
       "1  8.3014      21.0  6.238137    0.97188      2401.0  2.109842     37.86   \n",
       "\n",
       "   Longitude  \n",
       "0    -122.23  \n",
       "1    -122.22  "
      ]
     },
     "execution_count": 30,
     "metadata": {},
     "output_type": "execute_result"
    }
   ],
   "source": [
    "# convert to dataframe for better visulaization\n",
    "df = pd.DataFrame(cal.data, columns=cal.feature_names)\n",
    "df.head(2)"
   ]
  },
  {
   "cell_type": "markdown",
   "id": "96f77faf-f6cb-4324-8424-455bbb3f8ff8",
   "metadata": {},
   "source": [
    "## Seprate features and target "
   ]
  },
  {
   "cell_type": "code",
   "execution_count": 57,
   "id": "14093f2d-7ab9-4e1e-9d74-88e5bdaf8340",
   "metadata": {},
   "outputs": [],
   "source": [
    "X = cal.data[: , [2]] # MedInc is the first col\n",
    "y = cal.data[: , [3]]"
   ]
  },
  {
   "cell_type": "code",
   "execution_count": 83,
   "id": "f5486a27-53bd-4a21-b939-022d99774ef4",
   "metadata": {},
   "outputs": [],
   "source": [
    "X = cal.data[: , [1,3]] # MedInc is the first col\n",
    "y = cal.data[: , [2]]"
   ]
  },
  {
   "cell_type": "code",
   "execution_count": 99,
   "id": "ebbe7351-53b0-4b02-9eaa-9cf1333060b7",
   "metadata": {},
   "outputs": [],
   "source": [
    "X = df[['HouseAge','AveRooms','AveBedrms']]\n",
    "y = df['Population']"
   ]
  },
  {
   "cell_type": "markdown",
   "id": "4d8bdb38-0e14-4f2e-811d-e108e43a8069",
   "metadata": {},
   "source": [
    "## Splitting the data into training and testing sets"
   ]
  },
  {
   "cell_type": "code",
   "execution_count": 101,
   "id": "cded5a1b-261a-427a-8e68-4e2a20306d63",
   "metadata": {},
   "outputs": [],
   "source": [
    "from sklearn.model_selection import train_test_split\n",
    "X_train, X_test, y_train, y_test = train_test_split(X, y, test_size=0.2, random_state=42)"
   ]
  },
  {
   "cell_type": "markdown",
   "id": "70576350-3645-4f73-8883-273458b3ae79",
   "metadata": {},
   "source": [
    "### Fitting the model and making predicitions :"
   ]
  },
  {
   "cell_type": "code",
   "execution_count": 103,
   "id": "9be8f20d-a489-4219-b19f-db78e23a3f4b",
   "metadata": {},
   "outputs": [],
   "source": [
    "model = LinearRegression()\n",
    "model.fit(X_train , y_train)\n",
    "y_pred = model.predict(X_test)"
   ]
  },
  {
   "cell_type": "markdown",
   "id": "ddc9d896-8241-41ba-81f6-192b0bea4144",
   "metadata": {},
   "source": [
    "### Evaluating the model"
   ]
  },
  {
   "cell_type": "code",
   "execution_count": 105,
   "id": "c9a91d69-ae58-4462-b1f1-2d05fd3cd4f0",
   "metadata": {},
   "outputs": [
    {
     "name": "stdout",
     "output_type": "stream",
     "text": [
      "mse: 1105156.9022348837,R-squared : 0.10928095338920674\n"
     ]
    }
   ],
   "source": [
    "from sklearn.metrics import mean_squared_error , r2_score\n",
    "mse = mean_squared_error(y_test , y_pred)\n",
    "r2 = r2_score (y_test , y_pred)\n",
    "print(f\"mse: {mse},R-squared : {r2}\")"
   ]
  },
  {
   "cell_type": "code",
   "execution_count": 81,
   "id": "0765772d-d061-4221-8a6d-e449ebcfdbb2",
   "metadata": {},
   "outputs": [
    {
     "data": {
      "image/png": "[encoded data removed]",
      "text/plain": [
       "<Figure size 500x400 with 1 Axes>"
      ]
     },
     "metadata": {},
     "output_type": "display_data"
    }
   ],
   "source": [
    "import matplotlib.pyplot as plt\n",
    "plt.figure(figsize=(5,4))\n",
    "plt.scatter(y_test , y_pred , color= 'teal',alpha=0.6)\n",
    "plt.plot([y_test.min(),y_test.max()],[y_test.min(),y_test.max()]),\n",
    "plt.xlabel(\"Actual\")\n",
    "plt.ylabel(\"Predicted\")\n",
    "plt.title(\"Actual vs predicted\")\n",
    "plt.grid(True)\n",
    "plt.show()\n"
   ]
  },
  {
   "cell_type": "code",
   "execution_count": null,
   "id": "5888b9fe-ac78-45f4-8f1f-d97513c7f0d9",
   "metadata": {},
   "outputs": [],
   "source": []
  }
 ],
 "metadata": {
  "kernelspec": {
   "display_name": "Python [conda env:base] *",
   "language": "python",
   "name": "conda-base-py"
  },
  "language_info": {
   "codemirror_mode": {
    "name": "ipython",
    "version": 3
   },
   "file_extension": ".py",
   "mimetype": "text/x-python",
   "name": "python",
   "nbconvert_exporter": "python",
   "pygments_lexer": "ipython3",
   "version": "3.12.7"
  }
 },
 "nbformat": 4,
 "nbformat_minor": 5
}

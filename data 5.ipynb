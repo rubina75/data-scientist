{
 "cells": [
  {
   "cell_type": "code",
   "execution_count": 23,
   "id": "90cf1fe5-2c82-4659-bf5c-fe41e931aba8",
   "metadata": {},
   "outputs": [
    {
     "name": "stdout",
     "output_type": "stream",
     "text": [
      "['strawberry', 'banana', 'apple']\n"
     ]
    }
   ],
   "source": [
    "fruit= [ 'strawberry', 'banana']\n",
    "fruit.append(\"apple\")\n",
    "print (fruit)"
   ]
  },
  {
   "cell_type": "code",
   "execution_count": 27,
   "id": "fc38c0d7-d50e-4c07-b8c2-6d22b0dc6eef",
   "metadata": {},
   "outputs": [
    {
     "data": {
      "text/plain": [
       "[[1, 2, 3, 4, 5]]"
      ]
     },
     "execution_count": 27,
     "metadata": {},
     "output_type": "execute_result"
    }
   ],
   "source": [
    "list1 = [1, 2, 3, 4, 5]\n",
    "list2 = [6, 7, 8, 9, 10]\n",
    "\n",
    "# use extend() to add elements of list2 at the end of list1 but create new list\n",
    "list3 = []\n",
    "list3.append(list1)\n",
    "list3"
   ]
  },
  {
   "cell_type": "code",
   "execution_count": 29,
   "id": "a6da0d68-1883-46ed-92fb-5a13fab7cfcc",
   "metadata": {},
   "outputs": [
    {
     "data": {
      "text/plain": [
       "1"
      ]
     },
     "execution_count": 29,
     "metadata": {},
     "output_type": "execute_result"
    }
   ],
   "source": [
    "list3[0][0]"
   ]
  },
  {
   "cell_type": "code",
   "execution_count": 31,
   "id": "e70a5eca-046d-4aae-9a5c-82e30ca9009b",
   "metadata": {},
   "outputs": [
    {
     "data": {
      "text/plain": [
       "[1, 2, 3, 4, 5]"
      ]
     },
     "execution_count": 31,
     "metadata": {},
     "output_type": "execute_result"
    }
   ],
   "source": [
    "list3[0]\n"
   ]
  },
  {
   "cell_type": "code",
   "execution_count": 45,
   "id": "9e0e017e-2224-4027-9c20-94b1c2ddac18",
   "metadata": {},
   "outputs": [
    {
     "name": "stdout",
     "output_type": "stream",
     "text": [
      "['strawberry', 'banana', 'apple']\n"
     ]
    }
   ],
   "source": [
    "fruit= [ 'strawberry', 'banana']\n",
    "veg=[ 'carrot', 'tomato', 'potato']\n",
    "fruit.append(\"apple\")\n",
    "print(fruit)"
   ]
  },
  {
   "cell_type": "code",
   "execution_count": 49,
   "id": "9ae192a3-f830-4aaf-8330-1f101e233a5e",
   "metadata": {},
   "outputs": [
    {
     "name": "stdout",
     "output_type": "stream",
     "text": [
      "['strawberry', 'banana', 'apple', 'carrot', 'tomato', 'potato', 'carrot', 'tomato', 'potato']\n"
     ]
    }
   ],
   "source": [
    "fruit.extend(veg)\n",
    "print(fruit)\n"
   ]
  },
  {
   "cell_type": "code",
   "execution_count": 41,
   "id": "c2f50083-1f43-46bb-883b-da08faa7d09f",
   "metadata": {},
   "outputs": [
    {
     "name": "stdout",
     "output_type": "stream",
     "text": [
      "['Apple', 'Sharifa', 'Mango', 'Banana']\n"
     ]
    }
   ],
   "source": [
    "list=['Apple', 'Sharifa', 'Mango', 'Banana', 'WaterMelon']\n",
    "list.pop()\n",
    "print (list)"
   ]
  },
  {
   "cell_type": "code",
   "execution_count": 17,
   "id": "e5cc3c4d-0db9-4abd-9ec2-23da914ca54f",
   "metadata": {},
   "outputs": [
    {
     "data": {
      "text/plain": [
       "[88, 77, 66, 55, 44, 33, 22]"
      ]
     },
     "execution_count": 17,
     "metadata": {},
     "output_type": "execute_result"
    }
   ],
   "source": [
    "#    0   1  2  3  4  5  6  7  8\n",
    "num=[11,22,33,44,55,66,77,88,99]\n",
    " #   -1 -2 -3 -4 -5 -6 -7 -8 -9\n",
    "num[7:0:-1]"
   ]
  },
  {
   "cell_type": "code",
   "execution_count": 21,
   "id": "f65550b9-7e2e-418c-b1c7-46b1fe243eb4",
   "metadata": {},
   "outputs": [
    {
     "data": {
      "text/plain": [
       "[88, 55, 22]"
      ]
     },
     "execution_count": 21,
     "metadata": {},
     "output_type": "execute_result"
    }
   ],
   "source": [
    "num[7:0:-3]"
   ]
  },
  {
   "cell_type": "code",
   "execution_count": 25,
   "id": "1952890a-02d6-44f7-b670-aafef867dbd2",
   "metadata": {},
   "outputs": [
    {
     "data": {
      "text/plain": [
       "[88, 55, 22]"
      ]
     },
     "execution_count": 25,
     "metadata": {},
     "output_type": "execute_result"
    }
   ],
   "source": [
    "num[-2:-9:-3]\n"
   ]
  },
  {
   "cell_type": "code",
   "execution_count": 42,
   "id": "a25d139a-22e5-4a6b-8715-547a47457433",
   "metadata": {},
   "outputs": [
    {
     "name": "stdin",
     "output_type": "stream",
     "text": [
      "Enter a number:  8\n"
     ]
    },
    {
     "data": {
      "text/plain": [
       "[2, 4, 6, 8]"
      ]
     },
     "execution_count": 42,
     "metadata": {},
     "output_type": "execute_result"
    }
   ],
   "source": [
    "def even():\n",
    "    lst=[]\n",
    "    num=int(input('Enter a number: '))\n",
    "    for i in range(1, num+1):\n",
    "        if i%2==0:\n",
    "            lst.append(i)\n",
    "    return lst\n",
    "even()"
   ]
  },
  {
   "cell_type": "code",
   "execution_count": 57,
   "id": "e14df0c1-40b3-47aa-abfe-ce39a5e241f3",
   "metadata": {},
   "outputs": [
    {
     "name": "stdin",
     "output_type": "stream",
     "text": [
      "Enter a number:  -1\n"
     ]
    },
    {
     "name": "stdout",
     "output_type": "stream",
     "text": [
      "negative\n"
     ]
    }
   ],
   "source": [
    "def num():\n",
    "    number=int(input('Enter a number: '))\n",
    "    if number>0:\n",
    "        print('positive')\n",
    "    elif number<0:\n",
    "        print('negative')\n",
    "    else:\n",
    "        print('zero')\n",
    "num()"
   ]
  },
  {
   "cell_type": "code",
   "execution_count": 71,
   "id": "e538d8d4-3d39-4f37-90a6-f90d1015ab5d",
   "metadata": {},
   "outputs": [
    {
     "name": "stdin",
     "output_type": "stream",
     "text": [
      "enter text madam\n"
     ]
    },
    {
     "name": "stdout",
     "output_type": "stream",
     "text": [
      "plaindrome\n"
     ]
    }
   ],
   "source": [
    "def plan():\n",
    "    text= (input ('enter text'))\n",
    "    leng= len(text)\n",
    "    for i  in range(leng//2):\n",
    "        if text[i] == text[leng -i -1]:\n",
    "            print('plaindrome')\n",
    "            break\n",
    "        else:\n",
    "            print('not plaindrome')\n",
    "plan()"
   ]
  },
  {
   "cell_type": "code",
   "execution_count": 69,
   "id": "5351ed3e-a65d-491c-9a7a-2f5a21cf146f",
   "metadata": {},
   "outputs": [
    {
     "name": "stdin",
     "output_type": "stream",
     "text": [
      "enter text sir\n"
     ]
    },
    {
     "name": "stdout",
     "output_type": "stream",
     "text": [
      "false\n"
     ]
    }
   ],
   "source": [
    "def plan():\n",
    "    text= (input ('enter text'))\n",
    "    if text==text[-1::-1]:\n",
    "        print('plaindrome')\n",
    "    else:\n",
    "        print('not plaindrome')\n",
    "plan()"
   ]
  },
  {
   "cell_type": "code",
   "execution_count": null,
   "id": "e6aeba5d-ba2a-4cfe-931f-34abc2697283",
   "metadata": {},
   "outputs": [],
   "source": []
  }
 ],
 "metadata": {
  "kernelspec": {
   "display_name": "Python [conda env:base] *",
   "language": "python",
   "name": "conda-base-py"
  },
  "language_info": {
   "codemirror_mode": {
    "name": "ipython",
    "version": 3
   },
   "file_extension": ".py",
   "mimetype": "text/x-python",
   "name": "python",
   "nbconvert_exporter": "python",
   "pygments_lexer": "ipython3",
   "version": "3.12.7"
  }
 },
 "nbformat": 4,
 "nbformat_minor": 5
}

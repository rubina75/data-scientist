{
 "cells": [
  {
   "cell_type": "code",
   "execution_count": 13,
   "id": "cba469ec-ba27-4524-a512-5178b4b11451",
   "metadata": {},
   "outputs": [
    {
     "name": "stdin",
     "output_type": "stream",
     "text": [
      "enter your num:  4\n",
      "enter your num:  4\n"
     ]
    },
    {
     "name": "stdout",
     "output_type": "stream",
     "text": [
      "The sum of 4 and 4 is 8\n"
     ]
    }
   ],
   "source": [
    "def info (a,b):\n",
    "    c=int(b)\n",
    "    d=a+c\n",
    "    print(f'The sum of {a} and {c} is {d}')\n",
    "\n",
    "a=int(input('enter your num: '))\n",
    "b=input('enter your num: ')\n",
    "\n",
    "\n",
    "info(a,b)"
   ]
  },
  {
   "cell_type": "code",
   "execution_count": 37,
   "id": "97744798-9c2a-440f-8958-bb248e75a017",
   "metadata": {},
   "outputs": [
    {
     "name": "stdin",
     "output_type": "stream",
     "text": [
      "enter a num:  1234\n",
      "enter a num:  2\n"
     ]
    },
    {
     "name": "stdout",
     "output_type": "stream",
     "text": [
      "3\n"
     ]
    }
   ],
   "source": [
    "a=input('enter a num: ')\n",
    "b=int(input('enter a num: '))\n",
    "print(a[b])\n"
   ]
  },
  {
   "cell_type": "markdown",
   "id": "c70ad50a-2b52-434f-8d32-f138113bd1c1",
   "metadata": {},
   "source": [
    "if you want to have a developers mindset"
   ]
  },
  {
   "cell_type": "code",
   "execution_count": 39,
   "id": "dcd08a60-84d5-4e66-903c-b73406255de1",
   "metadata": {},
   "outputs": [
    {
     "name": "stdin",
     "output_type": "stream",
     "text": [
      "enter a num:  1234\n",
      "enter a num:  2\n"
     ]
    },
    {
     "name": "stdout",
     "output_type": "stream",
     "text": [
      "2\n"
     ]
    }
   ],
   "source": [
    "a=input('enter a num: ')\n",
    "b=int(input('enter a num: '))\n",
    "print(a[b-1])"
   ]
  },
  {
   "cell_type": "markdown",
   "id": "f5b1cbb4-0efb-4ab0-935a-0c7b153b5c4f",
   "metadata": {},
   "source": [
    "if you want to have a non developers mindset"
   ]
  },
  {
   "cell_type": "code",
   "execution_count": null,
   "id": "852d4000-1e08-493e-8d99-3d5b25454c60",
   "metadata": {},
   "outputs": [],
   "source": []
  }
 ],
 "metadata": {
  "kernelspec": {
   "display_name": "Python [conda env:base] *",
   "language": "python",
   "name": "conda-base-py"
  },
  "language_info": {
   "codemirror_mode": {
    "name": "ipython",
    "version": 3
   },
   "file_extension": ".py",
   "mimetype": "text/x-python",
   "name": "python",
   "nbconvert_exporter": "python",
   "pygments_lexer": "ipython3",
   "version": "3.12.7"
  }
 },
 "nbformat": 4,
 "nbformat_minor": 5
}

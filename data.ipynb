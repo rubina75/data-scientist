{
 "cells": [
  {
   "cell_type": "code",
   "execution_count": 1,
   "id": "77b46a58-fa1b-4318-9eb5-9515a2465feb",
   "metadata": {},
   "outputs": [],
   "source": [
    "import numpy as np"
   ]
  },
  {
   "cell_type": "code",
   "execution_count": 5,
   "id": "9bf96093-d491-4dcc-9f46-ebba65e339fe",
   "metadata": {},
   "outputs": [
    {
     "data": {
      "text/plain": [
       "array([[ 0,  1,  2,  3,  4,  5,  6,  7,  8],\n",
       "       [ 9, 10, 11, 12, 13, 14, 15, 16, 17],\n",
       "       [18, 19, 20, 21, 22, 23, 24, 25, 26],\n",
       "       [27, 28, 29, 30, 31, 32, 33, 34, 35]])"
      ]
     },
     "execution_count": 5,
     "metadata": {},
     "output_type": "execute_result"
    }
   ],
   "source": [
    "arr2d=np.arange(36).reshape(4,9)\n",
    "arr2d"
   ]
  },
  {
   "cell_type": "code",
   "execution_count": 7,
   "id": "3b6a9437-6051-419f-8911-cde24db300b9",
   "metadata": {},
   "outputs": [
    {
     "data": {
      "text/plain": [
       "array([[ 0,  1],\n",
       "       [ 9, 10],\n",
       "       [18, 19],\n",
       "       [27, 28]])"
      ]
     },
     "execution_count": 7,
     "metadata": {},
     "output_type": "execute_result"
    }
   ],
   "source": [
    "arr2d[0: , 0:2]"
   ]
  },
  {
   "cell_type": "code",
   "execution_count": 9,
   "id": "8c994e3c-1a9d-4e32-90fd-3e77d30dfbfa",
   "metadata": {},
   "outputs": [
    {
     "data": {
      "text/plain": [
       "array([19, 33, 14,  2])"
      ]
     },
     "execution_count": 9,
     "metadata": {},
     "output_type": "execute_result"
    }
   ],
   "source": [
    "arr2d[[2,3,1,0],[1,6,5,2]]"
   ]
  },
  {
   "cell_type": "code",
   "execution_count": 11,
   "id": "7a8f8589-c283-4108-8c14-f4bddd2d5e5c",
   "metadata": {},
   "outputs": [
    {
     "data": {
      "text/plain": [
       "array([30, 16, 20,  4])"
      ]
     },
     "execution_count": 11,
     "metadata": {},
     "output_type": "execute_result"
    }
   ],
   "source": [
    "#[30, 16, 20, 4]\n",
    "arr2d[[3,1,2,0],[3,7,2,4]]"
   ]
  },
  {
   "cell_type": "code",
   "execution_count": 45,
   "id": "16fed21f-facd-4bc5-8cd7-5be5b1638f9f",
   "metadata": {},
   "outputs": [
    {
     "data": {
      "text/plain": [
       "array([[13, 17, 12,  9, 17],\n",
       "       [31, 35, 30, 18, 26]])"
      ]
     },
     "execution_count": 45,
     "metadata": {},
     "output_type": "execute_result"
    }
   ],
   "source": [
    "#13, 17, 12, 9, 17\n",
    "#31, 35, 30, 18, 26\n",
    "arr2d[[1,1,1,1,1,3,3,3,2,2],[4,8,3,0,8,4,8,3,0,8]].reshape(2,5)"
   ]
  },
  {
   "cell_type": "code",
   "execution_count": 87,
   "id": "f43f292d-87ab-48c5-834c-26f723da448d",
   "metadata": {},
   "outputs": [
    {
     "data": {
      "text/plain": [
       "array([[11, 12],\n",
       "       [29, 30]])"
      ]
     },
     "execution_count": 87,
     "metadata": {},
     "output_type": "execute_result"
    }
   ],
   "source": [
    "arr2d[1:4:2, 2:4]"
   ]
  },
  {
   "cell_type": "code",
   "execution_count": 85,
   "id": "a463706c-9740-483b-a12b-ab1dab3a6770",
   "metadata": {},
   "outputs": [
    {
     "data": {
      "text/plain": [
       "array([[11, 12],\n",
       "       [29, 30]])"
      ]
     },
     "execution_count": 85,
     "metadata": {},
     "output_type": "execute_result"
    }
   ],
   "source": [
    "arr2d[1: :2, [2,3]]"
   ]
  },
  {
   "cell_type": "code",
   "execution_count": 89,
   "id": "9c331085-cf05-4bb6-85ac-08155969e2dc",
   "metadata": {},
   "outputs": [
    {
     "data": {
      "text/plain": [
       "array([[13, 17, 12,  9, 17],\n",
       "       [31, 35, 30, 27, 35]])"
      ]
     },
     "execution_count": 89,
     "metadata": {},
     "output_type": "execute_result"
    }
   ],
   "source": [
    "#[13,17,12,9,17]\n",
    "#31,35,30,27,35]\n",
    "arr2d[1:4:2,[4,8,3,0,8]]"
   ]
  },
  {
   "cell_type": "code",
   "execution_count": 91,
   "id": "0955ec89-86b1-4c0f-b051-84ecc4939962",
   "metadata": {},
   "outputs": [
    {
     "data": {
      "text/plain": [
       "array([[13, 17, 12,  9, 17],\n",
       "       [22, 26, 21, 18, 26],\n",
       "       [31, 35, 30, 27, 35]])"
      ]
     },
     "execution_count": 91,
     "metadata": {},
     "output_type": "execute_result"
    }
   ],
   "source": [
    "arr2d[1:4,[4,8,3,0,8]]"
   ]
  },
  {
   "cell_type": "code",
   "execution_count": 93,
   "id": "410a8d7e-9d19-4b08-94ae-f9be60afc536",
   "metadata": {},
   "outputs": [
    {
     "data": {
      "text/plain": [
       "array([[ 8,  6,  4,  2,  0],\n",
       "       [17, 15, 13, 11,  9],\n",
       "       [26, 24, 22, 20, 18],\n",
       "       [35, 33, 31, 29, 27]])"
      ]
     },
     "execution_count": 93,
     "metadata": {},
     "output_type": "execute_result"
    }
   ],
   "source": [
    "arr2d[ : ,: :-2]"
   ]
  },
  {
   "cell_type": "code",
   "execution_count": 95,
   "id": "b5f97622-45ca-4184-980f-976a34a31998",
   "metadata": {},
   "outputs": [
    {
     "data": {
      "text/plain": [
       "array([[ 8,  6,  4,  2,  0],\n",
       "       [17, 15, 13, 11,  9],\n",
       "       [26, 24, 22, 20, 18],\n",
       "       [35, 33, 31, 29, 27]])"
      ]
     },
     "execution_count": 95,
     "metadata": {},
     "output_type": "execute_result"
    }
   ],
   "source": [
    "arr2d[:,-1: : -2]"
   ]
  },
  {
   "cell_type": "code",
   "execution_count": 99,
   "id": "14bcd3b1-8784-465d-8478-4e7d04f67068",
   "metadata": {},
   "outputs": [
    {
     "data": {
      "text/plain": [
       "array([[ 0,  1,  2,  3,  4,  5,  6,  7,  8],\n",
       "       [ 9, 10, 11, 12, 13, 14, 15, 16, 17],\n",
       "       [18, 19, 20, 21, 22, 23, 24, 25, 26],\n",
       "       [27, 28, 29, 30, 31, 32, 33, 34, 35]])"
      ]
     },
     "execution_count": 99,
     "metadata": {},
     "output_type": "execute_result"
    }
   ],
   "source": [
    "arr2d=np.arange(36).reshape(4,9)\n",
    "arr2d"
   ]
  },
  {
   "cell_type": "code",
   "execution_count": 103,
   "id": "e01ee4e7-fbe8-45d3-b651-7b6de45c2904",
   "metadata": {},
   "outputs": [
    {
     "data": {
      "text/plain": [
       "22"
      ]
     },
     "execution_count": 103,
     "metadata": {},
     "output_type": "execute_result"
    }
   ],
   "source": [
    "#22\n",
    "arr2d[2][4]"
   ]
  },
  {
   "cell_type": "code",
   "execution_count": 127,
   "id": "f46f33d5-e6de-4f46-be0a-a33ef8732b43",
   "metadata": {},
   "outputs": [
    {
     "data": {
      "text/plain": [
       "array([[0, 3, 4, 6]])"
      ]
     },
     "execution_count": 127,
     "metadata": {},
     "output_type": "execute_result"
    }
   ],
   "source": [
    "#0,3,4,6\n",
    "arr2d[:1:,[0,3,4,6]]"
   ]
  },
  {
   "cell_type": "code",
   "execution_count": 131,
   "id": "52514121-006a-4e84-84a9-1e3096e51951",
   "metadata": {},
   "outputs": [
    {
     "data": {
      "text/plain": [
       "array([[1, 2, 3]])"
      ]
     },
     "execution_count": 131,
     "metadata": {},
     "output_type": "execute_result"
    }
   ],
   "source": [
    "#1,2,3\n",
    "arr2d[:1:,[1,2,3]]"
   ]
  },
  {
   "cell_type": "code",
   "execution_count": 139,
   "id": "8a9085a5-33f0-4550-9f13-e9eb3f86577e",
   "metadata": {},
   "outputs": [
    {
     "data": {
      "text/plain": [
       "array([[ 1,  2,  3],\n",
       "       [10, 11, 12],\n",
       "       [19, 20, 21]])"
      ]
     },
     "execution_count": 139,
     "metadata": {},
     "output_type": "execute_result"
    }
   ],
   "source": [
    "#1,2,3\n",
    "#10,11,12\n",
    "#19,20,21\n",
    "arr2d[:3:,[1,2,3]]"
   ]
  },
  {
   "cell_type": "code",
   "execution_count": 141,
   "id": "ee1df8fd-b77a-4582-b2b1-9a3d6183a788",
   "metadata": {},
   "outputs": [
    {
     "data": {
      "text/plain": [
       "array([[[ 0,  1,  2,  3],\n",
       "        [ 4,  5,  6,  7],\n",
       "        [ 8,  9, 10, 11],\n",
       "        [12, 13, 14, 15]],\n",
       "\n",
       "       [[16, 17, 18, 19],\n",
       "        [20, 21, 22, 23],\n",
       "        [24, 25, 26, 27],\n",
       "        [28, 29, 30, 31]],\n",
       "\n",
       "       [[32, 33, 34, 35],\n",
       "        [36, 37, 38, 39],\n",
       "        [40, 41, 42, 43],\n",
       "        [44, 45, 46, 47]],\n",
       "\n",
       "       [[48, 49, 50, 51],\n",
       "        [52, 53, 54, 55],\n",
       "        [56, 57, 58, 59],\n",
       "        [60, 61, 62, 63]]])"
      ]
     },
     "execution_count": 141,
     "metadata": {},
     "output_type": "execute_result"
    }
   ],
   "source": [
    "arr3d=np.arange(64).reshape(4,4,4)\n",
    "arr3d"
   ]
  },
  {
   "cell_type": "code",
   "execution_count": 145,
   "id": "876f6fc4-a204-4316-85ed-6ef6999357b5",
   "metadata": {},
   "outputs": [
    {
     "data": {
      "text/plain": [
       "26"
      ]
     },
     "execution_count": 145,
     "metadata": {},
     "output_type": "execute_result"
    }
   ],
   "source": [
    "arr3d[1,2,2]"
   ]
  },
  {
   "cell_type": "code",
   "execution_count": 147,
   "id": "684d4e43-b554-4a75-aca8-65fb64a8f69c",
   "metadata": {},
   "outputs": [
    {
     "data": {
      "text/plain": [
       "55"
      ]
     },
     "execution_count": 147,
     "metadata": {},
     "output_type": "execute_result"
    }
   ],
   "source": [
    "arr3d[3][1][3]"
   ]
  },
  {
   "cell_type": "code",
   "execution_count": 153,
   "id": "5b1d43e5-c913-4ee9-aac6-7933e415a5d0",
   "metadata": {},
   "outputs": [
    {
     "data": {
      "text/plain": [
       "array([[[46]],\n",
       "\n",
       "       [[62]]])"
      ]
     },
     "execution_count": 153,
     "metadata": {},
     "output_type": "execute_result"
    }
   ],
   "source": [
    "arr3d[2:,3:,2:3]"
   ]
  },
  {
   "cell_type": "code",
   "execution_count": 155,
   "id": "14235863-7743-4617-b01c-b8dd06369917",
   "metadata": {},
   "outputs": [
    {
     "data": {
      "text/plain": [
       "array([[[46, 47]],\n",
       "\n",
       "       [[62, 63]]])"
      ]
     },
     "execution_count": 155,
     "metadata": {},
     "output_type": "execute_result"
    }
   ],
   "source": [
    "arr3d[2:,3:,2:]"
   ]
  },
  {
   "cell_type": "markdown",
   "id": "b853373b-72bb-4027-934e-2831a2c65e59",
   "metadata": {},
   "source": [
    "q k hum nay kuvh nhi likha hai is liye is ka mutlab hai all select karo tou wo detect nhi ho ga.or jo cheez present hai wo a jai gee."
   ]
  },
  {
   "cell_type": "code",
   "execution_count": 165,
   "id": "5f944042-1e63-4d19-8438-e1e3f13de097",
   "metadata": {},
   "outputs": [
    {
     "data": {
      "text/plain": [
       "array([[[26]]])"
      ]
     },
     "execution_count": 165,
     "metadata": {},
     "output_type": "execute_result"
    }
   ],
   "source": [
    "arr3d[1:2,2:3,2:3]"
   ]
  },
  {
   "cell_type": "code",
   "execution_count": null,
   "id": "04399ca2-e903-4793-97d9-83ccf7b19861",
   "metadata": {},
   "outputs": [],
   "source": []
  }
 ],
 "metadata": {
  "kernelspec": {
   "display_name": "Python [conda env:base] *",
   "language": "python",
   "name": "conda-base-py"
  },
  "language_info": {
   "codemirror_mode": {
    "name": "ipython",
    "version": 3
   },
   "file_extension": ".py",
   "mimetype": "text/x-python",
   "name": "python",
   "nbconvert_exporter": "python",
   "pygments_lexer": "ipython3",
   "version": "3.12.7"
  }
 },
 "nbformat": 4,
 "nbformat_minor": 5
}

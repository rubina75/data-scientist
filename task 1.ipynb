{
 "cells": [
  {
   "cell_type": "code",
   "execution_count": 2,
   "id": "d14b2a1e-af35-4bda-91ca-6405f3d3fdc1",
   "metadata": {},
   "outputs": [
    {
     "data": {
      "text/plain": [
       "{1, 2, 3, 4, 5}"
      ]
     },
     "execution_count": 2,
     "metadata": {},
     "output_type": "execute_result"
    }
   ],
   "source": [
    "a={1,2,3}\n",
    "b={3,4,5}\n",
    "a.union(b)\n",
    "    "
   ]
  },
  {
   "cell_type": "code",
   "execution_count": 4,
   "id": "4ccdc748-9089-4301-b314-267a0055c255",
   "metadata": {},
   "outputs": [
    {
     "data": {
      "text/plain": [
       "{3}"
      ]
     },
     "execution_count": 4,
     "metadata": {},
     "output_type": "execute_result"
    }
   ],
   "source": [
    "a.intersection(b)"
   ]
  },
  {
   "cell_type": "code",
   "execution_count": 6,
   "id": "6a607a18-7112-419a-b7a1-ec54cd35af6f",
   "metadata": {},
   "outputs": [
    {
     "data": {
      "text/plain": [
       "{1, 2}"
      ]
     },
     "execution_count": 6,
     "metadata": {},
     "output_type": "execute_result"
    }
   ],
   "source": [
    "a.difference(b)"
   ]
  },
  {
   "cell_type": "code",
   "execution_count": 8,
   "id": "3dd9c511-5818-4b06-9db2-e92ba2a516ad",
   "metadata": {},
   "outputs": [
    {
     "data": {
      "text/plain": [
       "{4, 5}"
      ]
     },
     "execution_count": 8,
     "metadata": {},
     "output_type": "execute_result"
    }
   ],
   "source": [
    "b.difference(a)"
   ]
  },
  {
   "cell_type": "code",
   "execution_count": 16,
   "id": "8297d1d0-01cc-42d9-9b64-f3679d305e63",
   "metadata": {},
   "outputs": [
    {
     "data": {
      "text/plain": [
       "{1, 2, 4, 5}"
      ]
     },
     "execution_count": 16,
     "metadata": {},
     "output_type": "execute_result"
    }
   ],
   "source": [
    "a.symmetric_difference(b)"
   ]
  },
  {
   "cell_type": "code",
   "execution_count": 18,
   "id": "92fa091b-737e-4615-a556-e41ea6c7cce8",
   "metadata": {},
   "outputs": [
    {
     "data": {
      "text/plain": [
       "{1, 2, 4, 5}"
      ]
     },
     "execution_count": 18,
     "metadata": {},
     "output_type": "execute_result"
    }
   ],
   "source": [
    "b.symmetric_difference(a)"
   ]
  },
  {
   "cell_type": "code",
   "execution_count": 20,
   "id": "df366aba-b853-48e9-b64d-4c3940971295",
   "metadata": {},
   "outputs": [
    {
     "name": "stdout",
     "output_type": "stream",
     "text": [
      "{1, 'h', 3, 4, 5, 'a'}\n"
     ]
    }
   ],
   "source": [
    "dup=[1,'h',3,3,'h',5,3,4,5,'a','a']\n",
    "dup=set(dup)\n",
    "print(dup) # duplicate nhi hoga character ek br hoga per is ka orer change ho jae ga is liye prefer nhi kartay "
   ]
  },
  {
   "cell_type": "code",
   "execution_count": 28,
   "id": "3a6fbb74-9e71-4736-b910-6620ee61a870",
   "metadata": {},
   "outputs": [
    {
     "name": "stdout",
     "output_type": "stream",
     "text": [
      "[1, 'h', 3, 4, 5, 'a']\n"
     ]
    }
   ],
   "source": [
    "n_dup=[]\n",
    "for i in dup:\n",
    "    if i not in n_dup:\n",
    "        n_dup.append(i)\n",
    "print(n_dup)"
   ]
  },
  {
   "cell_type": "code",
   "execution_count": null,
   "id": "d0c5a1a2-0957-4e5b-8d1a-19b97e9aad8d",
   "metadata": {},
   "outputs": [],
   "source": [
    "def dupli():\n",
    "    a=[1,'h',3,3,'h',5,3,4,5,'a','a']"
   ]
  },
  {
   "cell_type": "code",
   "execution_count": 74,
   "id": "50bee94e-6593-4d9c-a5a9-c654ba8050cc",
   "metadata": {},
   "outputs": [
    {
     "name": "stdin",
     "output_type": "stream",
     "text": [
      "enter a text Hello World\n"
     ]
    },
    {
     "name": "stdout",
     "output_type": "stream",
     "text": [
      "8 2\n"
     ]
    }
   ],
   "source": [
    "def case_count():\n",
    "    upper=[]\n",
    "    lower=[]\n",
    "    a=input('enter a text')\n",
    "    a=a.replace(' ','')\n",
    "    for i in a:\n",
    "        if i.isupper():\n",
    "            upper.append(i)\n",
    "        else:\n",
    "            lower.append(i)\n",
    "    lowercase=len(lower)\n",
    "    uppercase=len(upper)\n",
    "    print(lowercase,uppercase)\n",
    "case_count()\n",
    "        \n",
    "            \n"
   ]
  },
  {
   "cell_type": "code",
   "execution_count": 70,
   "id": "3d8279ab-c2e2-48f6-a272-d233aa33cc22",
   "metadata": {},
   "outputs": [
    {
     "name": "stdin",
     "output_type": "stream",
     "text": [
      "enter a string hgdfhGFfkmLK\n"
     ]
    },
    {
     "name": "stdout",
     "output_type": "stream",
     "text": [
      "{'uppercase': 4, 'lowercase': 8}\n"
     ]
    }
   ],
   "source": [
    "def case_count(str):\n",
    "    uppercase=0\n",
    "    lowercase=0\n",
    "    str=str.replace(' ','')\n",
    "    for i in str:\n",
    "        if i.isupper()==True:\n",
    "            uppercase+=1\n",
    "        else:\n",
    "            lowercase+=1\n",
    "    return{'uppercase':uppercase,'lowercase':lowercase}\n",
    "a=input('enter a string')\n",
    "print(case_count(a))"
   ]
  },
  {
   "cell_type": "code",
   "execution_count": null,
   "id": "1b46e167-921b-4612-aac7-abb9c4f392dd",
   "metadata": {},
   "outputs": [],
   "source": []
  }
 ],
 "metadata": {
  "kernelspec": {
   "display_name": "Python [conda env:base] *",
   "language": "python",
   "name": "conda-base-py"
  },
  "language_info": {
   "codemirror_mode": {
    "name": "ipython",
    "version": 3
   },
   "file_extension": ".py",
   "mimetype": "text/x-python",
   "name": "python",
   "nbconvert_exporter": "python",
   "pygments_lexer": "ipython3",
   "version": "3.12.7"
  }
 },
 "nbformat": 4,
 "nbformat_minor": 5
}

{
 "cells": [
  {
   "cell_type": "code",
   "execution_count": 3,
   "id": "bcb87502-dbdd-4d45-ad2a-4d3e009a973d",
   "metadata": {},
   "outputs": [],
   "source": [
    "import numpy as np\n",
    "import tensorflow as tf\n",
    "from tensorflow.keras.models import Sequential\n",
    "from tensorflow.keras.layers import Dense\n",
    "from sklearn.model_selection import train_test_split"
   ]
  },
  {
   "cell_type": "code",
   "execution_count": 5,
   "id": "5bb0ad60-40c7-43d8-a6a8-75f0615f01a8",
   "metadata": {},
   "outputs": [],
   "source": [
    "from sklearn.datasets import load_wine\n",
    "wine = load_wine()"
   ]
  },
  {
   "cell_type": "code",
   "execution_count": 7,
   "id": "cf211744-ec32-4ad9-b572-b92a733053f4",
   "metadata": {},
   "outputs": [],
   "source": [
    "X=wine.data\n",
    "y = wine.target"
   ]
  },
  {
   "cell_type": "code",
   "execution_count": 57,
   "id": "3c5283f3-a2cd-4c67-86d1-3a3e07d42aa5",
   "metadata": {},
   "outputs": [],
   "source": [
    "X_train , X_test , y_train , y_test = train_test_split(X, y, test_size = 0.2)"
   ]
  },
  {
   "cell_type": "code",
   "execution_count": 75,
   "id": "216fd439-a809-41bf-9567-d3b59ec75013",
   "metadata": {},
   "outputs": [],
   "source": [
    "model = Sequential()\n",
    "model.add(Dense(64,activation='relu',input_shape=(X_train.shape[1],)))\n",
    "model.add (Dense (32,activation = 'relu'))\n",
    "model.add(Dense(1, activation = 'softmax'))  #output layer (regression task)"
   ]
  },
  {
   "cell_type": "code",
   "execution_count": 77,
   "id": "f03ccc14-30a0-46f8-8af6-3a5ff65a5c67",
   "metadata": {},
   "outputs": [],
   "source": [
    "model.compile(optimizer='adam',loss='mean_squared_error',metrics=['mae'])"
   ]
  },
  {
   "cell_type": "code",
   "execution_count": 79,
   "id": "49c1c0e0-0192-4f3d-b3b1-7579789fd91e",
   "metadata": {},
   "outputs": [
    {
     "name": "stdout",
     "output_type": "stream",
     "text": [
      "Epoch 1/10\n",
      "\u001b[1m4/4\u001b[0m \u001b[32m━━━━━━━━━━━━━━━━━━━━\u001b[0m\u001b[37m\u001b[0m \u001b[1m1s\u001b[0m 83ms/step - loss: 0.6074 - mae: 0.6074 - val_loss: 0.6207 - val_mae: 0.6207\n",
      "Epoch 2/10\n",
      "\u001b[1m4/4\u001b[0m \u001b[32m━━━━━━━━━━━━━━━━━━━━\u001b[0m\u001b[37m\u001b[0m \u001b[1m0s\u001b[0m 31ms/step - loss: 0.6313 - mae: 0.6313 - val_loss: 0.6207 - val_mae: 0.6207\n",
      "Epoch 3/10\n",
      "\u001b[1m4/4\u001b[0m \u001b[32m━━━━━━━━━━━━━━━━━━━━\u001b[0m\u001b[37m\u001b[0m \u001b[1m0s\u001b[0m 36ms/step - loss: 0.6063 - mae: 0.6063 - val_loss: 0.6207 - val_mae: 0.6207\n",
      "Epoch 4/10\n",
      "\u001b[1m4/4\u001b[0m \u001b[32m━━━━━━━━━━━━━━━━━━━━\u001b[0m\u001b[37m\u001b[0m \u001b[1m0s\u001b[0m 32ms/step - loss: 0.5938 - mae: 0.5938 - val_loss: 0.6207 - val_mae: 0.6207\n",
      "Epoch 5/10\n",
      "\u001b[1m4/4\u001b[0m \u001b[32m━━━━━━━━━━━━━━━━━━━━\u001b[0m\u001b[37m\u001b[0m \u001b[1m0s\u001b[0m 30ms/step - loss: 0.6188 - mae: 0.6188 - val_loss: 0.6207 - val_mae: 0.6207\n",
      "Epoch 6/10\n",
      "\u001b[1m4/4\u001b[0m \u001b[32m━━━━━━━━━━━━━━━━━━━━\u001b[0m\u001b[37m\u001b[0m \u001b[1m0s\u001b[0m 46ms/step - loss: 0.5865 - mae: 0.5865 - val_loss: 0.6207 - val_mae: 0.6207\n",
      "Epoch 7/10\n",
      "\u001b[1m4/4\u001b[0m \u001b[32m━━━━━━━━━━━━━━━━━━━━\u001b[0m\u001b[37m\u001b[0m \u001b[1m0s\u001b[0m 56ms/step - loss: 0.5459 - mae: 0.5459 - val_loss: 0.6207 - val_mae: 0.6207\n",
      "Epoch 8/10\n",
      "\u001b[1m4/4\u001b[0m \u001b[32m━━━━━━━━━━━━━━━━━━━━\u001b[0m\u001b[37m\u001b[0m \u001b[1m0s\u001b[0m 33ms/step - loss: 0.5720 - mae: 0.5720 - val_loss: 0.6207 - val_mae: 0.6207\n",
      "Epoch 9/10\n",
      "\u001b[1m4/4\u001b[0m \u001b[32m━━━━━━━━━━━━━━━━━━━━\u001b[0m\u001b[37m\u001b[0m \u001b[1m0s\u001b[0m 42ms/step - loss: 0.6501 - mae: 0.6501 - val_loss: 0.6207 - val_mae: 0.6207\n",
      "Epoch 10/10\n",
      "\u001b[1m4/4\u001b[0m \u001b[32m━━━━━━━━━━━━━━━━━━━━\u001b[0m\u001b[37m\u001b[0m \u001b[1m0s\u001b[0m 33ms/step - loss: 0.5897 - mae: 0.5897 - val_loss: 0.6207 - val_mae: 0.6207\n"
     ]
    }
   ],
   "source": [
    "history = model.fit(X_train , y_train , epochs=10,batch_size=32,validation_split = 0.2)"
   ]
  },
  {
   "cell_type": "code",
   "execution_count": 87,
   "id": "d6d4ede4-0683-43a0-9ca0-59ab678197a7",
   "metadata": {},
   "outputs": [
    {
     "name": "stdout",
     "output_type": "stream",
     "text": [
      "\u001b[1m2/2\u001b[0m \u001b[32m━━━━━━━━━━━━━━━━━━━━\u001b[0m\u001b[37m\u001b[0m \u001b[1m0s\u001b[0m 26ms/step - loss: 0.5660 - mae: 0.5660\n",
      "mean absoute error : 0.5833333134651184\n"
     ]
    }
   ],
   "source": [
    "loss,mae= model.evaluate(X_test,y_test)\n",
    "print(f\"mean absoute error : {mae}\")\n",
    "\n",
    "\n",
    "  "
   ]
  },
  {
   "cell_type": "code",
   "execution_count": null,
   "id": "d8bda3dd-3f6c-4d3c-be46-7d067e66e813",
   "metadata": {},
   "outputs": [],
   "source": []
  }
 ],
 "metadata": {
  "kernelspec": {
   "display_name": "Python [conda env:base] *",
   "language": "python",
   "name": "conda-base-py"
  },
  "language_info": {
   "codemirror_mode": {
    "name": "ipython",
    "version": 3
   },
   "file_extension": ".py",
   "mimetype": "text/x-python",
   "name": "python",
   "nbconvert_exporter": "python",
   "pygments_lexer": "ipython3",
   "version": "3.12.7"
  }
 },
 "nbformat": 4,
 "nbformat_minor": 5
}

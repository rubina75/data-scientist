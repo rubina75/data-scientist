{
 "cells": [
  {
   "cell_type": "code",
   "execution_count": 1,
   "id": "365f0d7c-25b8-41cb-898a-006ca0930f41",
   "metadata": {},
   "outputs": [],
   "source": [
    "import pandas as pd\n",
    "import numpy as np"
   ]
  },
  {
   "cell_type": "code",
   "execution_count": 108,
   "id": "7ace53a1-d595-4781-afce-f38a5a5d8331",
   "metadata": {},
   "outputs": [
    {
     "name": "stdout",
     "output_type": "stream",
     "text": [
      "The number 10 is Even.\n"
     ]
    }
   ],
   "source": [
    "# Qno 1 : write a function that checks wheather a even no odd in python\n",
    "def check_even_odd(number):\n",
    "    if number % 2 == 0:\n",
    "        return \"Even\"\n",
    "    else:\n",
    "        return \"Odd\"\n",
    "num = 10\n",
    "print(f\"The number {num} is {check_even_odd(num)}.\")"
   ]
  },
  {
   "cell_type": "code",
   "execution_count": 114,
   "id": "865508d1-47df-49c5-9e1c-851b95d54035",
   "metadata": {},
   "outputs": [
    {
     "name": "stdout",
     "output_type": "stream",
     "text": [
      "The sum of the numbers is 22.\n"
     ]
    }
   ],
   "source": [
    "# Qno 2 : write a function that takes a list of numbers and returns a sum of numbers\n",
    "def sum_of_numbers(numbers):\n",
    "    return sum(numbers)\n",
    "numbers_list = [1, 7, 2, 4, 8]\n",
    "print(f\"The sum of the numbers is {sum_of_numbers(numbers_list)}.\")"
   ]
  },
  {
   "cell_type": "code",
   "execution_count": 132,
   "id": "42353f3d-59a2-4fe9-ae83-3e1f6d4e6856",
   "metadata": {},
   "outputs": [
    {
     "name": "stdin",
     "output_type": "stream",
     "text": [
      "Enter username:  RUBINA\n",
      "Enter password:  BDA24S003\n"
     ]
    },
    {
     "name": "stdout",
     "output_type": "stream",
     "text": [
      "Incorrect username or password. Please try again.\n"
     ]
    },
    {
     "name": "stdin",
     "output_type": "stream",
     "text": [
      "Enter username:  RUBINA\n",
      "Enter password:  BDA24S\n"
     ]
    },
    {
     "name": "stdout",
     "output_type": "stream",
     "text": [
      "Access granted!\n"
     ]
    }
   ],
   "source": [
    "# qno3\n",
    "def verify_user():\n",
    "    correct_username = \"RUBINA\"  \n",
    "    correct_password = \"BDA24S\"\n",
    "\n",
    "    while True:\n",
    "        username = input(\"Enter username: \")\n",
    "        password = input(\"Enter password: \")\n",
    "        if username == correct_username and password == correct_password:\n",
    "            print(\"Access granted!\")\n",
    "            break\n",
    "        else:\n",
    "            print(\"Incorrect username or password. Please try again.\")\n",
    "verify_user()\n"
   ]
  },
  {
   "cell_type": "code",
   "execution_count": 116,
   "id": "c28b6ad3-04fd-4c5d-9f03-717f009bc79f",
   "metadata": {},
   "outputs": [
    {
     "data": {
      "text/plain": [
       "[(1, 2, 3, 4, 5, 6, 7, 8, 9, 10)]"
      ]
     },
     "execution_count": 116,
     "metadata": {},
     "output_type": "execute_result"
    }
   ],
   "source": [
    "# Qno 5: create a numpy array of 10 random integers between 1 and 100 and find the mean and standred diaviation \n",
    "import numpy as np\n",
    "arr= [(1,2,3,4,5,6,7,8,9,10)]\n",
    "arr"
   ]
  },
  {
   "cell_type": "code",
   "execution_count": 126,
   "id": "84f11454-30f4-4433-aa96-e6df0bc7c347",
   "metadata": {},
   "outputs": [
    {
     "data": {
      "text/plain": [
       "5.5"
      ]
     },
     "execution_count": 126,
     "metadata": {},
     "output_type": "execute_result"
    }
   ],
   "source": [
    "mean=np.mean(arr)\n",
    "mean"
   ]
  },
  {
   "cell_type": "code",
   "execution_count": 128,
   "id": "db6c8d49-aee2-4562-9e38-3dbec795a949",
   "metadata": {},
   "outputs": [
    {
     "data": {
      "text/plain": [
       "2.8722813232690143"
      ]
     },
     "execution_count": 128,
     "metadata": {},
     "output_type": "execute_result"
    }
   ],
   "source": [
    "std=np.std(arr)\n",
    "std"
   ]
  },
  {
   "cell_type": "code",
   "execution_count": 42,
   "id": "14516bc6-dfc4-4695-9ff8-4e10bfe43ad5",
   "metadata": {},
   "outputs": [
    {
     "data": {
      "text/plain": [
       "[[1, 2, 3], [4, 5, 6]]"
      ]
     },
     "execution_count": 42,
     "metadata": {},
     "output_type": "execute_result"
    }
   ],
   "source": [
    "# qno 8\n",
    "array= [[1,2,3],[4,5,6]]\n",
    "array"
   ]
  },
  {
   "cell_type": "code",
   "execution_count": 88,
   "id": "1fb8a3e4-8c3b-4e88-ba0e-166e3e33c838",
   "metadata": {},
   "outputs": [
    {
     "data": {
      "text/plain": [
       "array([[1., 0., 0.],\n",
       "       [0., 1., 0.],\n",
       "       [0., 0., 1.]])"
      ]
     },
     "execution_count": 88,
     "metadata": {},
     "output_type": "execute_result"
    }
   ],
   "source": [
    "# QNO6\n",
    "np.eye(3,3)"
   ]
  },
  {
   "cell_type": "code",
   "execution_count": 136,
   "id": "0fe3d721-b97c-41c8-833b-8897086b8fc5",
   "metadata": {},
   "outputs": [
    {
     "data": {
      "text/plain": [
       "array([[0.20005516, 0.3933143 , 0.76221349, 0.97589755],\n",
       "       [0.15809301, 0.6688389 , 0.67629806, 0.7971535 ],\n",
       "       [0.89820983, 0.09933957, 0.81963895, 0.51477829],\n",
       "       [0.90465925, 0.65593687, 0.06583871, 0.63157335]])"
      ]
     },
     "execution_count": 136,
     "metadata": {},
     "output_type": "execute_result"
    }
   ],
   "source": [
    "# qno9\n",
    "np.random.rand(4,4)"
   ]
  },
  {
   "cell_type": "code",
   "execution_count": 138,
   "id": "01722d7b-7666-4582-ad56-74d45036b91c",
   "metadata": {},
   "outputs": [
    {
     "data": {
      "text/plain": [
       "array([ 1,  2,  3,  4,  5,  6,  7,  8,  9, 10, 11, 12, 13, 14, 15, 16, 17,\n",
       "       18, 19, 20, 21, 22, 23, 24, 25])"
      ]
     },
     "execution_count": 138,
     "metadata": {},
     "output_type": "execute_result"
    }
   ],
   "source": [
    "# qno 7\n",
    "array2=np.arange(1,26)\n",
    "array2"
   ]
  },
  {
   "cell_type": "raw",
   "id": "d13c558f-3751-4eea-a327-6b4f976e9684",
   "metadata": {},
   "source": [
    "array2.reshape(5,5)"
   ]
  },
  {
   "cell_type": "code",
   "execution_count": null,
   "id": "b96c8b1e-73bd-4cc1-9bfb-349ef1d70771",
   "metadata": {},
   "outputs": [],
   "source": []
  }
 ],
 "metadata": {
  "kernelspec": {
   "display_name": "Python [conda env:base] *",
   "language": "python",
   "name": "conda-base-py"
  },
  "language_info": {
   "codemirror_mode": {
    "name": "ipython",
    "version": 3
   },
   "file_extension": ".py",
   "mimetype": "text/x-python",
   "name": "python",
   "nbconvert_exporter": "python",
   "pygments_lexer": "ipython3",
   "version": "3.12.7"
  }
 },
 "nbformat": 4,
 "nbformat_minor": 5
}

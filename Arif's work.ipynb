{
 "cells": [
  {
   "cell_type": "code",
   "execution_count": 118,
   "id": "b590f458-d17c-468d-af78-74dd8caa11e4",
   "metadata": {},
   "outputs": [],
   "source": [
    "def sum(a,b):\n",
    "    a = 3 \n",
    "    b = 4 \n",
    "    return a+b"
   ]
  },
  {
   "cell_type": "code",
   "execution_count": 119,
   "id": "a7b88be8-29da-486d-a5da-e772cb29dc69",
   "metadata": {},
   "outputs": [
    {
     "name": "stdout",
     "output_type": "stream",
     "text": [
      "x inside : 10\n",
      "x outside: global\n"
     ]
    }
   ],
   "source": [
    "x = \"global\"\n",
    "def f():\n",
    "    x = 10\n",
    "    print(\"x inside :\", x)\n",
    "f()\n",
    "print(\"x outside:\", x)"
   ]
  },
  {
   "cell_type": "code",
   "execution_count": 120,
   "id": "e150aeac-a79b-4e97-9f3c-87ad637e6505",
   "metadata": {},
   "outputs": [],
   "source": [
    "num = \"global\"\n",
    "def f3():\n",
    "    global x\n",
    "    y = \"local\"\n",
    "    x = num * 2\n",
    "    \n"
   ]
  },
  {
   "cell_type": "code",
   "execution_count": 121,
   "id": "f135d797-e158-44d3-bde5-abb63359e88b",
   "metadata": {},
   "outputs": [
    {
     "name": "stdout",
     "output_type": "stream",
     "text": [
      "zero factorial 1\n"
     ]
    },
    {
     "data": {
      "text/plain": [
       "120"
      ]
     },
     "execution_count": 121,
     "metadata": {},
     "output_type": "execute_result"
    }
   ],
   "source": [
    "# write a program to perform factorial using recursion function\n",
    "def fact(x):\n",
    "    if x==0:\n",
    "        result = 1\n",
    "    else :\n",
    "        result = x * fact(x-1)\n",
    "    return result\n",
    "print(\"zero factorial\",fact(0))\n",
    "fact(5)"
   ]
  },
  {
   "cell_type": "code",
   "execution_count": 122,
   "id": "99107855-baa4-4386-aa85-4ef70ff2d724",
   "metadata": {},
   "outputs": [
    {
     "data": {
      "text/plain": [
       "'mrcet'"
      ]
     },
     "execution_count": 122,
     "metadata": {},
     "output_type": "execute_result"
    }
   ],
   "source": [
    "a=str(\"mrcet\")\n",
    "a"
   ]
  },
  {
   "cell_type": "code",
   "execution_count": 123,
   "id": "d6c389c6-6ecb-4b10-bf60-caad5fa10e1b",
   "metadata": {},
   "outputs": [
    {
     "data": {
      "text/plain": [
       "'r'"
      ]
     },
     "execution_count": 123,
     "metadata": {},
     "output_type": "execute_result"
    }
   ],
   "source": [
    "nam = 'arif hussain'\n",
    "nam[1:7:8]"
   ]
  },
  {
   "cell_type": "code",
   "execution_count": 124,
   "id": "db6622f3-558a-4e4b-846c-0de94dafb636",
   "metadata": {},
   "outputs": [
    {
     "data": {
      "text/plain": [
       "'if hussain'"
      ]
     },
     "execution_count": 124,
     "metadata": {},
     "output_type": "execute_result"
    }
   ],
   "source": [
    "name = 'arif hussain'\n",
    "name[2:]"
   ]
  },
  {
   "cell_type": "code",
   "execution_count": 125,
   "id": "493ed9e7-74d2-4f69-aa6a-74c5fd615054",
   "metadata": {},
   "outputs": [
    {
     "ename": "SyntaxError",
     "evalue": "unterminated string literal (detected at line 1) (1005914375.py, line 1)",
     "output_type": "error",
     "traceback": [
      "\u001b[1;36m  Cell \u001b[1;32mIn[125], line 1\u001b[1;36m\u001b[0m\n\u001b[1;33m    'name.find('i')\u001b[0m\n\u001b[1;37m                 ^\u001b[0m\n\u001b[1;31mSyntaxError\u001b[0m\u001b[1;31m:\u001b[0m unterminated string literal (detected at line 1)\n"
     ]
    }
   ],
   "source": [
    "'name.find('i')"
   ]
  },
  {
   "cell_type": "code",
   "execution_count": null,
   "id": "b3a72a81-f3cf-4c24-9b8a-622eb33cb209",
   "metadata": {},
   "outputs": [],
   "source": [
    "my_name = 'my name is arif hussain '\n",
    "my_name.replace('my name is arif hussain ', 'my name is arif hussain and my brothers name is nasir')\n"
   ]
  },
  {
   "cell_type": "code",
   "execution_count": null,
   "id": "22b058a9-58bd-4520-a210-2b7ff296f053",
   "metadata": {},
   "outputs": [],
   "source": [
    "i = 1\n",
    "list = [1 ,2,3,4,5,6,7,8,9,10]\n",
    "lst = []\n",
    "for num in list:\n",
    "    lst.append(num**2)\n",
    "print(lst)    "
   ]
  },
  {
   "cell_type": "code",
   "execution_count": null,
   "id": "4f8c2de9-2911-46d7-ada2-fdd6f83e93c9",
   "metadata": {},
   "outputs": [],
   "source": [
    "list = [1 ,2,3,4,5,6,7,8,9,10]\n",
    "l3 = []\n",
    "for num in list:\n",
    "    if num%2==1:\n",
    "        l3.append(num**2)\n",
    "print(l3)"
   ]
  },
  {
   "cell_type": "code",
   "execution_count": null,
   "id": "b0092587-890d-42db-8ff6-d9b76e8c4261",
   "metadata": {},
   "outputs": [],
   "source": [
    "list = [1 ,2,3,4,5,6,7,8,9,10]\n",
    "sum = 0\n",
    "for num in list:\n",
    "    sum = sum + num \n",
    "print(' the sum of list ', sum)"
   ]
  },
  {
   "cell_type": "code",
   "execution_count": null,
   "id": "f49b4f77-b0ba-49d8-8748-704822524d52",
   "metadata": {},
   "outputs": [],
   "source": [
    "list = [1 ,2,3,4,5,6,7,8,9,10]\n",
    "l5 = []\n",
    "i = 0\n",
    "while i < len(list)\n",
    "    l5.append(i**2)\n",
    "print(l5)"
   ]
  },
  {
   "cell_type": "code",
   "execution_count": null,
   "id": "9e696e69-14af-405b-bc61-6026b5b42075",
   "metadata": {},
   "outputs": [],
   "source": [
    "#Aliasing\n",
    "a = [81, 82, 83]\n",
    "b = [81, 82, 83]\n",
    "print(a == b)\n",
    "print(a is b)"
   ]
  },
  {
   "cell_type": "code",
   "execution_count": null,
   "id": "54996c49-9e2a-4f70-b3e3-7570c6fa533b",
   "metadata": {},
   "outputs": [],
   "source": [
    "c = [81, 82, 83]\n",
    "d = c\n",
    "print(c == d)\n",
    "print(c is d)"
   ]
  },
  {
   "cell_type": "code",
   "execution_count": null,
   "id": "493584a3-88c2-4310-b435-9fb67fd1403c",
   "metadata": {},
   "outputs": [],
   "source": [
    "q=-6\n",
    "w=-6\n",
    "print(q==w)\n",
    "print(q is w)"
   ]
  },
  {
   "cell_type": "code",
   "execution_count": null,
   "id": "ab34001a-0c09-412f-88bb-80770b29944b",
   "metadata": {},
   "outputs": [],
   "source": [
    "e = 'qwerty'\n",
    "r = 'qwerty'\n",
    "print(e==r)\n",
    "print(e is r)"
   ]
  },
  {
   "cell_type": "code",
   "execution_count": null,
   "id": "6211bf3c-7db3-4220-9df7-d7ae9e4a179e",
   "metadata": {},
   "outputs": [],
   "source": [
    "#cloning of list using slicing\n",
    "a = [81, 82, 83]\n",
    "b = a[:]\n",
    "print(a==b)\n",
    "print(a is b)"
   ]
  },
  {
   "cell_type": "code",
   "execution_count": null,
   "id": "419fe9db-196c-4074-81b4-8f69afc6ec7f",
   "metadata": {},
   "outputs": [],
   "source": [
    "# writing large values\n",
    "l5 = [i**2 for i in range(1, 10)]\n",
    "l5"
   ]
  },
  {
   "cell_type": "code",
   "execution_count": null,
   "id": "232e80d4-eee3-44f1-80bf-06dfd19c97c8",
   "metadata": {},
   "outputs": [],
   "source": [
    "l6 = [i for i in range(1, 11) if i%2&3==0 ]\n",
    "l6"
   ]
  },
  {
   "cell_type": "code",
   "execution_count": null,
   "id": "d7d79b10-73af-404b-854e-7fbd612b47e2",
   "metadata": {},
   "outputs": [],
   "source": [
    "#tuple\n",
    "x=[4,5,66,9]\n",
    "y=tuple(x)\n",
    "y"
   ]
  },
  {
   "cell_type": "code",
   "execution_count": null,
   "id": "4be7a135-61da-450a-b3f3-f58d2ea320cf",
   "metadata": {},
   "outputs": [],
   "source": [
    "print(y[3])"
   ]
  },
  {
   "cell_type": "code",
   "execution_count": null,
   "id": "58ce828f-b474-493d-8d14-25df2b11626f",
   "metadata": {},
   "outputs": [],
   "source": [
    "y[:1]"
   ]
  },
  {
   "cell_type": "code",
   "execution_count": null,
   "id": "daa52245-41d6-497f-922a-df0b0f8f3d38",
   "metadata": {},
   "outputs": [],
   "source": [
    "z=[(x, x**2) for x in range(6)]\n",
    "z"
   ]
  },
  {
   "cell_type": "code",
   "execution_count": null,
   "id": "723b0700-53a3-46e2-8743-f61048e35347",
   "metadata": {},
   "outputs": [],
   "source": [
    "#dictionary\n",
    "dict1 = {\"brand\":\"mrcet\",\"model\":\"college\",\"year\":2004}\n",
    "dict1.keys()"
   ]
  },
  {
   "cell_type": "code",
   "execution_count": null,
   "id": "e41d7f6c-c34c-403a-9e1a-e46a59018346",
   "metadata": {},
   "outputs": [],
   "source": [
    "a=open('one.txt','r') \n",
    "print(a.read())"
   ]
  },
  {
   "cell_type": "code",
   "execution_count": null,
   "id": "e843b508-856d-4232-a757-2376c10803db",
   "metadata": {},
   "outputs": [],
   "source": [
    "new_file = open('open.txt' , 'x')"
   ]
  },
  {
   "cell_type": "code",
   "execution_count": null,
   "id": "aa816c3f-f3b9-4e52-89df-4bc2f0ce70cb",
   "metadata": {},
   "outputs": [],
   "source": [
    "a=open('open.txt','r') \n",
    "print(a.read())"
   ]
  },
  {
   "cell_type": "code",
   "execution_count": null,
   "id": "09e68624-512b-4ff9-9306-f3d6c2be912a",
   "metadata": {},
   "outputs": [],
   "source": [
    "a=open('open.txt','a') \n",
    "a.write('hello world') "
   ]
  },
  {
   "cell_type": "code",
   "execution_count": null,
   "id": "dd39182f-5205-4e72-8eab-f580f85d6cb2",
   "metadata": {},
   "outputs": [],
   "source": [
    "a.write('Data Science') "
   ]
  },
  {
   "cell_type": "code",
   "execution_count": null,
   "id": "6b68f88c-e677-4dc9-bb17-f3cd6fa060ad",
   "metadata": {},
   "outputs": [],
   "source": [
    "a.close()"
   ]
  },
  {
   "cell_type": "code",
   "execution_count": null,
   "id": "f6a402d6-639b-4a59-afe1-193e94c676ad",
   "metadata": {},
   "outputs": [],
   "source": [
    "a=open('open.txt' , 'w+')\n",
    "a.write('naveed jokoha')"
   ]
  },
  {
   "cell_type": "code",
   "execution_count": null,
   "id": "1e5b2c35-e5cf-4bf6-a999-742c6f057294",
   "metadata": {},
   "outputs": [],
   "source": [
    "a.read()"
   ]
  },
  {
   "cell_type": "code",
   "execution_count": null,
   "id": "eda0fab3-3410-4da1-9afe-4b5a4edb45c1",
   "metadata": {},
   "outputs": [],
   "source": [
    "print(a.read())"
   ]
  },
  {
   "cell_type": "code",
   "execution_count": null,
   "id": "2f3501ae-d218-4242-a03e-6dc60346d895",
   "metadata": {},
   "outputs": [],
   "source": [
    "a.write('I\"m styding Data Science')"
   ]
  },
  {
   "cell_type": "code",
   "execution_count": null,
   "id": "0d156f46-fdd1-4a30-a3f7-d5b8ffe1a1c8",
   "metadata": {},
   "outputs": [],
   "source": [
    "a=5\n",
    "b=0\n",
    "try:\n",
    " print(a/b)\n",
    "except Exception:\n",
    " print(\"number can not be divided by zero\")\n",
    " print(\"bye\")"
   ]
  },
  {
   "cell_type": "code",
   "execution_count": null,
   "id": "1d717154-48ad-4df6-81b5-677fd622dc26",
   "metadata": {},
   "outputs": [],
   "source": [
    "a=5\n",
    "b=2\n",
    "try:\n",
    " print(a/b)\n",
    "except Exception:\n",
    " print(\"number can not be divided by zero\")\n",
    " print(\"bye\")"
   ]
  },
  {
   "cell_type": "code",
   "execution_count": null,
   "id": "2fc0cdc2-70ce-4aec-9af6-7362e723c75b",
   "metadata": {},
   "outputs": [],
   "source": [
    "#2D list\n",
    "L = [ [1,2,3], [1,4,5]]\n",
    "L[1]"
   ]
  },
  {
   "cell_type": "code",
   "execution_count": null,
   "id": "7499aa0c-5fc8-4b40-a6f8-685551fe9d27",
   "metadata": {},
   "outputs": [],
   "source": [
    "L[1][1]"
   ]
  },
  {
   "cell_type": "code",
   "execution_count": null,
   "id": "1edfcf6b-47ff-4035-b101-b859af7f38ab",
   "metadata": {},
   "outputs": [],
   "source": [
    "l=[[1,2],[1,3,4],[2,3,6]]\n",
    "l[2][2]"
   ]
  },
  {
   "cell_type": "code",
   "execution_count": null,
   "id": "0ebd7f69-ba9a-4285-892b-00b7c4184aae",
   "metadata": {},
   "outputs": [],
   "source": [
    "import math\n",
    "math.pi"
   ]
  },
  {
   "cell_type": "code",
   "execution_count": null,
   "id": "17a80aa3-e3b6-43f3-a1b6-193b85645598",
   "metadata": {},
   "outputs": [],
   "source": [
    "a=10\n",
    "b=20\n",
    "sum([a+b])"
   ]
  },
  {
   "cell_type": "code",
   "execution_count": null,
   "id": "cec936ab-adb1-4562-9146-c22a5174fbc2",
   "metadata": {},
   "outputs": [],
   "source": [
    "abs(1)"
   ]
  },
  {
   "cell_type": "code",
   "execution_count": null,
   "id": "878f298a-0fdb-4206-9e15-344c7ee52b55",
   "metadata": {},
   "outputs": [],
   "source": [
    "pow(5,2)"
   ]
  },
  {
   "cell_type": "code",
   "execution_count": null,
   "id": "377d7bd3-a2bb-4f9f-ad10-c332f555e59e",
   "metadata": {},
   "outputs": [],
   "source": [
    "round(3.94)"
   ]
  },
  {
   "cell_type": "code",
   "execution_count": null,
   "id": "6628da13-2558-4a16-a3e4-144dcd3ba4f9",
   "metadata": {},
   "outputs": [],
   "source": [
    "num=[1,2,3]\n",
    "(list(filter(lambda x: x % 2 == 0, num)))"
   ]
  },
  {
   "cell_type": "code",
   "execution_count": null,
   "id": "76448175-5702-421f-a202-5e8ec54f7536",
   "metadata": {},
   "outputs": [],
   "source": [
    "max(2,3,9,4)"
   ]
  },
  {
   "cell_type": "code",
   "execution_count": null,
   "id": "9dfbb187-aac8-466d-b2cc-54571fe676b5",
   "metadata": {},
   "outputs": [],
   "source": [
    "s = '2+3'\n",
    "eval(s)"
   ]
  },
  {
   "cell_type": "code",
   "execution_count": null,
   "id": "b156fb78-d929-400f-91ec-d4b475784d0f",
   "metadata": {},
   "outputs": [],
   "source": [
    "s = '2*3'\n",
    "eval(s)"
   ]
  },
  {
   "cell_type": "code",
   "execution_count": null,
   "id": "a2d07162-46a8-455d-a6eb-ff4c149e198b",
   "metadata": {},
   "outputs": [],
   "source": [
    "tup = (1,2,3,4)\n",
    "l = [1,2,4,7]\n",
    "list(filter(lambda x: x%2==0,l))"
   ]
  },
  {
   "cell_type": "code",
   "execution_count": null,
   "id": "7bb67450-dde3-428c-851a-812ce2d4956a",
   "metadata": {},
   "outputs": [],
   "source": [
    "l = [1,2,8,7]\n",
    "l1 = sorted(l)\n",
    "print(l1)"
   ]
  },
  {
   "cell_type": "code",
   "execution_count": null,
   "id": "a54307dd-a6fd-4934-a63e-aef46c53dcde",
   "metadata": {},
   "outputs": [],
   "source": [
    "#map\n",
    "lst1 = [1,2,3,4]\n",
    "list(map(lambda x: x*2, lst1))"
   ]
  },
  {
   "cell_type": "code",
   "execution_count": null,
   "id": "8c131f0d-f6f6-41e7-8d29-692beda9f146",
   "metadata": {},
   "outputs": [],
   "source": []
  },
  {
   "cell_type": "markdown",
   "id": "1ee0cd8b-6517-4cec-af97-094fd98c48c7",
   "metadata": {},
   "source": [
    "numpy library\n"
   ]
  },
  {
   "cell_type": "code",
   "execution_count": null,
   "id": "f5d698b8-7968-4afc-bffe-26dbd22a5e31",
   "metadata": {},
   "outputs": [],
   "source": [
    "\n",
    "import numpy as np\n"
   ]
  },
  {
   "cell_type": "code",
   "execution_count": null,
   "id": "ca84a909-380c-4383-84dc-5ad11fc3a3d9",
   "metadata": {},
   "outputs": [],
   "source": [
    "#converting list to array\n",
    "data = [1,2,3,4]\n",
    "arr = np.array(data)\n",
    "arr"
   ]
  },
  {
   "cell_type": "code",
   "execution_count": null,
   "id": "2da30a62-e51e-46dc-8765-aa321b4f30ea",
   "metadata": {},
   "outputs": [],
   "source": [
    "#converting tuple to array\n",
    "tup=(1,2,3)\n",
    "s={1,2,3,4,5,6}\n",
    "artup = np.array(tup)\n",
    "artup"
   ]
  },
  {
   "cell_type": "code",
   "execution_count": null,
   "id": "6fd20798-9afd-41a2-ad93-1686e7eb4ea8",
   "metadata": {},
   "outputs": [],
   "source": [
    "#printing all zeros\n",
    "zero_array = np.zeros(7)\n",
    "zero_array"
   ]
  },
  {
   "cell_type": "code",
   "execution_count": null,
   "id": "9af1eb2d-ee50-4cca-ab49-bec32df03499",
   "metadata": {},
   "outputs": [],
   "source": [
    "z1 = np.zeros((3,5))\n",
    "z1"
   ]
  },
  {
   "cell_type": "code",
   "execution_count": null,
   "id": "af2dd640-6d87-46d1-ab96-df57ecf8f697",
   "metadata": {},
   "outputs": [],
   "source": [
    "#printing all ones\n",
    "a1 = np.ones((2,4))\n",
    "a1.astype(int)"
   ]
  },
  {
   "cell_type": "code",
   "execution_count": null,
   "id": "ad069ce2-c3e7-43fe-9547-e24e89e34052",
   "metadata": {},
   "outputs": [],
   "source": [
    "\n",
    "a1 = np.ones((2,4,3))\n",
    "a1"
   ]
  },
  {
   "cell_type": "code",
   "execution_count": null,
   "id": "5ca4869d-82cc-4404-b4bf-e1bfe4f2e2e9",
   "metadata": {},
   "outputs": [],
   "source": [
    "#\n",
    "em = np.empty((2, 2, 3))\n",
    "em"
   ]
  },
  {
   "cell_type": "code",
   "execution_count": null,
   "id": "3c483583-b370-48b5-a821-3b63da63cb07",
   "metadata": {},
   "outputs": [],
   "source": [
    "#it prints under the range\n",
    "rn = np.arange(15)\n",
    "rn"
   ]
  },
  {
   "cell_type": "code",
   "execution_count": null,
   "id": "277b98c1-bd74-45af-a17e-e9038c5e597f",
   "metadata": {},
   "outputs": [],
   "source": [
    "#cheching data types\n",
    "rn.dtype"
   ]
  },
  {
   "cell_type": "code",
   "execution_count": null,
   "id": "a9d7a734-1318-471b-a050-aa4be4910389",
   "metadata": {},
   "outputs": [],
   "source": [
    "l1=[1,2,3]\n",
    "l2=[2,3,4]\n"
   ]
  },
  {
   "cell_type": "code",
   "execution_count": null,
   "id": "dc3c7906-304a-481c-bab8-c566bfe4738d",
   "metadata": {},
   "outputs": [],
   "source": [
    "#printing all 5\n",
    "a2 = np.full((2,3),5)\n",
    "a2"
   ]
  },
  {
   "cell_type": "raw",
   "id": "49e20f09-7b6d-4ebd-9a74-57ef04393046",
   "metadata": {},
   "source": []
  },
  {
   "cell_type": "code",
   "execution_count": null,
   "id": "8388c59b-5337-4156-afbe-6e327f213525",
   "metadata": {},
   "outputs": [],
   "source": [
    "arthe = np.linspace(1,100,10)\n",
    "print(arthe)"
   ]
  },
  {
   "cell_type": "code",
   "execution_count": null,
   "id": "4d7268d1-141e-4bab-831d-f1dd58797ac1",
   "metadata": {},
   "outputs": [],
   "source": [
    "random = np.random.random((3,2))\n",
    "random"
   ]
  },
  {
   "cell_type": "markdown",
   "id": "e9fe83cb-ff98-4a05-8660-046d3be053fb",
   "metadata": {},
   "source": [
    "### normal = np.random.normal(0, 1, (3, 3))\n",
    "normal"
   ]
  },
  {
   "cell_type": "code",
   "execution_count": null,
   "id": "1ef6f4d5-7486-4890-b35d-6a78f560c111",
   "metadata": {},
   "outputs": [],
   "source": [
    "x3 = np.random.randint(10, size=(3, 4, 5))\n",
    "x3"
   ]
  },
  {
   "cell_type": "code",
   "execution_count": null,
   "id": "a74c1fab-4ef0-4c40-a0ef-c1232e7394ae",
   "metadata": {},
   "outputs": [],
   "source": [
    "print(x3.ndim)\n",
    "print(x3.shape)\n",
    "print(x3.size)"
   ]
  },
  {
   "cell_type": "code",
   "execution_count": null,
   "id": "d52155e0-5e54-4e00-b431-e6b269634299",
   "metadata": {},
   "outputs": [],
   "source": [
    "x2 = np.random.randint(10, size=(4, 5))\n",
    "print(x2)"
   ]
  },
  {
   "cell_type": "code",
   "execution_count": null,
   "id": "8b2e8277-63b3-4d2a-a294-818220ae9940",
   "metadata": {},
   "outputs": [],
   "source": [
    "x2[-3,-3]"
   ]
  },
  {
   "cell_type": "code",
   "execution_count": null,
   "id": "b4ff4e6f-8aa2-48e2-a0af-542194a30d14",
   "metadata": {},
   "outputs": [],
   "source": [
    "x2[:2, :3] "
   ]
  },
  {
   "cell_type": "code",
   "execution_count": null,
   "id": "176e55d6-46ea-4fef-9e04-918fcaae76bc",
   "metadata": {},
   "outputs": [],
   "source": [
    "x2[:3, ::2] "
   ]
  },
  {
   "cell_type": "code",
   "execution_count": null,
   "id": "27464730-abe3-42cb-bf54-7dd429cf4d8d",
   "metadata": {},
   "outputs": [],
   "source": [
    "x2[::-1, ::1]"
   ]
  },
  {
   "cell_type": "code",
   "execution_count": null,
   "id": "450f7541-bea6-45ad-a3af-8674d376360a",
   "metadata": {},
   "outputs": [],
   "source": [
    "x4 = np.random.randint(10, size=(4, 5))\n",
    "print(x4)"
   ]
  },
  {
   "cell_type": "code",
   "execution_count": null,
   "id": "bcaada39-11de-4e1f-b3c4-761a7f0c5703",
   "metadata": {},
   "outputs": [],
   "source": [
    "x4[0:2,0:3]"
   ]
  },
  {
   "cell_type": "markdown",
   "id": "d0fa0a43-6277-4a35-827c-288f3d4f003e",
   "metadata": {},
   "source": [
    "CLASS WORK\n"
   ]
  },
  {
   "cell_type": "code",
   "execution_count": null,
   "id": "db179eef-7099-4b56-9446-b386c1ef07cb",
   "metadata": {},
   "outputs": [],
   "source": [
    "m1 = np.full((2,4),7)\n",
    "m1"
   ]
  },
  {
   "cell_type": "code",
   "execution_count": null,
   "id": "e876841a-3a6b-4eef-abdb-22b374091417",
   "metadata": {},
   "outputs": [],
   "source": [
    "zero = np.zeros(11)\n",
    "zero"
   ]
  },
  {
   "cell_type": "code",
   "execution_count": null,
   "id": "5bda20ff-e0f3-4d8d-9873-2ba5a63135dc",
   "metadata": {},
   "outputs": [],
   "source": [
    "ONE = np.ones((1,3, 5))\n",
    "ONE"
   ]
  },
  {
   "cell_type": "code",
   "execution_count": null,
   "id": "d53dda7e-8bd9-4ac9-97fb-670269910c22",
   "metadata": {},
   "outputs": [],
   "source": [
    "val = np.linspace(100,200,10)\n",
    "print(val)"
   ]
  },
  {
   "cell_type": "code",
   "execution_count": null,
   "id": "27401f43-4e40-41ff-a831-829c1705de79",
   "metadata": {},
   "outputs": [],
   "source": []
  },
  {
   "cell_type": "code",
   "execution_count": null,
   "id": "4597b14a-f422-4f5b-8dee-24b2d6a92b10",
   "metadata": {},
   "outputs": [],
   "source": [
    "normal = np.random.normal(0, 1, (3, 3))\n",
    "normal"
   ]
  },
  {
   "cell_type": "code",
   "execution_count": null,
   "id": "8428294c-23f7-4f01-a6ed-1cf8ae60e360",
   "metadata": {},
   "outputs": [],
   "source": [
    "normal = np.random.randint(10, 100, (3, 3))\n",
    "normal"
   ]
  },
  {
   "cell_type": "code",
   "execution_count": null,
   "id": "f4495098-b325-4384-aeb0-39482d9048f1",
   "metadata": {},
   "outputs": [],
   "source": [
    "no = np.eye(4)\n",
    "no"
   ]
  },
  {
   "cell_type": "code",
   "execution_count": null,
   "id": "e86b7ca5-24a4-43b8-be32-0479cf983195",
   "metadata": {},
   "outputs": [],
   "source": [
    "now = np.empty((3,5))\n",
    "now"
   ]
  },
  {
   "cell_type": "code",
   "execution_count": null,
   "id": "8f6f0bdc-a6df-4e88-b4f9-1b38ff892489",
   "metadata": {},
   "outputs": [],
   "source": [
    "#print(\"dimension\",no.ndim)\n",
    "#print(\"shape\",no.shape)\n",
    "print(\"size\",no.itemsize)"
   ]
  },
  {
   "cell_type": "code",
   "execution_count": null,
   "id": "eccc5646-18f4-4804-a577-26fd08739bf1",
   "metadata": {},
   "outputs": [],
   "source": [
    "vl = np.random.randint(10, size=(4, 5))\n",
    "print(vl)"
   ]
  },
  {
   "cell_type": "code",
   "execution_count": null,
   "id": "8359b446-6d67-45a5-a982-8905b860b9e5",
   "metadata": {},
   "outputs": [],
   "source": [
    "vl[2::3,3:5]"
   ]
  },
  {
   "cell_type": "code",
   "execution_count": null,
   "id": "266755f7-e161-4273-9163-c8da450f59a9",
   "metadata": {},
   "outputs": [],
   "source": [
    "vl[::-2]"
   ]
  },
  {
   "cell_type": "code",
   "execution_count": null,
   "id": "f4ee0acc-88e9-4710-8bca-fb9732503eac",
   "metadata": {},
   "outputs": [],
   "source": [
    "#cheching types\n",
    "vl.dtype"
   ]
  },
  {
   "cell_type": "code",
   "execution_count": null,
   "id": "936eb360-549f-4001-83fb-c3bde945454f",
   "metadata": {},
   "outputs": [],
   "source": [
    "no"
   ]
  },
  {
   "cell_type": "code",
   "execution_count": null,
   "id": "63270c89-5bc9-444b-a222-d5b22e86021b",
   "metadata": {},
   "outputs": [],
   "source": [
    "nm = np.random.randint(10, 30,(3, 3))\n",
    "print(nm)"
   ]
  },
  {
   "cell_type": "code",
   "execution_count": null,
   "id": "869f2f8c-acf4-45ca-a1dc-52306c5e2ce3",
   "metadata": {},
   "outputs": [],
   "source": [
    "#copy function\n",
    "slc = nm[1:, 1:]\n",
    "slc"
   ]
  },
  {
   "cell_type": "code",
   "execution_count": null,
   "id": "a75e7528-bd5a-45b2-b011-24e1a7ff73b9",
   "metadata": {},
   "outputs": [],
   "source": [
    "slc[0, 1]= 50\n",
    "print(slc)"
   ]
  },
  {
   "cell_type": "code",
   "execution_count": null,
   "id": "8cd7eeda-9a27-44f4-9926-ad67ed3544fc",
   "metadata": {},
   "outputs": [],
   "source": [
    "print(nm)"
   ]
  },
  {
   "cell_type": "code",
   "execution_count": null,
   "id": "347afc2e-c659-4635-99b3-9d6566c07c04",
   "metadata": {},
   "outputs": [],
   "source": [
    "slc1 = nm[1:2,0:2].copy()\n",
    "slc1"
   ]
  },
  {
   "cell_type": "code",
   "execution_count": null,
   "id": "a9aae052-fdd9-4631-8fec-d84548baec95",
   "metadata": {},
   "outputs": [],
   "source": [
    "print(nm)"
   ]
  },
  {
   "cell_type": "code",
   "execution_count": null,
   "id": "54651a77-b4fc-44bc-acf2-f794b0e3973e",
   "metadata": {},
   "outputs": [],
   "source": [
    "slc1[0, 1]= 100\n",
    "print(slc1)"
   ]
  },
  {
   "cell_type": "code",
   "execution_count": null,
   "id": "d11e1dfd-9437-4be2-95ad-7efb53c3ebb0",
   "metadata": {},
   "outputs": [],
   "source": [
    "print(nm)"
   ]
  },
  {
   "cell_type": "code",
   "execution_count": null,
   "id": "a3629cda-11eb-4099-bf1d-b878130fe61e",
   "metadata": {},
   "outputs": [],
   "source": [
    "#rehsape\n",
    "numm = np.arange(1,13).reshape((3,4))\n",
    "numm"
   ]
  },
  {
   "cell_type": "code",
   "execution_count": null,
   "id": "6cd67e10-bbd1-4262-b22a-0bae29bb2a7b",
   "metadata": {},
   "outputs": [],
   "source": [
    "#.concatinate\n",
    "c = ([1,2,3,5,4])\n",
    "b = ([3,4,5,8,6])\n",
    "concatenate = np.concatenate([c,b])\n",
    "concatenate"
   ]
  },
  {
   "cell_type": "code",
   "execution_count": null,
   "id": "16e2548e-bfd6-46b0-9c86-127875e1ed65",
   "metadata": {},
   "outputs": [],
   "source": [
    "#v and h stack\n",
    "z = np.array([1, 2, 3])\n",
    "grid = np.array([[3, 4, 7],[3, 3, 9]])\n",
    "np.vstack([z, grid])"
   ]
  },
  {
   "cell_type": "code",
   "execution_count": null,
   "id": "6132879c-712e-4e26-a0f0-4e7916a4061d",
   "metadata": {},
   "outputs": [],
   "source": [
    "y = np.array([[99],\n",
    "              [99]])\n",
    "y"
   ]
  },
  {
   "cell_type": "code",
   "execution_count": null,
   "id": "3a806e95-24cb-476a-8970-10a64f59f887",
   "metadata": {},
   "outputs": [],
   "source": [
    "np.hstack([grid, y])"
   ]
  },
  {
   "cell_type": "code",
   "execution_count": null,
   "id": "b67d7e63-483d-4cbe-b260-425ca975e2c9",
   "metadata": {},
   "outputs": [],
   "source": [
    "#split\n",
    "z2 = np.arange(0,14)\n",
    "x1, x2, x3 = np.split(z2, [3,4])\n",
    "print(x1,x2,x3)"
   ]
  },
  {
   "cell_type": "markdown",
   "id": "b9311bce-b3e3-46c7-acc0-a77def3a632a",
   "metadata": {},
   "source": []
  },
  {
   "cell_type": "code",
   "execution_count": null,
   "id": "b047d7d4-4f75-4f47-b1e4-9ee737f38c8b",
   "metadata": {},
   "outputs": [],
   "source": [
    "\n",
    "x = np.arange(1, 6)\n",
    "np.add.reduce(x)"
   ]
  },
  {
   "cell_type": "code",
   "execution_count": null,
   "id": "c957a588-63bf-48a7-a421-880c6666c6df",
   "metadata": {},
   "outputs": [],
   "source": [
    "np.add.accumulate(x)"
   ]
  },
  {
   "cell_type": "code",
   "execution_count": null,
   "id": "b346acd2-a5a5-4033-8c83-d56b40a53d24",
   "metadata": {},
   "outputs": [],
   "source": [
    "L = np.random.random(100)\n",
    "sum(L)"
   ]
  },
  {
   "cell_type": "code",
   "execution_count": null,
   "id": "3ef94c81-06e3-4de4-b396-9bdd77a22cd2",
   "metadata": {},
   "outputs": [],
   "source": [
    "arr = np.random.randint(163, 194, 50)\n",
    "arr\n",
    "print(\"Mean height:       \", arr.mean())\n",
    "print(\"Standard deviation:\", arr.std())\n",
    "print(\"Minimum height:    \", arr.min())\n",
    "print(\"Maximum height:    \", arr.max())\n",
    "print(\"25th percentile:   \", np.percentile(arr, 25))\n",
    "print(\"Median:            \", np.median(arr))\n",
    "print(\"75th percentile:   \", np.percentile(arr, 75))"
   ]
  },
  {
   "cell_type": "markdown",
   "id": "50f21aed-ab2d-4dad-8168-27d441864f71",
   "metadata": {},
   "source": [
    "matplotlib.pyplot Library"
   ]
  },
  {
   "cell_type": "markdown",
   "id": "d358305f-1276-4594-9c51-11e45f217452",
   "metadata": {},
   "source": [
    "MATPLOTLIB.PYPLOT LIBRARY"
   ]
  },
  {
   "cell_type": "code",
   "execution_count": null,
   "id": "da4f5a76-651f-446f-bb32-8b0eb9e02465",
   "metadata": {},
   "outputs": [],
   "source": [
    "import matplotlib.pyplot as plt\n",
    "import seaborn; seaborn.set()\n",
    "plt.hist(arr)\n",
    "plt.title('Height Distribution of US Presidents')\n",
    "plt.xlabel('height (cm)')\n",
    "plt.ylabel('number');"
   ]
  },
  {
   "cell_type": "code",
   "execution_count": null,
   "id": "3d16e306-cea8-495b-8f8d-577908150c49",
   "metadata": {},
   "outputs": [],
   "source": [
    "#to check version of library\n",
    "np.__version__"
   ]
  },
  {
   "cell_type": "code",
   "execution_count": null,
   "id": "86d58aa9-a47d-41de-b556-31f4aa8a08b5",
   "metadata": {},
   "outputs": [],
   "source": []
  },
  {
   "cell_type": "code",
   "execution_count": null,
   "id": "09cb2269-2c37-4e06-bc71-496cf1e8d0bd",
   "metadata": {},
   "outputs": [],
   "source": []
  },
  {
   "cell_type": "markdown",
   "id": "55a5a6a8-4e18-417a-9dfb-fb21e87a156d",
   "metadata": {},
   "source": [
    "PANDA library\n",
    "\n",
    "\n",
    "importing panda library"
   ]
  },
  {
   "cell_type": "code",
   "execution_count": 210,
   "id": "f30f5311-57c7-4fd6-8887-5756d37473cc",
   "metadata": {},
   "outputs": [],
   "source": [
    "import pandas as pd"
   ]
  },
  {
   "cell_type": "code",
   "execution_count": 212,
   "id": "7e1e3953-dff1-458a-bc67-2bd1d1809105",
   "metadata": {},
   "outputs": [
    {
     "data": {
      "text/plain": [
       "0    4\n",
       "1    2\n",
       "2    6\n",
       "3    7\n",
       "4    8\n",
       "dtype: int64"
      ]
     },
     "execution_count": 212,
     "metadata": {},
     "output_type": "execute_result"
    }
   ],
   "source": [
    "data = pd.Series([4,2,6,7,8])\n",
    "data"
   ]
  },
  {
   "cell_type": "code",
   "execution_count": 214,
   "id": "02e78178-c41f-4083-b892-2bbac1a9467e",
   "metadata": {},
   "outputs": [
    {
     "data": {
      "text/plain": [
       "array([4, 2, 6, 7, 8], dtype=int64)"
      ]
     },
     "execution_count": 214,
     "metadata": {},
     "output_type": "execute_result"
    }
   ],
   "source": [
    "data.values"
   ]
  },
  {
   "cell_type": "code",
   "execution_count": 216,
   "id": "f53e5f6c-a16e-40f4-8a72-0d8d70181dbf",
   "metadata": {},
   "outputs": [
    {
     "data": {
      "text/plain": [
       "RangeIndex(start=0, stop=5, step=1)"
      ]
     },
     "execution_count": 216,
     "metadata": {},
     "output_type": "execute_result"
    }
   ],
   "source": [
    "data.index"
   ]
  },
  {
   "cell_type": "code",
   "execution_count": 218,
   "id": "47e6cb09-1ecf-43d5-b662-9201f61a8dfa",
   "metadata": {},
   "outputs": [
    {
     "name": "stdout",
     "output_type": "stream",
     "text": [
      "a    1\n",
      "b    2\n",
      "c    3\n",
      "d    4\n",
      "e    5\n",
      "dtype: int64\n"
     ]
    }
   ],
   "source": [
    "data1 = pd.Series([1,2,3,4,5], index = ['a','b','c','d','e'])\n",
    "print(data1)"
   ]
  },
  {
   "cell_type": "code",
   "execution_count": 220,
   "id": "a75fa23c-3240-492d-837c-ef01fe6a6bfe",
   "metadata": {},
   "outputs": [
    {
     "data": {
      "text/plain": [
       "ali      12\n",
       "arif     13\n",
       "abbas    14\n",
       "israr    15\n",
       "dtype: int64"
      ]
     },
     "execution_count": 220,
     "metadata": {},
     "output_type": "execute_result"
    }
   ],
   "source": [
    "data.keys\n",
    "num = {'ali':12, 'arif':13, 'abbas':14, 'israr':15}\n",
    "data = pd.Series(num)\n",
    "data"
   ]
  },
  {
   "cell_type": "code",
   "execution_count": 222,
   "id": "5b0f5adc-091e-482c-8ca2-c71e844f5fff",
   "metadata": {},
   "outputs": [
    {
     "data": {
      "text/plain": [
       "ali         math\n",
       "arif     physics\n",
       "abbas         IT\n",
       "israr         AI\n",
       "dtype: object"
      ]
     },
     "execution_count": 222,
     "metadata": {},
     "output_type": "execute_result"
    }
   ],
   "source": [
    "sub = {'ali':'math', 'arif':'physics', 'abbas':'IT', 'israr':'AI'}\n",
    "data2 = pd.Series(sub)\n",
    "data2"
   ]
  },
  {
   "cell_type": "code",
   "execution_count": 224,
   "id": "6509c8a5-14f0-4be3-974e-8666363eb5e6",
   "metadata": {},
   "outputs": [
    {
     "data": {
      "text/html": [
       "<div>\n",
       "<style scoped>\n",
       "    .dataframe tbody tr th:only-of-type {\n",
       "        vertical-align: middle;\n",
       "    }\n",
       "\n",
       "    .dataframe tbody tr th {\n",
       "        vertical-align: top;\n",
       "    }\n",
       "\n",
       "    .dataframe thead th {\n",
       "        text-align: right;\n",
       "    }\n",
       "</style>\n",
       "<table border=\"1\" class=\"dataframe\">\n",
       "  <thead>\n",
       "    <tr style=\"text-align: right;\">\n",
       "      <th></th>\n",
       "      <th>marks</th>\n",
       "      <th>sub</th>\n",
       "    </tr>\n",
       "  </thead>\n",
       "  <tbody>\n",
       "    <tr>\n",
       "      <th>ali</th>\n",
       "      <td>12</td>\n",
       "      <td>math</td>\n",
       "    </tr>\n",
       "    <tr>\n",
       "      <th>arif</th>\n",
       "      <td>13</td>\n",
       "      <td>physics</td>\n",
       "    </tr>\n",
       "    <tr>\n",
       "      <th>abbas</th>\n",
       "      <td>14</td>\n",
       "      <td>IT</td>\n",
       "    </tr>\n",
       "    <tr>\n",
       "      <th>israr</th>\n",
       "      <td>15</td>\n",
       "      <td>AI</td>\n",
       "    </tr>\n",
       "  </tbody>\n",
       "</table>\n",
       "</div>"
      ],
      "text/plain": [
       "       marks      sub\n",
       "ali       12     math\n",
       "arif      13  physics\n",
       "abbas     14       IT\n",
       "israr     15       AI"
      ]
     },
     "execution_count": 224,
     "metadata": {},
     "output_type": "execute_result"
    }
   ],
   "source": [
    "info = pd.DataFrame({'marks' :data, 'sub' :data2})\n",
    "info"
   ]
  },
  {
   "cell_type": "code",
   "execution_count": 226,
   "id": "bc5dddcd-4809-46ba-9ba6-331dbce6c50e",
   "metadata": {},
   "outputs": [
    {
     "data": {
      "text/plain": [
       "Index(['marks', 'sub'], dtype='object')"
      ]
     },
     "execution_count": 226,
     "metadata": {},
     "output_type": "execute_result"
    }
   ],
   "source": [
    "info.columns"
   ]
  },
  {
   "cell_type": "code",
   "execution_count": 228,
   "id": "6ef162d6-3791-4d83-85b5-bdec5737106d",
   "metadata": {},
   "outputs": [
    {
     "data": {
      "text/plain": [
       "12"
      ]
     },
     "execution_count": 228,
     "metadata": {},
     "output_type": "execute_result"
    }
   ],
   "source": [
    "data.loc['ali']"
   ]
  },
  {
   "cell_type": "code",
   "execution_count": 230,
   "id": "82f4acf4-a5b1-49fc-8268-6036bfa603b7",
   "metadata": {},
   "outputs": [
    {
     "data": {
      "text/plain": [
       "abbas    IT\n",
       "israr    AI\n",
       "dtype: object"
      ]
     },
     "execution_count": 230,
     "metadata": {},
     "output_type": "execute_result"
    }
   ],
   "source": [
    "data2[(data > 13)&(data < 16)]"
   ]
  },
  {
   "cell_type": "code",
   "execution_count": 232,
   "id": "dca95cab-086d-45e9-b821-de63596fb0b7",
   "metadata": {},
   "outputs": [
    {
     "data": {
      "text/html": [
       "<div>\n",
       "<style scoped>\n",
       "    .dataframe tbody tr th:only-of-type {\n",
       "        vertical-align: middle;\n",
       "    }\n",
       "\n",
       "    .dataframe tbody tr th {\n",
       "        vertical-align: top;\n",
       "    }\n",
       "\n",
       "    .dataframe thead th {\n",
       "        text-align: right;\n",
       "    }\n",
       "</style>\n",
       "<table border=\"1\" class=\"dataframe\">\n",
       "  <thead>\n",
       "    <tr style=\"text-align: right;\">\n",
       "      <th></th>\n",
       "      <th>marks</th>\n",
       "      <th>sub</th>\n",
       "      <th>total marks</th>\n",
       "    </tr>\n",
       "  </thead>\n",
       "  <tbody>\n",
       "    <tr>\n",
       "      <th>ali</th>\n",
       "      <td>12</td>\n",
       "      <td>math</td>\n",
       "      <td>15</td>\n",
       "    </tr>\n",
       "    <tr>\n",
       "      <th>arif</th>\n",
       "      <td>13</td>\n",
       "      <td>physics</td>\n",
       "      <td>16</td>\n",
       "    </tr>\n",
       "    <tr>\n",
       "      <th>abbas</th>\n",
       "      <td>14</td>\n",
       "      <td>IT</td>\n",
       "      <td>17</td>\n",
       "    </tr>\n",
       "    <tr>\n",
       "      <th>israr</th>\n",
       "      <td>15</td>\n",
       "      <td>AI</td>\n",
       "      <td>18</td>\n",
       "    </tr>\n",
       "  </tbody>\n",
       "</table>\n",
       "</div>"
      ],
      "text/plain": [
       "       marks      sub  total marks\n",
       "ali       12     math           15\n",
       "arif      13  physics           16\n",
       "abbas     14       IT           17\n",
       "israr     15       AI           18"
      ]
     },
     "execution_count": 232,
     "metadata": {},
     "output_type": "execute_result"
    }
   ],
   "source": [
    "info['total marks'] = info['marks']+3\n",
    "info"
   ]
  },
  {
   "cell_type": "code",
   "execution_count": 234,
   "id": "2beab773-aee5-417b-be96-cc424955826c",
   "metadata": {},
   "outputs": [
    {
     "data": {
      "text/plain": [
       "arif    physics\n",
       "Name: sub, dtype: object"
      ]
     },
     "execution_count": 234,
     "metadata": {},
     "output_type": "execute_result"
    }
   ],
   "source": [
    "info.iloc[1:2:1,1]"
   ]
  },
  {
   "cell_type": "code",
   "execution_count": 236,
   "id": "7c0deb3b-ea80-4267-bc6d-15c6a606bc5f",
   "metadata": {},
   "outputs": [
    {
     "data": {
      "text/plain": [
       "0    6\n",
       "1    3\n",
       "2    7\n",
       "3    4\n",
       "dtype: int32"
      ]
     },
     "execution_count": 236,
     "metadata": {},
     "output_type": "execute_result"
    }
   ],
   "source": [
    "rng = np.random.RandomState(42)\n",
    "ser = pd.Series(rng.randint(0, 10, 4))\n",
    "ser"
   ]
  },
  {
   "cell_type": "code",
   "execution_count": 238,
   "id": "b21de27f-da98-4eaa-841f-8de6ce915874",
   "metadata": {},
   "outputs": [
    {
     "data": {
      "text/html": [
       "<div>\n",
       "<style scoped>\n",
       "    .dataframe tbody tr th:only-of-type {\n",
       "        vertical-align: middle;\n",
       "    }\n",
       "\n",
       "    .dataframe tbody tr th {\n",
       "        vertical-align: top;\n",
       "    }\n",
       "\n",
       "    .dataframe thead th {\n",
       "        text-align: right;\n",
       "    }\n",
       "</style>\n",
       "<table border=\"1\" class=\"dataframe\">\n",
       "  <thead>\n",
       "    <tr style=\"text-align: right;\">\n",
       "      <th></th>\n",
       "      <th>a</th>\n",
       "      <th>b</th>\n",
       "      <th>c</th>\n",
       "      <th>d</th>\n",
       "    </tr>\n",
       "  </thead>\n",
       "  <tbody>\n",
       "    <tr>\n",
       "      <th>0</th>\n",
       "      <td>38</td>\n",
       "      <td>28</td>\n",
       "      <td>14</td>\n",
       "      <td>7</td>\n",
       "    </tr>\n",
       "    <tr>\n",
       "      <th>1</th>\n",
       "      <td>20</td>\n",
       "      <td>38</td>\n",
       "      <td>18</td>\n",
       "      <td>22</td>\n",
       "    </tr>\n",
       "    <tr>\n",
       "      <th>2</th>\n",
       "      <td>10</td>\n",
       "      <td>10</td>\n",
       "      <td>23</td>\n",
       "      <td>35</td>\n",
       "    </tr>\n",
       "  </tbody>\n",
       "</table>\n",
       "</div>"
      ],
      "text/plain": [
       "    a   b   c   d\n",
       "0  38  28  14   7\n",
       "1  20  38  18  22\n",
       "2  10  10  23  35"
      ]
     },
     "execution_count": 238,
     "metadata": {},
     "output_type": "execute_result"
    }
   ],
   "source": [
    "rng = np.random.RandomState(42)\n",
    "srr = pd.DataFrame(rng.randint(0, 40, (3,4)), columns=['a', 'b', 'c', 'd'])\n",
    "srr"
   ]
  },
  {
   "cell_type": "code",
   "execution_count": null,
   "id": "ef31cd69-d2ab-4213-9948-6b7a13ea8121",
   "metadata": {},
   "outputs": [],
   "source": [
    "pd.read_csv('Downloads/Employees Data.csv')"
   ]
  }
 ],
 "metadata": {
  "kernelspec": {
   "display_name": "Python [conda env:base] *",
   "language": "python",
   "name": "conda-base-py"
  },
  "language_info": {
   "codemirror_mode": {
    "name": "ipython",
    "version": 3
   },
   "file_extension": ".py",
   "mimetype": "text/x-python",
   "name": "python",
   "nbconvert_exporter": "python",
   "pygments_lexer": "ipython3",
   "version": "3.12.7"
  }
 },
 "nbformat": 4,
 "nbformat_minor": 5
}

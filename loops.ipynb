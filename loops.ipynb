{
 "cells": [
  {
   "cell_type": "code",
   "execution_count": 13,
   "id": "255a98f2-cbb5-4f43-a634-f3e74c09c045",
   "metadata": {},
   "outputs": [
    {
     "name": "stdout",
     "output_type": "stream",
     "text": [
      "3 Hello\n",
      "4 Hello\n",
      "5 Hello\n",
      "6 Hello\n",
      "7 Hello\n",
      "8 Hello\n",
      "9 Hello\n",
      "10 Hello\n"
     ]
    }
   ],
   "source": [
    "for a in range(3,11):\n",
    "    print(a,'Hello')\n"
   ]
  },
  {
   "cell_type": "code",
   "execution_count": 33,
   "id": "0c6b6653-f408-41c8-85db-9c9493100b37",
   "metadata": {},
   "outputs": [
    {
     "name": "stdin",
     "output_type": "stream",
     "text": [
      "enter a number:  2\n"
     ]
    },
    {
     "name": "stdout",
     "output_type": "stream",
     "text": [
      "2 x 1 = 2\n",
      "2 x 2 = 4\n",
      "2 x 3 = 6\n",
      "2 x 4 = 8\n",
      "2 x 5 = 10\n",
      "2 x 6 = 12\n",
      "2 x 7 = 14\n",
      "2 x 8 = 16\n",
      "2 x 9 = 18\n",
      "2 x 10 = 20\n"
     ]
    }
   ],
   "source": [
    "def table():\n",
    "    num= int(input('enter a number: '))\n",
    "    for i in range(1,11):\n",
    "        print(f'{num} x {i} = {num*i}')\n",
    "         # print(num,'x,i,'=',num*i)\n",
    "table()"
   ]
  },
  {
   "cell_type": "code",
   "execution_count": 42,
   "id": "687aa263-163b-43c6-913e-730b082a3ffe",
   "metadata": {},
   "outputs": [
    {
     "name": "stdout",
     "output_type": "stream",
     "text": [
      "data science\n",
      "data science\n",
      "data science\n"
     ]
    }
   ],
   "source": [
    "i = 3\n",
    "while i<6:\n",
    "    print('data science')\n",
    "    i +=1\n",
    "    "
   ]
  },
  {
   "cell_type": "code",
   "execution_count": 52,
   "id": "0f911f5a-de41-44ef-a1d4-57b0bc6832d6",
   "metadata": {},
   "outputs": [
    {
     "name": "stdin",
     "output_type": "stream",
     "text": [
      "enter a number:  2\n"
     ]
    },
    {
     "name": "stdout",
     "output_type": "stream",
     "text": [
      "2 x 1 = 2\n",
      "2 x 2 = 4\n",
      "2 x 3 = 6\n",
      "2 x 4 = 8\n",
      "2 x 5 = 10\n",
      "2 x 6 = 12\n",
      "2 x 7 = 14\n",
      "2 x 8 = 16\n",
      "2 x 9 = 18\n",
      "2 x 10 = 20\n"
     ]
    }
   ],
   "source": [
    "def table():\n",
    "    num=int(input('enter a number: '))\n",
    "    i= 1\n",
    "    while i<=10:\n",
    "        print(f'{num} x {i} = {num*i}')\n",
    "        i +=1\n",
    "table()"
   ]
  },
  {
   "cell_type": "code",
   "execution_count": 1,
   "id": "2c537beb-be20-4f17-9596-200beb93466d",
   "metadata": {
    "scrolled": true
   },
   "outputs": [
    {
     "name": "stdin",
     "output_type": "stream",
     "text": [
      "enter yor email adsf\n",
      "enter your password sfgdg\n"
     ]
    },
    {
     "name": "stdout",
     "output_type": "stream",
     "text": [
      "incorrect\n"
     ]
    },
    {
     "name": "stdin",
     "output_type": "stream",
     "text": [
      "enter yor email dfgf\n",
      "enter your password dfgfh\n"
     ]
    },
    {
     "name": "stdout",
     "output_type": "stream",
     "text": [
      "incorrect\n"
     ]
    },
    {
     "name": "stdin",
     "output_type": "stream",
     "text": [
      "enter yor email fgdfg\n",
      "enter your password dfh\n"
     ]
    },
    {
     "name": "stdout",
     "output_type": "stream",
     "text": [
      "incorrect\n"
     ]
    }
   ],
   "source": [
    "attempt = 3\n",
    "while attempt>0:\n",
    "    email = 'lololo@gmail.com'\n",
    "    password= 'bhar me jao'\n",
    "    e = input('enter yor email')\n",
    "    p= input ('enter your password')\n",
    "    if e==email and p==password:\n",
    "        print('login successfully')\n",
    "        break\n",
    "    else:\n",
    "        print('incorrect')\n",
    "        attempt-=1"
   ]
  },
  {
   "cell_type": "code",
   "execution_count": 3,
   "id": "423b976c-d5e0-4e55-8ef3-5d2674d03157",
   "metadata": {},
   "outputs": [
    {
     "name": "stdin",
     "output_type": "stream",
     "text": [
      "enter yor email lololo@gmail.com\n",
      "enter your password bhar me jao\n"
     ]
    },
    {
     "name": "stdout",
     "output_type": "stream",
     "text": [
      "login successfully\n"
     ]
    }
   ],
   "source": [
    "attempt = 3\n",
    "while attempt>0:\n",
    "    email = 'lololo@gmail.com'\n",
    "    password= 'bhar me jao'\n",
    "    e = input('enter yor email')\n",
    "    p= input ('enter your password')\n",
    "    if e==email and p==password:\n",
    "        print('login successfully')\n",
    "        break\n",
    "    else:\n",
    "        print('incorrect')\n",
    "        attempt-=1"
   ]
  },
  {
   "cell_type": "code",
   "execution_count": 3,
   "id": "d4c40783-f947-450a-9f59-ac08c411da82",
   "metadata": {},
   "outputs": [
    {
     "name": "stdin",
     "output_type": "stream",
     "text": [
      "enter yor email jhfgg\n",
      "enter your password dfkf\n"
     ]
    },
    {
     "name": "stdout",
     "output_type": "stream",
     "text": [
      "incorrect\n"
     ]
    },
    {
     "name": "stdin",
     "output_type": "stream",
     "text": [
      "enter yor email dfhgj\n",
      "enter your password dfgkfdn\n"
     ]
    },
    {
     "name": "stdout",
     "output_type": "stream",
     "text": [
      "incorrect\n"
     ]
    },
    {
     "name": "stdin",
     "output_type": "stream",
     "text": [
      "enter yor email lololo@gmail.com\n",
      "enter your password bhar me jao\n"
     ]
    },
    {
     "name": "stdout",
     "output_type": "stream",
     "text": [
      "login successfully\n"
     ]
    }
   ],
   "source": [
    "while True:\n",
    "    email = 'lololo@gmail.com'\n",
    "    password= 'bhar me jao'\n",
    "    e = input('enter yor email')\n",
    "    p= input ('enter your password')\n",
    "    if e!=email and p!=password:\n",
    "         print('incorrect')\n",
    "    else:\n",
    "        print('login successfully')\n",
    "        break"
   ]
  },
  {
   "cell_type": "code",
   "execution_count": 9,
   "id": "b0659599-7c12-4858-9794-75999ec71e37",
   "metadata": {},
   "outputs": [
    {
     "name": "stdin",
     "output_type": "stream",
     "text": [
      "enter yor email lololo@gmail.com\n",
      "enter your password bhar me jao\n"
     ]
    },
    {
     "name": "stdout",
     "output_type": "stream",
     "text": [
      "login successfully\n"
     ]
    }
   ],
   "source": [
    "while True:\n",
    "    email = 'lololo@gmail.com'\n",
    "    password= 'bhar me jao'\n",
    "    e = input('enter yor email')\n",
    "    p= input ('enter your password')\n",
    "    if e==email and p==password:\n",
    "        print('login successfully')\n",
    "        break\n",
    "    else:\n",
    "        print('incorrect')\n",
    "   "
   ]
  },
  {
   "cell_type": "code",
   "execution_count": 10,
   "id": "16f5b973-3004-4b5a-a37e-3e18637dadc9",
   "metadata": {},
   "outputs": [
    {
     "name": "stdout",
     "output_type": "stream",
     "text": [
      "0\n",
      "1\n",
      "2\n"
     ]
    }
   ],
   "source": [
    "for i in range(0,5):\n",
    "    if i==3:\n",
    "        break\n",
    "    print (i)"
   ]
  },
  {
   "cell_type": "code",
   "execution_count": 14,
   "id": "52f0c596-5a45-4c4b-9102-845aa803cb3f",
   "metadata": {},
   "outputs": [
    {
     "name": "stdout",
     "output_type": "stream",
     "text": [
      "0\n",
      "1\n",
      "2\n",
      "4\n"
     ]
    }
   ],
   "source": [
    "for i in range(0,5):\n",
    "    if i==3:\n",
    "        continue\n",
    "    print (i)"
   ]
  },
  {
   "cell_type": "code",
   "execution_count": 26,
   "id": "5c771d85-5822-4f21-a733-5dcb726d8957",
   "metadata": {},
   "outputs": [
    {
     "name": "stdout",
     "output_type": "stream",
     "text": [
      "[1, 2, 4, 5, 7, 8, 10, 11, 13, 14, 16, 17, 19, 20, 22, 23, 25, 26, 28, 29]\n"
     ]
    }
   ],
   "source": [
    "lst=[]\n",
    "for i in range(0,30):\n",
    "    if i%3==0:\n",
    "        continue\n",
    "    lst.append(i)\n",
    "print(lst)"
   ]
  },
  {
   "cell_type": "code",
   "execution_count": 28,
   "id": "02966042-18f7-4277-bdc2-795f4a161ed6",
   "metadata": {},
   "outputs": [
    {
     "name": "stdout",
     "output_type": "stream",
     "text": [
      "[1]\n",
      "[1, 2]\n",
      "[1, 2, 4]\n",
      "[1, 2, 4, 5]\n",
      "[1, 2, 4, 5, 7]\n",
      "[1, 2, 4, 5, 7, 8]\n",
      "[1, 2, 4, 5, 7, 8, 10]\n",
      "[1, 2, 4, 5, 7, 8, 10, 11]\n",
      "[1, 2, 4, 5, 7, 8, 10, 11, 13]\n",
      "[1, 2, 4, 5, 7, 8, 10, 11, 13, 14]\n",
      "[1, 2, 4, 5, 7, 8, 10, 11, 13, 14, 16]\n",
      "[1, 2, 4, 5, 7, 8, 10, 11, 13, 14, 16, 17]\n",
      "[1, 2, 4, 5, 7, 8, 10, 11, 13, 14, 16, 17, 19]\n",
      "[1, 2, 4, 5, 7, 8, 10, 11, 13, 14, 16, 17, 19, 20]\n",
      "[1, 2, 4, 5, 7, 8, 10, 11, 13, 14, 16, 17, 19, 20, 22]\n",
      "[1, 2, 4, 5, 7, 8, 10, 11, 13, 14, 16, 17, 19, 20, 22, 23]\n",
      "[1, 2, 4, 5, 7, 8, 10, 11, 13, 14, 16, 17, 19, 20, 22, 23, 25]\n",
      "[1, 2, 4, 5, 7, 8, 10, 11, 13, 14, 16, 17, 19, 20, 22, 23, 25, 26]\n",
      "[1, 2, 4, 5, 7, 8, 10, 11, 13, 14, 16, 17, 19, 20, 22, 23, 25, 26, 28]\n",
      "[1, 2, 4, 5, 7, 8, 10, 11, 13, 14, 16, 17, 19, 20, 22, 23, 25, 26, 28, 29]\n"
     ]
    }
   ],
   "source": [
    "lst=[]\n",
    "for i in range(0,30):\n",
    "    if i%3==0:\n",
    "        continue\n",
    "    lst.append(i)\n",
    "    print(lst)"
   ]
  },
  {
   "cell_type": "code",
   "execution_count": 30,
   "id": "fc049624-f346-4abe-9e79-340c5bc730b4",
   "metadata": {},
   "outputs": [
    {
     "name": "stdout",
     "output_type": "stream",
     "text": [
      "1\n",
      "2\n",
      "4\n",
      "5\n",
      "7\n",
      "8\n",
      "10\n",
      "11\n",
      "13\n",
      "14\n",
      "16\n",
      "17\n",
      "19\n",
      "20\n",
      "22\n",
      "23\n",
      "25\n",
      "26\n",
      "28\n",
      "29\n"
     ]
    }
   ],
   "source": [
    "lst=[]\n",
    "for i in range(0,30):\n",
    "    if i%3==0:\n",
    "        continue\n",
    "    lst.append(i)\n",
    "    print(i)"
   ]
  },
  {
   "cell_type": "code",
   "execution_count": null,
   "id": "9142298c-a8e4-4e91-9ac4-6252cbbb2268",
   "metadata": {},
   "outputs": [],
   "source": []
  }
 ],
 "metadata": {
  "kernelspec": {
   "display_name": "Python [conda env:base] *",
   "language": "python",
   "name": "conda-base-py"
  },
  "language_info": {
   "codemirror_mode": {
    "name": "ipython",
    "version": 3
   },
   "file_extension": ".py",
   "mimetype": "text/x-python",
   "name": "python",
   "nbconvert_exporter": "python",
   "pygments_lexer": "ipython3",
   "version": "3.12.7"
  }
 },
 "nbformat": 4,
 "nbformat_minor": 5
}

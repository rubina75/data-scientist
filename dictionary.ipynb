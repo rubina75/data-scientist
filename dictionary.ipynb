{
 "cells": [
  {
   "cell_type": "code",
   "execution_count": 77,
   "id": "8d649393-91cc-4f31-91c9-3de49ec41a63",
   "metadata": {},
   "outputs": [
    {
     "name": "stdout",
     "output_type": "stream",
     "text": [
      "{'name': 'ali', 'age': 22, 'major': 'computer science', 'roll_number': 12, 'marks': 90}\n"
     ]
    }
   ],
   "source": [
    "student_info={\"name\":\"ali\",\"age\":22,\"major\":\"computer science\",\"roll_number\":12,\"marks\":90}\n",
    "print(student_info)"
   ]
  },
  {
   "cell_type": "raw",
   "id": "44747e33-ce06-4f07-892c-d1405525e769",
   "metadata": {},
   "source": [
    "student_info['marks'] =80\n",
    "student_info"
   ]
  },
  {
   "cell_type": "code",
   "execution_count": 12,
   "id": "bb73c234-361c-4c22-8fd4-2c89d1567338",
   "metadata": {},
   "outputs": [
    {
     "data": {
      "text/plain": [
       "{'name': 'ali',\n",
       " 'age': 22,\n",
       " 'major': 'computer science',\n",
       " 'roll_number': 12,\n",
       " 'marks': 80}"
      ]
     },
     "execution_count": 12,
     "metadata": {},
     "output_type": "execute_result"
    }
   ],
   "source": [
    "student_info['marks'] =80\n",
    "student_info"
   ]
  },
  {
   "cell_type": "code",
   "execution_count": 36,
   "id": "9e76782e-d847-438e-8eff-3a3d7c57ac8b",
   "metadata": {},
   "outputs": [
    {
     "data": {
      "text/plain": [
       "{'name': 'ali',\n",
       " 'age': 22,\n",
       " 'major': 'computer science',\n",
       " 'roll_number': 12,\n",
       " 'marks': 90,\n",
       " 'sub': 'maths'}"
      ]
     },
     "execution_count": 36,
     "metadata": {},
     "output_type": "execute_result"
    }
   ],
   "source": [
    "student_info['sub']= 'maths'\n",
    "student_info"
   ]
  },
  {
   "cell_type": "code",
   "execution_count": 38,
   "id": "011357be-08b8-404c-8b97-0ec5104f9257",
   "metadata": {},
   "outputs": [
    {
     "data": {
      "text/plain": [
       "{'name': 'ali',\n",
       " 'age': 22,\n",
       " 'major': 'computer science',\n",
       " 'roll_number': 12,\n",
       " 'marks': 90}"
      ]
     },
     "execution_count": 38,
     "metadata": {},
     "output_type": "execute_result"
    }
   ],
   "source": [
    "student_info.pop('sub')\n",
    "student_info"
   ]
  },
  {
   "cell_type": "code",
   "execution_count": 22,
   "id": "d930b3f7-5941-498e-a1e9-0c6e43d4b322",
   "metadata": {},
   "outputs": [
    {
     "data": {
      "text/plain": [
       "dict_values(['ali', 22, 'computer science', 12, 80, 'maths'])"
      ]
     },
     "execution_count": 22,
     "metadata": {},
     "output_type": "execute_result"
    }
   ],
   "source": [
    "student_info.values()"
   ]
  },
  {
   "cell_type": "code",
   "execution_count": 24,
   "id": "15438419-d16f-4544-83ac-82760b577bfe",
   "metadata": {},
   "outputs": [
    {
     "data": {
      "text/plain": [
       "dict_keys(['name', 'age', 'major', 'roll_number', 'marks', 'sub'])"
      ]
     },
     "execution_count": 24,
     "metadata": {},
     "output_type": "execute_result"
    }
   ],
   "source": [
    "student_info.keys()"
   ]
  },
  {
   "cell_type": "code",
   "execution_count": 26,
   "id": "5d9d4909-e050-4e9e-b991-39b7e6c209e7",
   "metadata": {},
   "outputs": [
    {
     "data": {
      "text/plain": [
       "dict_items([('name', 'ali'), ('age', 22), ('major', 'computer science'), ('roll_number', 12), ('marks', 80), ('sub', 'maths')])"
      ]
     },
     "execution_count": 26,
     "metadata": {},
     "output_type": "execute_result"
    }
   ],
   "source": [
    "student_info.items()"
   ]
  },
  {
   "cell_type": "code",
   "execution_count": 30,
   "id": "eb430234-0ad3-49d0-bfc2-ccf1c5d1466b",
   "metadata": {},
   "outputs": [
    {
     "data": {
      "text/plain": [
       "{}"
      ]
     },
     "execution_count": 30,
     "metadata": {},
     "output_type": "execute_result"
    }
   ],
   "source": [
    "student_info.clear()\n",
    "student_info"
   ]
  },
  {
   "cell_type": "code",
   "execution_count": 79,
   "id": "f64e4857-2fa3-44db-9835-0c05153c19dc",
   "metadata": {},
   "outputs": [
    {
     "data": {
      "text/plain": [
       "{'name': 'ali',\n",
       " 'age': 22,\n",
       " 'major': 'computer science',\n",
       " 'roll_number': 12,\n",
       " 'marks': 90}"
      ]
     },
     "execution_count": 79,
     "metadata": {},
     "output_type": "execute_result"
    }
   ],
   "source": [
    "dic=student_info.copy()\n",
    "dic"
   ]
  },
  {
   "cell_type": "code",
   "execution_count": 46,
   "id": "a6bc5d3d-bac0-4c92-b5c8-21da99f91dec",
   "metadata": {},
   "outputs": [
    {
     "name": "stdout",
     "output_type": "stream",
     "text": [
      "name\n",
      "age\n",
      "major\n",
      "roll_number\n",
      "marks\n"
     ]
    }
   ],
   "source": [
    "for i in student_info:\n",
    "    print(i)\n"
   ]
  },
  {
   "cell_type": "code",
   "execution_count": 50,
   "id": "11218826-005d-4932-a205-119d9e3e2af6",
   "metadata": {},
   "outputs": [
    {
     "name": "stdout",
     "output_type": "stream",
     "text": [
      "ali\n",
      "22\n",
      "computer science\n",
      "12\n",
      "90\n"
     ]
    }
   ],
   "source": [
    "for i in student_info.values():\n",
    "    print(i)"
   ]
  },
  {
   "cell_type": "code",
   "execution_count": 52,
   "id": "4454c14a-5f33-4236-93bc-6616f0c87bce",
   "metadata": {},
   "outputs": [
    {
     "name": "stdout",
     "output_type": "stream",
     "text": [
      "name\n",
      "age\n",
      "major\n",
      "roll_number\n",
      "marks\n"
     ]
    }
   ],
   "source": [
    "for i in student_info.keys():\n",
    "    print(i)"
   ]
  },
  {
   "cell_type": "code",
   "execution_count": 54,
   "id": "4fb4d74c-3c7d-4e24-b918-c61b8fdfd724",
   "metadata": {},
   "outputs": [
    {
     "name": "stdout",
     "output_type": "stream",
     "text": [
      "('name', 'ali')\n",
      "('age', 22)\n",
      "('major', 'computer science')\n",
      "('roll_number', 12)\n",
      "('marks', 90)\n"
     ]
    }
   ],
   "source": [
    "for i in student_info.items():\n",
    "    print(i)"
   ]
  },
  {
   "cell_type": "code",
   "execution_count": 56,
   "id": "bc0f3f6c-0b01-4a3a-949a-306e3a2ae805",
   "metadata": {},
   "outputs": [
    {
     "name": "stdout",
     "output_type": "stream",
     "text": [
      "the keys is:  name and the value is : ali\n",
      "the keys is:  age and the value is : 22\n",
      "the keys is:  major and the value is : computer science\n",
      "the keys is:  roll_number and the value is : 12\n",
      "the keys is:  marks and the value is : 90\n"
     ]
    }
   ],
   "source": [
    "for i,j in student_info.items():\n",
    "    print('the keys is: ', i , 'and the value is :', j)"
   ]
  },
  {
   "cell_type": "code",
   "execution_count": 65,
   "id": "e8278b7f-ac82-4078-b7f6-7295e6604a34",
   "metadata": {},
   "outputs": [
    {
     "ename": "AttributeError",
     "evalue": "'dict' object has no attribute 'remove'",
     "output_type": "error",
     "traceback": [
      "\u001b[1;31m---------------------------------------------------------------------------\u001b[0m",
      "\u001b[1;31mAttributeError\u001b[0m                            Traceback (most recent call last)",
      "Cell \u001b[1;32mIn[65], line 1\u001b[0m\n\u001b[1;32m----> 1\u001b[0m student_info\u001b[38;5;241m.\u001b[39mremove(\u001b[38;5;124m'\u001b[39m\u001b[38;5;124mmajor\u001b[39m\u001b[38;5;124m'\u001b[39m)\n\u001b[0;32m      2\u001b[0m student_info\n",
      "\u001b[1;31mAttributeError\u001b[0m: 'dict' object has no attribute 'remove'"
     ]
    }
   ],
   "source": [
    "student_info.remove('major')\n",
    "student_info"
   ]
  },
  {
   "cell_type": "markdown",
   "id": "663e660a-9c61-4079-81b0-7957a99ce0c7",
   "metadata": {},
   "source": [
    "there is no remove attribute in dictionary"
   ]
  },
  {
   "cell_type": "code",
   "execution_count": 71,
   "id": "c3811dcb-7fd7-481c-81f8-730210e7610e",
   "metadata": {},
   "outputs": [
    {
     "ename": "NameError",
     "evalue": "name 'student_info' is not defined",
     "output_type": "error",
     "traceback": [
      "\u001b[1;31m---------------------------------------------------------------------------\u001b[0m",
      "\u001b[1;31mNameError\u001b[0m                                 Traceback (most recent call last)",
      "Cell \u001b[1;32mIn[71], line 1\u001b[0m\n\u001b[1;32m----> 1\u001b[0m \u001b[38;5;28;01mdel\u001b[39;00m(student_info)\n\u001b[0;32m      2\u001b[0m student_info\n",
      "\u001b[1;31mNameError\u001b[0m: name 'student_info' is not defined"
     ]
    }
   ],
   "source": [
    "# del(student_info)\n",
    "# student_info"
   ]
  },
  {
   "cell_type": "code",
   "execution_count": 81,
   "id": "ac3bd2c8-ba95-4a55-9f6f-323e355b3eec",
   "metadata": {},
   "outputs": [
    {
     "data": {
      "text/plain": [
       "{'name': 'ali', 'major': 'computer science', 'roll_number': 12, 'marks': 90}"
      ]
     },
     "execution_count": 81,
     "metadata": {},
     "output_type": "execute_result"
    }
   ],
   "source": [
    "del dic['age']\n",
    "dic"
   ]
  },
  {
   "cell_type": "code",
   "execution_count": 83,
   "id": "79adeb05-a961-4cf5-bf5b-af57e9ae215e",
   "metadata": {},
   "outputs": [
    {
     "data": {
      "text/plain": [
       "{'name': 'ali', 'age': 22, 'roll_number': 12, 'marks': 90}"
      ]
     },
     "execution_count": 83,
     "metadata": {},
     "output_type": "execute_result"
    }
   ],
   "source": [
    "del student_info['major']\n",
    "student_info"
   ]
  },
  {
   "cell_type": "code",
   "execution_count": 85,
   "id": "c41574ef-767b-42b8-9e8b-e71d2f64a3ad",
   "metadata": {},
   "outputs": [
    {
     "data": {
      "text/plain": [
       "{'name': 'ali', 'roll_number': 12, 'marks': 90}"
      ]
     },
     "execution_count": 85,
     "metadata": {},
     "output_type": "execute_result"
    }
   ],
   "source": [
    "del student_info['age']\n",
    "student_info"
   ]
  },
  {
   "cell_type": "code",
   "execution_count": 87,
   "id": "1bf9fb41-aaac-410f-9e77-d2607bc5d65f",
   "metadata": {},
   "outputs": [
    {
     "name": "stdout",
     "output_type": "stream",
     "text": [
      "{'name': 'ali', 'age': 22, 'major': 'computer science', 'roll_number': 12, 'marks': 90}\n"
     ]
    }
   ],
   "source": [
    "student={\"name\":\"ali\",\"age\":22,\"major\":\"computer science\",\"roll_number\":12,\"marks\":90}\n",
    "print(student)"
   ]
  },
  {
   "cell_type": "code",
   "execution_count": 89,
   "id": "fa7c6619-071e-4d61-a295-ef1c5e4dd2a4",
   "metadata": {},
   "outputs": [
    {
     "data": {
      "text/plain": [
       "5"
      ]
     },
     "execution_count": 89,
     "metadata": {},
     "output_type": "execute_result"
    }
   ],
   "source": [
    "len(student)"
   ]
  },
  {
   "cell_type": "code",
   "execution_count": 91,
   "id": "a04a0362-ffa9-4b73-8b15-000f5a7fdb29",
   "metadata": {},
   "outputs": [
    {
     "data": {
      "text/plain": [
       "('marks', 90)"
      ]
     },
     "execution_count": 91,
     "metadata": {},
     "output_type": "execute_result"
    }
   ],
   "source": [
    "student.popitem()"
   ]
  },
  {
   "cell_type": "code",
   "execution_count": 93,
   "id": "48883acc-fd4f-4dd4-baa9-55298627a93d",
   "metadata": {},
   "outputs": [
    {
     "data": {
      "text/plain": [
       "{'name': 'ali', 'age': 22, 'major': 'computer science', 'roll_number': 12}"
      ]
     },
     "execution_count": 93,
     "metadata": {},
     "output_type": "execute_result"
    }
   ],
   "source": [
    "student"
   ]
  },
  {
   "cell_type": "code",
   "execution_count": 99,
   "id": "c7237b59-d9d2-4d8a-80b2-a487d863dd74",
   "metadata": {},
   "outputs": [
    {
     "data": {
      "text/plain": [
       "22"
      ]
     },
     "execution_count": 99,
     "metadata": {},
     "output_type": "execute_result"
    }
   ],
   "source": [
    "student['age']"
   ]
  },
  {
   "cell_type": "code",
   "execution_count": 105,
   "id": "b83a333a-548b-49a5-85ff-7ea406311904",
   "metadata": {},
   "outputs": [
    {
     "data": {
      "text/plain": [
       "'a'"
      ]
     },
     "execution_count": 105,
     "metadata": {},
     "output_type": "execute_result"
    }
   ],
   "source": [
    "'age'[0]"
   ]
  },
  {
   "cell_type": "code",
   "execution_count": 111,
   "id": "cc401ac4-2211-42b5-93f9-80123c32d39f",
   "metadata": {},
   "outputs": [
    {
     "data": {
      "text/plain": [
       "int"
      ]
     },
     "execution_count": 111,
     "metadata": {},
     "output_type": "execute_result"
    }
   ],
   "source": [
    "type(student['age'])"
   ]
  },
  {
   "cell_type": "code",
   "execution_count": 113,
   "id": "869ba885-1e19-40c5-9f91-8cdc1d46c121",
   "metadata": {},
   "outputs": [
    {
     "data": {
      "text/plain": [
       "'m'"
      ]
     },
     "execution_count": 113,
     "metadata": {},
     "output_type": "execute_result"
    }
   ],
   "source": [
    "student['major'][2]"
   ]
  },
  {
   "cell_type": "code",
   "execution_count": 115,
   "id": "dd4849d8-5785-4a3e-b480-8f9c556e7939",
   "metadata": {},
   "outputs": [
    {
     "ename": "SyntaxError",
     "evalue": "invalid syntax. Perhaps you forgot a comma? (1762231546.py, line 2)",
     "output_type": "error",
     "traceback": [
      "\u001b[1;36m  Cell \u001b[1;32mIn[115], line 2\u001b[1;36m\u001b[0m\n\u001b[1;33m    \"name\":[\"fabiha\",\"afifa\",\"ali\",\"shan\"]\u001b[0m\n\u001b[1;37m           ^\u001b[0m\n\u001b[1;31mSyntaxError\u001b[0m\u001b[1;31m:\u001b[0m invalid syntax. Perhaps you forgot a comma?\n"
     ]
    }
   ],
   "source": [
    "marks={\n",
    "    \"name\":[\"fabiha\",\"afifa\",\"ali\",\"shan\"]\n",
    "    \"marks\":[80,75,66,56]\n",
    "    \"presentation\":[\"urdu\",\"computer\",\"science\",\"maths\"]\n",
    "     \"attendence\":[90%, 80%, 60%, 50%]\n",
    "}"
   ]
  },
  {
   "cell_type": "code",
   "execution_count": null,
   "id": "ababe0e9-1fe2-4181-a96e-b63d2a5e76cb",
   "metadata": {},
   "outputs": [],
   "source": []
  }
 ],
 "metadata": {
  "kernelspec": {
   "display_name": "Python [conda env:base] *",
   "language": "python",
   "name": "conda-base-py"
  },
  "language_info": {
   "codemirror_mode": {
    "name": "ipython",
    "version": 3
   },
   "file_extension": ".py",
   "mimetype": "text/x-python",
   "name": "python",
   "nbconvert_exporter": "python",
   "pygments_lexer": "ipython3",
   "version": "3.12.7"
  }
 },
 "nbformat": 4,
 "nbformat_minor": 5
}

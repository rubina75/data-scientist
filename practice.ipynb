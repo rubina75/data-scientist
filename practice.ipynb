{
 "cells": [
  {
   "cell_type": "code",
   "execution_count": 3,
   "id": "15ad13e8-22a1-448f-aa08-3dd440f68965",
   "metadata": {},
   "outputs": [
    {
     "name": "stdout",
     "output_type": "stream",
     "text": [
      "hello world---234---2.3---False\n",
      "\n",
      "\n",
      "i am your friend\n"
     ]
    }
   ],
   "source": [
    "print('hello world',234,2.3,False,sep='---',end='\\n\\n\\n')\n",
    "print('i am your friend')"
   ]
  },
  {
   "cell_type": "code",
   "execution_count": 5,
   "id": "97940b11-bd47-472a-b856-b92bcbdc2c94",
   "metadata": {},
   "outputs": [
    {
     "name": "stdout",
     "output_type": "stream",
     "text": [
      "karachi\n"
     ]
    }
   ],
   "source": [
    "city='karachi'\n",
    "print(city)"
   ]
  },
  {
   "cell_type": "code",
   "execution_count": 7,
   "id": "84526573-8378-4e24-bd79-84b02adb08a8",
   "metadata": {},
   "outputs": [
    {
     "data": {
      "text/plain": [
       "'karachi'"
      ]
     },
     "execution_count": 7,
     "metadata": {},
     "output_type": "execute_result"
    }
   ],
   "source": [
    "city"
   ]
  },
  {
   "cell_type": "code",
   "execution_count": 27,
   "id": "b01bfd19-43a0-49eb-8982-a66f2d7c9657",
   "metadata": {},
   "outputs": [
    {
     "name": "stdout",
     "output_type": "stream",
     "text": [
      "the sum is: 9\n"
     ]
    }
   ],
   "source": [
    "num1= 4\n",
    "num2= 5\n",
    "sum=num1 + num2\n",
    "print('the sum is:' ,sum)"
   ]
  },
  {
   "cell_type": "code",
   "execution_count": 29,
   "id": "c10d8555-4d08-401a-9273-7c50a81ddf24",
   "metadata": {},
   "outputs": [
    {
     "name": "stdout",
     "output_type": "stream",
     "text": [
      "the product is: 50\n"
     ]
    }
   ],
   "source": [
    "num1= 10\n",
    "num2= 5\n",
    "pro= num1*num2\n",
    "print('the product is:' ,pro)"
   ]
  },
  {
   "cell_type": "code",
   "execution_count": 31,
   "id": "90a47c29-e401-41c0-9689-f52f2b3e6347",
   "metadata": {},
   "outputs": [
    {
     "name": "stdout",
     "output_type": "stream",
     "text": [
      "the diff is: 5\n"
     ]
    }
   ],
   "source": [
    "num1= 10\n",
    "num2= 5\n",
    "diff= num1-num2\n",
    "print('the diff is:' ,diff)"
   ]
  },
  {
   "cell_type": "code",
   "execution_count": 33,
   "id": "d4df45ac-be7e-4d59-9607-1f2b19612d76",
   "metadata": {},
   "outputs": [
    {
     "name": "stdout",
     "output_type": "stream",
     "text": [
      "the div is: 2.0\n"
     ]
    }
   ],
   "source": [
    "num1= 10\n",
    "num2= 5\n",
    "div= num1/num2\n",
    "print('the div is:' ,div)"
   ]
  },
  {
   "cell_type": "code",
   "execution_count": 35,
   "id": "3ab7edfa-43ec-41e7-ad86-8cee35eb61d1",
   "metadata": {},
   "outputs": [
    {
     "name": "stdout",
     "output_type": "stream",
     "text": [
      "the area of rectangle is : 104\n"
     ]
    }
   ],
   "source": [
    "height= 13\n",
    "width= 8\n",
    "area= height*width\n",
    "print('the area of rectangle is :' , area)"
   ]
  },
  {
   "cell_type": "code",
   "execution_count": 121,
   "id": "4c997a2b-c6fc-49d4-856a-ed1fc917d483",
   "metadata": {},
   "outputs": [
    {
     "name": "stdout",
     "output_type": "stream",
     "text": [
      "the modulus is: 0\n"
     ]
    }
   ],
   "source": [
    "num1= 10\n",
    "num2= 5\n",
    "mod= num1%num2 # remaider value\n",
    "print('the modulus is:' ,mod)"
   ]
  },
  {
   "cell_type": "code",
   "execution_count": 123,
   "id": "bc7a41f0-d45b-4d92-b9b0-490d2c1be917",
   "metadata": {},
   "outputs": [
    {
     "name": "stdout",
     "output_type": "stream",
     "text": [
      "the exponential is: 100000\n"
     ]
    }
   ],
   "source": [
    "num1= 10\n",
    "num2= 5\n",
    "exp= num1**num2\n",
    "print('the exponential is:' ,exp)"
   ]
  },
  {
   "cell_type": "code",
   "execution_count": 37,
   "id": "76de8468-e20f-4cf1-a74a-f1cac6a5fa0a",
   "metadata": {},
   "outputs": [
    {
     "data": {
      "text/plain": [
       "str"
      ]
     },
     "execution_count": 37,
     "metadata": {},
     "output_type": "execute_result"
    }
   ],
   "source": [
    "type('pakistan')"
   ]
  },
  {
   "cell_type": "code",
   "execution_count": 39,
   "id": "76b2eec8-f420-416e-983f-bf1582ac13f8",
   "metadata": {},
   "outputs": [
    {
     "data": {
      "text/plain": [
       "int"
      ]
     },
     "execution_count": 39,
     "metadata": {},
     "output_type": "execute_result"
    }
   ],
   "source": [
    "type(23)"
   ]
  },
  {
   "cell_type": "code",
   "execution_count": 41,
   "id": "566428fc-35f6-42c0-b291-a909dc05670d",
   "metadata": {},
   "outputs": [
    {
     "data": {
      "text/plain": [
       "float"
      ]
     },
     "execution_count": 41,
     "metadata": {},
     "output_type": "execute_result"
    }
   ],
   "source": [
    "type(2.3)"
   ]
  },
  {
   "cell_type": "code",
   "execution_count": 43,
   "id": "fb137ed6-cdd1-4791-996e-7ba031834531",
   "metadata": {},
   "outputs": [
    {
     "data": {
      "text/plain": [
       "bool"
      ]
     },
     "execution_count": 43,
     "metadata": {},
     "output_type": "execute_result"
    }
   ],
   "source": [
    "type(True)"
   ]
  },
  {
   "cell_type": "code",
   "execution_count": 45,
   "id": "f8c9b19a-2b74-49b4-8539-75c36306f539",
   "metadata": {},
   "outputs": [
    {
     "data": {
      "text/plain": [
       "set"
      ]
     },
     "execution_count": 45,
     "metadata": {},
     "output_type": "execute_result"
    }
   ],
   "source": [
    "type({1, 2, 3})"
   ]
  },
  {
   "cell_type": "code",
   "execution_count": 47,
   "id": "270e2099-fbbd-4b53-baa7-a05169c826b4",
   "metadata": {},
   "outputs": [
    {
     "data": {
      "text/plain": [
       "tuple"
      ]
     },
     "execution_count": 47,
     "metadata": {},
     "output_type": "execute_result"
    }
   ],
   "source": [
    "type((1,2,3))"
   ]
  },
  {
   "cell_type": "code",
   "execution_count": 49,
   "id": "5883b7c8-4c43-43c6-a6ed-3a2ce3cc2807",
   "metadata": {},
   "outputs": [
    {
     "data": {
      "text/plain": [
       "list"
      ]
     },
     "execution_count": 49,
     "metadata": {},
     "output_type": "execute_result"
    }
   ],
   "source": [
    "type([1,2,3,4])"
   ]
  },
  {
   "cell_type": "code",
   "execution_count": 59,
   "id": "407028c7-528b-4c54-b9e1-82e6c88e5aac",
   "metadata": {},
   "outputs": [
    {
     "data": {
      "text/plain": [
       "dict"
      ]
     },
     "execution_count": 59,
     "metadata": {},
     "output_type": "execute_result"
    }
   ],
   "source": [
    "type({\"name\":'rubi',\"age\": 22})"
   ]
  },
  {
   "cell_type": "code",
   "execution_count": 61,
   "id": "27054bf7-a8f7-4228-b654-50d155199315",
   "metadata": {},
   "outputs": [
    {
     "data": {
      "text/plain": [
       "'united states'"
      ]
     },
     "execution_count": 61,
     "metadata": {},
     "output_type": "execute_result"
    }
   ],
   "source": [
    "a='united states'\n",
    "a"
   ]
  },
  {
   "cell_type": "code",
   "execution_count": 63,
   "id": "b827a144-5b28-4dee-8d09-f5ea0924bd7c",
   "metadata": {},
   "outputs": [
    {
     "data": {
      "text/plain": [
       "13"
      ]
     },
     "execution_count": 63,
     "metadata": {},
     "output_type": "execute_result"
    }
   ],
   "source": [
    "len(a) # with spcae count"
   ]
  },
  {
   "cell_type": "code",
   "execution_count": 65,
   "id": "b8ca638e-59ea-47ef-8ee9-ceff14437e5c",
   "metadata": {},
   "outputs": [
    {
     "data": {
      "text/plain": [
       "3"
      ]
     },
     "execution_count": 65,
     "metadata": {},
     "output_type": "execute_result"
    }
   ],
   "source": [
    "a.count('t')"
   ]
  },
  {
   "cell_type": "code",
   "execution_count": 67,
   "id": "a6328c4a-b76a-4c3e-8e34-b1101b4b48e5",
   "metadata": {},
   "outputs": [
    {
     "data": {
      "text/plain": [
       "1"
      ]
     },
     "execution_count": 67,
     "metadata": {},
     "output_type": "execute_result"
    }
   ],
   "source": [
    "a.count('united')"
   ]
  },
  {
   "cell_type": "code",
   "execution_count": 69,
   "id": "79f746cf-e245-44ba-ab1f-179f4dd77c04",
   "metadata": {},
   "outputs": [
    {
     "data": {
      "text/plain": [
       "2"
      ]
     },
     "execution_count": 69,
     "metadata": {},
     "output_type": "execute_result"
    }
   ],
   "source": [
    "a.count('s')"
   ]
  },
  {
   "cell_type": "code",
   "execution_count": 73,
   "id": "29699471-f998-44b7-9274-f0a960ba5491",
   "metadata": {},
   "outputs": [
    {
     "data": {
      "text/plain": [
       "True"
      ]
     },
     "execution_count": 73,
     "metadata": {},
     "output_type": "execute_result"
    }
   ],
   "source": [
    "a.endswith('s')"
   ]
  },
  {
   "cell_type": "code",
   "execution_count": 75,
   "id": "49313c6f-861d-4bc0-b95c-20df856f8390",
   "metadata": {},
   "outputs": [
    {
     "data": {
      "text/plain": [
       "True"
      ]
     },
     "execution_count": 75,
     "metadata": {},
     "output_type": "execute_result"
    }
   ],
   "source": [
    "a.startswith('u')"
   ]
  },
  {
   "cell_type": "code",
   "execution_count": 77,
   "id": "fc25bdec-2e6f-457e-aaab-b5a61f5d173f",
   "metadata": {},
   "outputs": [
    {
     "data": {
      "text/plain": [
       "2"
      ]
     },
     "execution_count": 77,
     "metadata": {},
     "output_type": "execute_result"
    }
   ],
   "source": [
    "a.find('i')"
   ]
  },
  {
   "cell_type": "code",
   "execution_count": 81,
   "id": "305ff175-a490-4392-8f00-accea8853a7e",
   "metadata": {},
   "outputs": [
    {
     "data": {
      "text/plain": [
       "False"
      ]
     },
     "execution_count": 81,
     "metadata": {},
     "output_type": "execute_result"
    }
   ],
   "source": [
    "a.isalpha()"
   ]
  },
  {
   "cell_type": "code",
   "execution_count": 83,
   "id": "dc5be1d1-391e-4164-a34c-a9a6dc9005a3",
   "metadata": {},
   "outputs": [
    {
     "data": {
      "text/plain": [
       "False"
      ]
     },
     "execution_count": 83,
     "metadata": {},
     "output_type": "execute_result"
    }
   ],
   "source": [
    "a.isspace()"
   ]
  },
  {
   "cell_type": "code",
   "execution_count": 89,
   "id": "5729fcdf-9ee9-45dc-b89f-3e9031fa521a",
   "metadata": {},
   "outputs": [
    {
     "data": {
      "text/plain": [
       "False"
      ]
     },
     "execution_count": 89,
     "metadata": {},
     "output_type": "execute_result"
    }
   ],
   "source": [
    "a.isdigit()"
   ]
  },
  {
   "cell_type": "code",
   "execution_count": 95,
   "id": "e653ab04-06d7-4da5-b957-af054e06cf60",
   "metadata": {},
   "outputs": [
    {
     "data": {
      "text/plain": [
       "False"
      ]
     },
     "execution_count": 95,
     "metadata": {},
     "output_type": "execute_result"
    }
   ],
   "source": [
    "a.isalnum()"
   ]
  },
  {
   "cell_type": "code",
   "execution_count": 101,
   "id": "f857121a-b9af-4f65-9a62-a3ab45c14d0f",
   "metadata": {},
   "outputs": [
    {
     "data": {
      "text/plain": [
       "'UNITED STATES'"
      ]
     },
     "execution_count": 101,
     "metadata": {},
     "output_type": "execute_result"
    }
   ],
   "source": [
    "a.upper()"
   ]
  },
  {
   "cell_type": "code",
   "execution_count": 103,
   "id": "90c3bb94-eafc-4bf5-a80c-cc832328c3af",
   "metadata": {},
   "outputs": [
    {
     "data": {
      "text/plain": [
       "'united states'"
      ]
     },
     "execution_count": 103,
     "metadata": {},
     "output_type": "execute_result"
    }
   ],
   "source": [
    "a.lower()"
   ]
  },
  {
   "cell_type": "code",
   "execution_count": 107,
   "id": "e32cd694-7ebd-4da7-8c5a-9010b3af9c69",
   "metadata": {},
   "outputs": [
    {
     "data": {
      "text/plain": [
       "'three little ducks'"
      ]
     },
     "execution_count": 107,
     "metadata": {},
     "output_type": "execute_result"
    }
   ],
   "source": [
    "text ='three little ducks'\n",
    "text"
   ]
  },
  {
   "cell_type": "code",
   "execution_count": 109,
   "id": "5ad96e38-f7fc-4fef-8791-e2ce8c579c94",
   "metadata": {},
   "outputs": [
    {
     "data": {
      "text/plain": [
       "['three', 'little', 'ducks']"
      ]
     },
     "execution_count": 109,
     "metadata": {},
     "output_type": "execute_result"
    }
   ],
   "source": [
    "text.split()"
   ]
  },
  {
   "cell_type": "code",
   "execution_count": 117,
   "id": "e8e4f71a-639f-40ec-86b0-12a38a3d0e73",
   "metadata": {},
   "outputs": [
    {
     "data": {
      "text/plain": [
       "'three little chicks'"
      ]
     },
     "execution_count": 117,
     "metadata": {},
     "output_type": "execute_result"
    }
   ],
   "source": [
    "text.replace('ducks', 'chicks')"
   ]
  },
  {
   "cell_type": "code",
   "execution_count": 111,
   "id": "9ebc7dcd-2b09-4e3e-90ee-3275a879a421",
   "metadata": {},
   "outputs": [
    {
     "data": {
      "text/plain": [
       "'The sun dipped below the horizon, casting a warm golden glow across the quiet town. Birds chirped softly in the distance, and the rustling leaves whispered secrets to anyone willing to listen. As the evening breeze cooled the air, a sense of peace settled over the streets. People wandered outside, enjoying the gentle transition from day to night, knowing that tomorrow would bring new opportunities and stories to be told.'"
      ]
     },
     "execution_count": 111,
     "metadata": {},
     "output_type": "execute_result"
    }
   ],
   "source": [
    "para='The sun dipped below the horizon, casting a warm golden glow across the quiet town. Birds chirped softly in the distance, and the rustling leaves whispered secrets to anyone willing to listen. As the evening breeze cooled the air, a sense of peace settled over the streets. People wandered outside, enjoying the gentle transition from day to night, knowing that tomorrow would bring new opportunities and stories to be told.'\n",
    "para"
   ]
  },
  {
   "cell_type": "code",
   "execution_count": 125,
   "id": "a53b0fc5-bf81-420d-9773-840eb3d730f2",
   "metadata": {},
   "outputs": [
    {
     "data": {
      "text/plain": [
       "['The sun dipped below the horizon, casting a warm golden glow across the quiet town',\n",
       " ' Birds chirped softly in the distance, and the rustling leaves whispered secrets to anyone willing to listen',\n",
       " ' As the evening breeze cooled the air, a sense of peace settled over the streets',\n",
       " ' People wandered outside, enjoying the gentle transition from day to night, knowing that tomorrow would bring new opportunities and stories to be told',\n",
       " '']"
      ]
     },
     "execution_count": 125,
     "metadata": {},
     "output_type": "execute_result"
    }
   ],
   "source": [
    "para.split('.')"
   ]
  },
  {
   "cell_type": "code",
   "execution_count": 127,
   "id": "2bd99e33-a99e-4809-af6a-a420aaf36627",
   "metadata": {},
   "outputs": [
    {
     "data": {
      "text/plain": [
       "424"
      ]
     },
     "execution_count": 127,
     "metadata": {},
     "output_type": "execute_result"
    }
   ],
   "source": [
    "len(para) # to count caharacteristics with space and punctuations"
   ]
  },
  {
   "cell_type": "code",
   "execution_count": 131,
   "id": "babf3515-902f-47fb-8bb1-e3b611b861e3",
   "metadata": {},
   "outputs": [
    {
     "data": {
      "text/plain": [
       "69"
      ]
     },
     "execution_count": 131,
     "metadata": {},
     "output_type": "execute_result"
    }
   ],
   "source": [
    "para.count(' ') # to count words"
   ]
  },
  {
   "cell_type": "code",
   "execution_count": 115,
   "id": "817f2593-3c54-4e65-9c9a-13617ad2c62c",
   "metadata": {},
   "outputs": [
    {
     "data": {
      "text/plain": [
       "'abc'"
      ]
     },
     "execution_count": 115,
     "metadata": {},
     "output_type": "execute_result"
    }
   ],
   "source": [
    "x='   abc'\n",
    "x.lstrip()  # removes the left side space"
   ]
  },
  {
   "cell_type": "code",
   "execution_count": 143,
   "id": "80e81721-c7ab-4538-8132-a6fd02ac7bc4",
   "metadata": {},
   "outputs": [
    {
     "name": "stdin",
     "output_type": "stream",
     "text": [
      "enter your name: ali\n",
      "enter your age: 22\n"
     ]
    },
    {
     "name": "stdout",
     "output_type": "stream",
     "text": [
      "hello, ali ! you are 22 years old\n"
     ]
    }
   ],
   "source": [
    "name= input('enter your name:' )\n",
    "age= int(input('enter your age:' ))\n",
    "print('hello,', name,'! you are', age,'years old') "
   ]
  },
  {
   "cell_type": "code",
   "execution_count": 149,
   "id": "9dac6917-fb40-4fe2-a59a-e1b8bddbe9b4",
   "metadata": {},
   "outputs": [
    {
     "name": "stdin",
     "output_type": "stream",
     "text": [
      "enter a number: 3\n",
      "enter a number: 3\n"
     ]
    },
    {
     "name": "stdout",
     "output_type": "stream",
     "text": [
      "Sum: 6.0\n",
      "differnce: 0.0\n",
      "product: 9.0\n",
      "Qutation: 1.0\n"
     ]
    }
   ],
   "source": [
    "num1= float(input( 'enter a number:'))\n",
    "num2= float(input( 'enter a number:'))\n",
    "print('Sum:', num1+num2)\n",
    "print('differnce:', num1-num2)\n",
    "print('product:', num1*num2)\n",
    "print('Qutation:', num1/num2)"
   ]
  },
  {
   "cell_type": "markdown",
   "id": "8a323b17-5f1a-420a-b234-0eb8c2525b7a",
   "metadata": {},
   "source": [
    "Write a Python program that takes two inputs from the user: one integer and one string representing a number.\n",
    "The program should perform the following operations:\n",
    "\n",
    "    Convert the string input to an integer.\n",
    "    Add the two integers together.\n",
    "    Print the result of the addition."
   ]
  },
  {
   "cell_type": "code",
   "execution_count": 151,
   "id": "a73a7007-1f1e-4bc5-b075-82c7564fdd8a",
   "metadata": {},
   "outputs": [
    {
     "name": "stdin",
     "output_type": "stream",
     "text": [
      "Enter a number: 2\n",
      "enter a number: 2\n"
     ]
    },
    {
     "name": "stdout",
     "output_type": "stream",
     "text": [
      "the sum of num1 and num2 is: 4\n"
     ]
    }
   ],
   "source": [
    "num1=int(input('Enter a number:'))\n",
    "num2=input('enter a number:')\n",
    "num=int(num2)\n",
    "sum=num1+num\n",
    "print('the sum of num1 and num2 is:', sum)"
   ]
  },
  {
   "cell_type": "markdown",
   "id": "71c33832-2ee7-40ca-af0d-84c40af481e3",
   "metadata": {},
   "source": [
    "Write a Python program that asks the user for two numbers and then prints the sum, product, and difference of the two numbers using formatted output"
   ]
  },
  {
   "cell_type": "code",
   "execution_count": 157,
   "id": "ec69a9cf-707b-45aa-833b-f0be41d4d85c",
   "metadata": {},
   "outputs": [
    {
     "name": "stdin",
     "output_type": "stream",
     "text": [
      "enter a number:  4\n",
      "enter a number:  8\n"
     ]
    },
    {
     "name": "stdout",
     "output_type": "stream",
     "text": [
      "the sum of 4 and 8 is 12\n",
      "the product of 4 and 8 is 12\n",
      "the sub of 4 and 8 is -4\n"
     ]
    }
   ],
   "source": [
    "num1=int(input('enter a number: '))\n",
    "num2=int(input('enter a number: '))\n",
    "sum=num1+num2\n",
    "pro=num1+num2\n",
    "sub=num1-num2\n",
    "print(f'the sum of {num1} and {num2} is {sum}')\n",
    "print(f'the product of {num1} and {num2} is {pro}')\n",
    "print(f'the sub of {num1} and {num2} is {sub}')"
   ]
  },
  {
   "cell_type": "code",
   "execution_count": 165,
   "id": "a403fff7-765a-4f10-ba1e-5a954ac5919b",
   "metadata": {},
   "outputs": [
    {
     "name": "stdout",
     "output_type": "stream",
     "text": [
      "CustomerID: 101, Feedback:   Excellent service and fast delivery!!   \n",
      "CustomerID: 102, Feedback: Horrible support, never ordering again...\n",
      "CustomerID: 103, Feedback: Great quality but packaging was bad. \n",
      "CustomerID: 104, Feedback:     Amazing product, will recommend.    \n",
      "CustomerID: 105, Feedback: Not happy with the product!   \n"
     ]
    }
   ],
   "source": [
    "customer_ids = [101, 102, 103, 104, 105]\n",
    "feedback = [\n",
    "    \"  Excellent service and fast delivery!!   \",\n",
    "    \"Horrible support, never ordering again...\",\n",
    "    \"Great quality but packaging was bad. \",\n",
    "    \"    Amazing product, will recommend.    \",\n",
    "    \"Not happy with the product!   \"\n",
    "]\n",
    "for i in range(len(feedback)):\n",
    "    print(f'CustomerID: {customer_ids[i]}, Feedback: {feedback[i]}')"
   ]
  },
  {
   "cell_type": "code",
   "execution_count": 167,
   "id": "19c3850d-c0f0-4af3-b24f-9d2994ddf7b5",
   "metadata": {},
   "outputs": [
    {
     "name": "stdin",
     "output_type": "stream",
     "text": [
      "enter a number: 3\n",
      "enter a number: 5\n"
     ]
    },
    {
     "name": "stdout",
     "output_type": "stream",
     "text": [
      "3 is not greater than 5\n"
     ]
    }
   ],
   "source": [
    "num1=int(input('enter a number:'))\n",
    "num2=int(input('enter a number:'))\n",
    "if (num1>num2):\n",
    "    print(f'{num1} is greater than {num2}')\n",
    "else:\n",
    "    print(f'{num1} is not greater than {num2}')"
   ]
  },
  {
   "cell_type": "code",
   "execution_count": 169,
   "id": "e88e7413-305f-4ac1-861b-b209837e6192",
   "metadata": {},
   "outputs": [
    {
     "name": "stdin",
     "output_type": "stream",
     "text": [
      "enter a number: 5\n"
     ]
    },
    {
     "name": "stdout",
     "output_type": "stream",
     "text": [
      "the number is positive\n"
     ]
    }
   ],
   "source": [
    "num=int(input('enter a number:'))\n",
    "if(num> 0):\n",
    "    print('the number is positive')\n",
    "elif(num<0):\n",
    "    print('the num is negative')\n",
    "else:\n",
    "    print('the num is zero')"
   ]
  },
  {
   "cell_type": "code",
   "execution_count": 171,
   "id": "17508532-d332-4ca5-8474-728a3fb56094",
   "metadata": {},
   "outputs": [
    {
     "name": "stdin",
     "output_type": "stream",
     "text": [
      "enter a number: 7\n"
     ]
    },
    {
     "name": "stdout",
     "output_type": "stream",
     "text": [
      "the num is odd\n"
     ]
    }
   ],
   "source": [
    "num=int(input('enter a number:'))\n",
    "if(num%2==0):\n",
    "    print('the num is even')\n",
    "else:\n",
    "    print('the num is odd')"
   ]
  },
  {
   "cell_type": "code",
   "execution_count": 173,
   "id": "039e8c5e-1386-496e-8c79-de6609acfba1",
   "metadata": {},
   "outputs": [
    {
     "name": "stdin",
     "output_type": "stream",
     "text": [
      "enter a number: 3\n",
      "enter a number: 4\n",
      "enter a number: 5\n",
      "enter a number: 6\n"
     ]
    },
    {
     "name": "stdout",
     "output_type": "stream",
     "text": [
      "num4 is the largest number\n"
     ]
    }
   ],
   "source": [
    "num1=int(input('enter a number:'))\n",
    "num2=int(input('enter a number:'))\n",
    "num3=int(input('enter a number:'))\n",
    "num4=int(input('enter a number:'))\n",
    "if (num1>=num2 and num1>=num3 and num1>=num4):\n",
    "    print('num1 is the largest number')\n",
    "elif (num2>num1 and num2>=num3 and num2>=num4):\n",
    "    print('num2 is the largest number')\n",
    "elif (num3>num2 and num3>=num1 and num3>=num4):\n",
    "    print('num3 is the largest number')\n",
    "else :\n",
    "    print('num4 is the largest number')\n",
    "    "
   ]
  },
  {
   "cell_type": "code",
   "execution_count": 175,
   "id": "9b54fc8a-4ba4-4340-9abe-7ea0a808f17d",
   "metadata": {},
   "outputs": [
    {
     "name": "stdin",
     "output_type": "stream",
     "text": [
      "Enter a year:  2005\n"
     ]
    },
    {
     "name": "stdout",
     "output_type": "stream",
     "text": [
      "2005 is not a leap year.\n"
     ]
    }
   ],
   "source": [
    "year = int(input(\"Enter a year: \"))\n",
    "\n",
    "if (year % 4 == 0 and year % 100 != 0) or (year % 400 == 0):\n",
    "    print(f\"{year} is a leap year.\")\n",
    "else:\n",
    "    print(f\"{year} is not a leap year.\")"
   ]
  },
  {
   "cell_type": "code",
   "execution_count": 179,
   "id": "2c00b2eb-2965-4e6b-a4e0-c24e5fff6a58",
   "metadata": {},
   "outputs": [
    {
     "name": "stdin",
     "output_type": "stream",
     "text": [
      "enter a number: 4\n"
     ]
    },
    {
     "name": "stdout",
     "output_type": "stream",
     "text": [
      "the num is not a prime number\n"
     ]
    }
   ],
   "source": [
    "num=int(input('enter a number:'))\n",
    "if (num >1):\n",
    "    for i in range(2, num):\n",
    "        if (num% i ==0):\n",
    "            print('the num is not a prime number')\n",
    "            break\n",
    "        else:\n",
    "            print('the num is a prime number')\n",
    "else:\n",
    "    print('the num is not a prime number')"
   ]
  },
  {
   "cell_type": "code",
   "execution_count": 181,
   "id": "1bc2bdff-842b-489b-af45-ca0bc6438f06",
   "metadata": {},
   "outputs": [
    {
     "name": "stdin",
     "output_type": "stream",
     "text": [
      "enter your username riorvdlvkovklvdvm\n",
      "enter your password dvndjkvndvdlvjv\n"
     ]
    },
    {
     "name": "stdout",
     "output_type": "stream",
     "text": [
      "too big\n"
     ]
    }
   ],
   "source": [
    "user=input('enter your username')\n",
    "password=input('enter your password')\n",
    "if (len(user and password) >10):\n",
    "    print('too big')\n",
    "else:\n",
    "    print('ok')\n",
    "    "
   ]
  },
  {
   "cell_type": "code",
   "execution_count": 183,
   "id": "514e274b-b6e2-442b-a4d0-1011ce54408f",
   "metadata": {},
   "outputs": [
    {
     "name": "stdin",
     "output_type": "stream",
     "text": [
      "Enter a number for height(ft):  4\n"
     ]
    },
    {
     "name": "stdout",
     "output_type": "stream",
     "text": [
      "Short\n"
     ]
    }
   ],
   "source": [
    "height = float(input(\"Enter a number for height(ft): \"))\n",
    "if height > 6:\n",
    "    print(\"Tall man\")\n",
    "elif height > 5:\n",
    "    print('Average')\n",
    "else:\n",
    "    print(\"Short\")"
   ]
  },
  {
   "cell_type": "code",
   "execution_count": 251,
   "id": "0be656f9-6333-483b-a544-91f579799188",
   "metadata": {},
   "outputs": [
    {
     "data": {
      "text/plain": [
       "['Apple', 'Sharifa', 'Mango', 'Cherry', 'Banana', 'Zarifa']"
      ]
     },
     "execution_count": 251,
     "metadata": {},
     "output_type": "execute_result"
    }
   ],
   "source": [
    "# index     0         1           2       3          4       5\n",
    "fruits = ['Apple', 'Sharifa', 'Mango','Cherry','Banana',\"Zarifa\"]\n",
    "# -ve       -6        -5       -4         -3      -2       -1\n",
    "fruits"
   ]
  },
  {
   "cell_type": "code",
   "execution_count": 223,
   "id": "f298b656-8bb5-4bb6-8fd2-2f979e65b24b",
   "metadata": {},
   "outputs": [
    {
     "data": {
      "text/plain": [
       "6"
      ]
     },
     "execution_count": 223,
     "metadata": {},
     "output_type": "execute_result"
    }
   ],
   "source": [
    "len(fruits)"
   ]
  },
  {
   "cell_type": "code",
   "execution_count": 225,
   "id": "c8c37256-e577-497c-a40f-47d6f9d83360",
   "metadata": {},
   "outputs": [
    {
     "data": {
      "text/plain": [
       "'Mango'"
      ]
     },
     "execution_count": 225,
     "metadata": {},
     "output_type": "execute_result"
    }
   ],
   "source": [
    "fruits[2]"
   ]
  },
  {
   "cell_type": "code",
   "execution_count": 227,
   "id": "7127fdb5-56b1-4b71-8e51-2e233b86e779",
   "metadata": {},
   "outputs": [
    {
     "data": {
      "text/plain": [
       "'Mango'"
      ]
     },
     "execution_count": 227,
     "metadata": {},
     "output_type": "execute_result"
    }
   ],
   "source": [
    "fruits[-4]"
   ]
  },
  {
   "cell_type": "code",
   "execution_count": 253,
   "id": "372ef07f-12e0-4086-bab1-ef321a585f32",
   "metadata": {},
   "outputs": [
    {
     "data": {
      "text/plain": [
       "['Apple', 'Sharifa', 'Mango', 'Cherry', 'Banana', 'Zarifa', 'orange']"
      ]
     },
     "execution_count": 253,
     "metadata": {},
     "output_type": "execute_result"
    }
   ],
   "source": [
    "fruits.append('orange') # add at end\n",
    "fruits"
   ]
  },
  {
   "cell_type": "code",
   "execution_count": 247,
   "id": "f0c7e110-bc74-44ab-a7c2-8867c3a98efb",
   "metadata": {},
   "outputs": [
    {
     "data": {
      "text/plain": [
       "['Apple',\n",
       " 'Sharifa',\n",
       " 'blueberry',\n",
       " 'blueberry',\n",
       " 'Mango',\n",
       " 'Cherry',\n",
       " 'Banana',\n",
       " 'Zarifa',\n",
       " 'orange']"
      ]
     },
     "execution_count": 247,
     "metadata": {},
     "output_type": "execute_result"
    }
   ],
   "source": [
    "fruits.insert(2,'blueberry') # adds eith defined index\n",
    "fruits"
   ]
  },
  {
   "cell_type": "code",
   "execution_count": 233,
   "id": "3fb8d645-516b-4257-8d28-beaaee911867",
   "metadata": {},
   "outputs": [
    {
     "data": {
      "text/plain": [
       "[[1, 2, 3, 4, 5], 6, 7, 8, 9, 10]"
      ]
     },
     "execution_count": 233,
     "metadata": {},
     "output_type": "execute_result"
    }
   ],
   "source": [
    "list1 = [1, 2, 3, 4, 5]\n",
    "list2 = [6, 7, 8, 9, 10]\n",
    "list3 = []\n",
    "list3.append(list1) # adds the list with the list\n",
    "list3.extend(list2) # adds the list inside the existing list\n",
    "list3"
   ]
  },
  {
   "cell_type": "code",
   "execution_count": 235,
   "id": "91a63759-fa9b-42cc-9bf6-daa7428b7f27",
   "metadata": {},
   "outputs": [
    {
     "data": {
      "text/plain": [
       "[1, 2, 3, 4, 5]"
      ]
     },
     "execution_count": 235,
     "metadata": {},
     "output_type": "execute_result"
    }
   ],
   "source": [
    "list3[0]"
   ]
  },
  {
   "cell_type": "code",
   "execution_count": 237,
   "id": "80c13aa2-9dee-4ed6-bfd1-a08a495c88f3",
   "metadata": {},
   "outputs": [
    {
     "data": {
      "text/plain": [
       "['apple', 'banana', 'cherry', 'date', 'elderberry']"
      ]
     },
     "execution_count": 237,
     "metadata": {},
     "output_type": "execute_result"
    }
   ],
   "source": [
    "fruit = ['apple', 'banana', 'cherry', 'date', 'elderberry']\n",
    "fruit"
   ]
  },
  {
   "cell_type": "code",
   "execution_count": 245,
   "id": "2c854d87-fa4d-4eb7-baa6-b575dedec156",
   "metadata": {},
   "outputs": [
    {
     "ename": "NameError",
     "evalue": "name 'fruit' is not defined",
     "output_type": "error",
     "traceback": [
      "\u001b[1;31m---------------------------------------------------------------------------\u001b[0m",
      "\u001b[1;31mNameError\u001b[0m                                 Traceback (most recent call last)",
      "Cell \u001b[1;32mIn[245], line 1\u001b[0m\n\u001b[1;32m----> 1\u001b[0m \u001b[38;5;28;01mdel\u001b[39;00m fruit\n\u001b[0;32m      2\u001b[0m fruit\n",
      "\u001b[1;31mNameError\u001b[0m: name 'fruit' is not defined"
     ]
    }
   ],
   "source": [
    "del fruit\n",
    "fruit"
   ]
  },
  {
   "cell_type": "code",
   "execution_count": 275,
   "id": "092e1dce-1752-472e-a9f0-24277f43710e",
   "metadata": {},
   "outputs": [
    {
     "data": {
      "text/plain": [
       "['Apple', 'Sharifa', 'Mango', 'Cherry', 'Banana', 'Zarifa']"
      ]
     },
     "execution_count": 275,
     "metadata": {},
     "output_type": "execute_result"
    }
   ],
   "source": [
    "# index     0         1           2       3          4       5\n",
    "fruits = ['Apple', 'Sharifa', 'Mango','Cherry','Banana',\"Zarifa\"]\n",
    "# -ve       -6        -5       -4         -3      -2       -1\n",
    "fruits"
   ]
  },
  {
   "cell_type": "code",
   "execution_count": 277,
   "id": "763e6c2f-c5e8-41d7-a018-b4100058a85a",
   "metadata": {},
   "outputs": [
    {
     "data": {
      "text/plain": [
       "['Apple', 'Sharifa', 'Mango', 'Cherry', 'Banana']"
      ]
     },
     "execution_count": 277,
     "metadata": {},
     "output_type": "execute_result"
    }
   ],
   "source": [
    "fruits.pop()\n",
    "fruits"
   ]
  },
  {
   "cell_type": "code",
   "execution_count": 279,
   "id": "a02ea840-f555-4431-8048-45aebd0045e5",
   "metadata": {},
   "outputs": [
    {
     "data": {
      "text/plain": [
       "'Banana'"
      ]
     },
     "execution_count": 279,
     "metadata": {},
     "output_type": "execute_result"
    }
   ],
   "source": [
    "popped_item=fruits.pop()\n",
    "popped_item"
   ]
  },
  {
   "cell_type": "code",
   "execution_count": 317,
   "id": "f5458603-6e8a-473a-8b5a-2ed6f1b0be34",
   "metadata": {},
   "outputs": [
    {
     "data": {
      "text/plain": [
       "['Apple', 'Sharifa', 'Mango', 'banana', 'banana']"
      ]
     },
     "execution_count": 317,
     "metadata": {},
     "output_type": "execute_result"
    }
   ],
   "source": [
    "fruits.append('banana')\n",
    "fruits"
   ]
  },
  {
   "cell_type": "code",
   "execution_count": 311,
   "id": "3e12e2cc-f6db-4447-a06a-f57ee5cc4fe0",
   "metadata": {},
   "outputs": [
    {
     "data": {
      "text/plain": [
       "'banana'"
      ]
     },
     "execution_count": 311,
     "metadata": {},
     "output_type": "execute_result"
    }
   ],
   "source": [
    "fruits.pop(4)"
   ]
  },
  {
   "cell_type": "code",
   "execution_count": 321,
   "id": "bb70213d-6737-43e9-9016-5409c05452ae",
   "metadata": {},
   "outputs": [
    {
     "ename": "ValueError",
     "evalue": "list.remove(x): x not in list",
     "output_type": "error",
     "traceback": [
      "\u001b[1;31m---------------------------------------------------------------------------\u001b[0m",
      "\u001b[1;31mValueError\u001b[0m                                Traceback (most recent call last)",
      "Cell \u001b[1;32mIn[321], line 1\u001b[0m\n\u001b[1;32m----> 1\u001b[0m fruits\u001b[38;5;241m.\u001b[39mremove(\u001b[38;5;124m'\u001b[39m\u001b[38;5;124mmango\u001b[39m\u001b[38;5;124m'\u001b[39m)\n",
      "\u001b[1;31mValueError\u001b[0m: list.remove(x): x not in list"
     ]
    }
   ],
   "source": [
    "fruits.remove('mango')\n"
   ]
  },
  {
   "cell_type": "code",
   "execution_count": 323,
   "id": "5d85458d-0547-496b-b8d1-78130bc827c3",
   "metadata": {},
   "outputs": [
    {
     "data": {
      "text/plain": [
       "['Apple', 'Sharifa', 'Mango', 'banana', 'banana']"
      ]
     },
     "execution_count": 323,
     "metadata": {},
     "output_type": "execute_result"
    }
   ],
   "source": [
    "fruits"
   ]
  },
  {
   "cell_type": "code",
   "execution_count": 325,
   "id": "7635ccbe-f777-448f-a8d5-b2a8590a8f6f",
   "metadata": {},
   "outputs": [
    {
     "data": {
      "text/plain": [
       "2"
      ]
     },
     "execution_count": 325,
     "metadata": {},
     "output_type": "execute_result"
    }
   ],
   "source": [
    "fruits.count('banana')"
   ]
  },
  {
   "cell_type": "code",
   "execution_count": 327,
   "id": "ce5ef786-bace-42b3-856f-ce92a32a92b5",
   "metadata": {},
   "outputs": [
    {
     "data": {
      "text/plain": [
       "[11, 22, 33, 44, 55, 66, 77, 88, 99]"
      ]
     },
     "execution_count": 327,
     "metadata": {},
     "output_type": "execute_result"
    }
   ],
   "source": [
    "#     -9  -8 -7 -6 -5 -4 -3 -2 -1  \n",
    "nums= [11,22,33,44,55,66,77,88,99]\n",
    "#       0  1  2  3  4  5  6  7  8\n",
    "nums"
   ]
  },
  {
   "cell_type": "code",
   "execution_count": 331,
   "id": "4949836d-7a11-40a2-82b0-70bb3d4d9c19",
   "metadata": {},
   "outputs": [
    {
     "data": {
      "text/plain": [
       "11"
      ]
     },
     "execution_count": 331,
     "metadata": {},
     "output_type": "execute_result"
    }
   ],
   "source": [
    "nums[0]"
   ]
  },
  {
   "cell_type": "code",
   "execution_count": 333,
   "id": "b51c4007-a8d7-4e9f-8c06-c8742cbc76ff",
   "metadata": {},
   "outputs": [
    {
     "data": {
      "text/plain": [
       "[33, 44]"
      ]
     },
     "execution_count": 333,
     "metadata": {},
     "output_type": "execute_result"
    }
   ],
   "source": [
    "nums[2:4]"
   ]
  },
  {
   "cell_type": "code",
   "execution_count": 335,
   "id": "d434ca53-6e8c-4113-b1f4-4d02071a3d50",
   "metadata": {},
   "outputs": [
    {
     "data": {
      "text/plain": [
       "[22, 33, 44, 55, 66]"
      ]
     },
     "execution_count": 335,
     "metadata": {},
     "output_type": "execute_result"
    }
   ],
   "source": [
    "nums[1:6:1]"
   ]
  },
  {
   "cell_type": "code",
   "execution_count": 337,
   "id": "5634df25-feec-4082-9114-b20e80782e49",
   "metadata": {},
   "outputs": [
    {
     "data": {
      "text/plain": [
       "[22, 44, 66]"
      ]
     },
     "execution_count": 337,
     "metadata": {},
     "output_type": "execute_result"
    }
   ],
   "source": [
    "nums[1:6:2]"
   ]
  },
  {
   "cell_type": "code",
   "execution_count": 339,
   "id": "93138c40-9051-4d10-9aab-ffe0d99baac8",
   "metadata": {},
   "outputs": [
    {
     "data": {
      "text/plain": [
       "[33, 44, 55]"
      ]
     },
     "execution_count": 339,
     "metadata": {},
     "output_type": "execute_result"
    }
   ],
   "source": [
    "nums[2:4]"
   ]
  },
  {
   "cell_type": "code",
   "execution_count": 341,
   "id": "4cd9c6b1-09eb-407b-aaf5-e4cf70a9369a",
   "metadata": {},
   "outputs": [
    {
     "name": "stdout",
     "output_type": "stream",
     "text": [
      "{'John': 85, 'Alice': 90, 'Bob': 78}\n"
     ]
    }
   ],
   "source": [
    "student_scores = {\"John\": 85, \"Alice\": 90, \"Bob\": 78}\n",
    "print(student_scores)"
   ]
  },
  {
   "cell_type": "code",
   "execution_count": 343,
   "id": "cc6e53ea-f2f5-4127-b030-2018d7d259c0",
   "metadata": {},
   "outputs": [
    {
     "data": {
      "text/plain": [
       "{'John': 85, 'Alice': 90, 'Bob': 78, 'Eve': 88}"
      ]
     },
     "execution_count": 343,
     "metadata": {},
     "output_type": "execute_result"
    }
   ],
   "source": [
    "student_scores[\"Eve\"] = 88  # Adds a new key-value pair\n",
    "student_scores"
   ]
  },
  {
   "cell_type": "code",
   "execution_count": 345,
   "id": "2a4038e6-5955-4500-ae38-6d4c52fbc3cc",
   "metadata": {},
   "outputs": [
    {
     "name": "stdout",
     "output_type": "stream",
     "text": [
      "{'John': 85, 'Alice': 95, 'Bob': 78, 'Eve': 88}\n"
     ]
    }
   ],
   "source": [
    "# Changing the value for 'Alice'\n",
    "student_scores[\"Alice\"] = 95\n",
    "print(student_scores)"
   ]
  },
  {
   "cell_type": "code",
   "execution_count": 347,
   "id": "74dc68bb-75f7-4726-bdca-3f5759302990",
   "metadata": {},
   "outputs": [
    {
     "data": {
      "text/plain": [
       "4"
      ]
     },
     "execution_count": 347,
     "metadata": {},
     "output_type": "execute_result"
    }
   ],
   "source": [
    "len(student_scores)"
   ]
  },
  {
   "cell_type": "code",
   "execution_count": 349,
   "id": "a3fe6fec-6e75-4dc7-955e-35629193ff4c",
   "metadata": {},
   "outputs": [
    {
     "data": {
      "text/plain": [
       "{'laptop': 20000, 'keyboard': 5000, 'bag': 3000}"
      ]
     },
     "execution_count": 349,
     "metadata": {},
     "output_type": "execute_result"
    }
   ],
   "source": [
    "record2 = {\"laptop\":20000, 'keyboard':5000, 'bag':3000}\n",
    "record2"
   ]
  },
  {
   "cell_type": "code",
   "execution_count": 351,
   "id": "82b39214-0a3f-49c1-97e3-41d01c78ce08",
   "metadata": {},
   "outputs": [],
   "source": [
    "del record2['bag']"
   ]
  },
  {
   "cell_type": "code",
   "execution_count": 353,
   "id": "368488b6-914a-465d-9114-b9460bc64bcc",
   "metadata": {},
   "outputs": [
    {
     "data": {
      "text/plain": [
       "{'laptop': 20000, 'keyboard': 5000}"
      ]
     },
     "execution_count": 353,
     "metadata": {},
     "output_type": "execute_result"
    }
   ],
   "source": [
    "record2"
   ]
  },
  {
   "cell_type": "code",
   "execution_count": 355,
   "id": "6e67f03d-87e2-4e27-a735-e7756322cd28",
   "metadata": {},
   "outputs": [
    {
     "data": {
      "text/plain": [
       "20000"
      ]
     },
     "execution_count": 355,
     "metadata": {},
     "output_type": "execute_result"
    }
   ],
   "source": [
    "record2.pop('laptop')"
   ]
  },
  {
   "cell_type": "code",
   "execution_count": 357,
   "id": "45707334-db21-4d6b-835f-ddca2b15d0ae",
   "metadata": {},
   "outputs": [
    {
     "data": {
      "text/plain": [
       "{'keyboard': 5000}"
      ]
     },
     "execution_count": 357,
     "metadata": {},
     "output_type": "execute_result"
    }
   ],
   "source": [
    "record2"
   ]
  },
  {
   "cell_type": "code",
   "execution_count": 359,
   "id": "01fb526b-4d9b-4a5b-abfc-db4922d4633b",
   "metadata": {},
   "outputs": [
    {
     "data": {
      "text/plain": [
       "{1: 'one', 2: 'eight', 3: 'twenty seven', 'four': 64, 5: 125}"
      ]
     },
     "execution_count": 359,
     "metadata": {},
     "output_type": "execute_result"
    }
   ],
   "source": [
    "temp_dic = {1:'one', 2:'eight', 3:'twenty seven','four':64,5:125}\n",
    "temp_dic"
   ]
  },
  {
   "cell_type": "code",
   "execution_count": 361,
   "id": "33ce98f2-d7ca-428e-9cc9-157eddc3bf4e",
   "metadata": {},
   "outputs": [
    {
     "data": {
      "text/plain": [
       "'twenty seven'"
      ]
     },
     "execution_count": 361,
     "metadata": {},
     "output_type": "execute_result"
    }
   ],
   "source": [
    "temp_dic[3]"
   ]
  },
  {
   "cell_type": "code",
   "execution_count": 363,
   "id": "56d1cf0a-1e0c-4ae2-a324-b3640d3f6f9b",
   "metadata": {},
   "outputs": [
    {
     "data": {
      "text/plain": [
       "'w'"
      ]
     },
     "execution_count": 363,
     "metadata": {},
     "output_type": "execute_result"
    }
   ],
   "source": [
    "temp_dic[3][1]"
   ]
  },
  {
   "cell_type": "code",
   "execution_count": 367,
   "id": "807e1c55-23d8-477c-83c7-26575cf55195",
   "metadata": {},
   "outputs": [
    {
     "name": "stdout",
     "output_type": "stream",
     "text": [
      "John: 85\n",
      "Alice: 90\n",
      "Bob: 78\n"
     ]
    }
   ],
   "source": [
    "student_scores = {\"John\": 85, \"Alice\": 90, \"Bob\": 78}\n",
    "\n",
    "for name, score in student_scores.items():\n",
    "    print(f\"{name}: {score}\")"
   ]
  },
  {
   "cell_type": "code",
   "execution_count": 369,
   "id": "0bbc9311-8089-4fa9-aa83-31359748ce88",
   "metadata": {},
   "outputs": [
    {
     "name": "stdin",
     "output_type": "stream",
     "text": [
      "Enter a parageaph:  The sun dipped below the horizon, casting a warm golden glow across the quiet town. Birds chirped softly in the distance, and the rustling leaves whispered secrets to anyone willing to listen. As the evening breeze cooled the air, a sense of peace settled over the streets. People wandered outside, enjoying the gentle transition from day to night, knowing that tomorrow would bring new opportunities and stories to be told\n"
     ]
    },
    {
     "data": {
      "text/plain": [
       "{'a': 16,\n",
       " 'e': 50,\n",
       " 'i': 25,\n",
       " 'o': 31,\n",
       " 'u': 6,\n",
       " 'A': 1,\n",
       " 'E': 0,\n",
       " 'I': 0,\n",
       " 'O': 0,\n",
       " 'U': 0}"
      ]
     },
     "execution_count": 369,
     "metadata": {},
     "output_type": "execute_result"
    }
   ],
   "source": [
    "text  = input(\"Enter a parageaph: \")\n",
    "vowels = \"aeiouAEIOU\"\n",
    "vowel_count={}\n",
    "for vowel in vowels:\n",
    "    vowel_count[vowel] = text.count(vowel)\n",
    "    \n",
    "vowel_count"
   ]
  },
  {
   "cell_type": "code",
   "execution_count": 371,
   "id": "f62ebbd7-80f4-49d6-996e-6e47c5e14f24",
   "metadata": {},
   "outputs": [
    {
     "name": "stdin",
     "output_type": "stream",
     "text": [
      "Guest name:  rubina\n",
      "Guest name:  jdod\n",
      "Guest name:  djsijd\n",
      "Guest name:  skjdsdh\n",
      "Guest name:  dsj\n"
     ]
    },
    {
     "data": {
      "text/plain": [
       "['rubina', 'jdod', 'djsijd', 'skjdsdh', 'dsj']"
      ]
     },
     "execution_count": 371,
     "metadata": {},
     "output_type": "execute_result"
    }
   ],
   "source": [
    "guests = []\n",
    "for a in range(5):\n",
    "    guest = input(\"Guest name: \")\n",
    "    guests.append(guest)\n",
    "guests"
   ]
  },
  {
   "cell_type": "code",
   "execution_count": 373,
   "id": "03bbdaa9-d990-44e7-9837-722306d45dda",
   "metadata": {},
   "outputs": [
    {
     "name": "stdout",
     "output_type": "stream",
     "text": [
      "0 Hello\n",
      "1 Hello\n",
      "2 Hello\n",
      "3 Hello\n",
      "4 Hello\n"
     ]
    }
   ],
   "source": [
    "counter  = 0\n",
    "while counter <5:\n",
    "    print(counter, \"Hello\")\n",
    "    counter +=1"
   ]
  },
  {
   "cell_type": "code",
   "execution_count": 375,
   "id": "d22dff6a-85f1-46fb-98fc-a8af48e29518",
   "metadata": {},
   "outputs": [
    {
     "name": "stdin",
     "output_type": "stream",
     "text": [
      "enter yor email fsdkfh\n",
      "enter your password dkfjdig\n"
     ]
    },
    {
     "name": "stdout",
     "output_type": "stream",
     "text": [
      "incorrect\n"
     ]
    },
    {
     "name": "stdin",
     "output_type": "stream",
     "text": [
      "enter yor email sdfjdoigj\n",
      "enter your password sdijdoi\n"
     ]
    },
    {
     "name": "stdout",
     "output_type": "stream",
     "text": [
      "incorrect\n"
     ]
    },
    {
     "name": "stdin",
     "output_type": "stream",
     "text": [
      "enter yor email sdljodfg\n",
      "enter your password svjdfiojg\n"
     ]
    },
    {
     "name": "stdout",
     "output_type": "stream",
     "text": [
      "incorrect\n"
     ]
    }
   ],
   "source": [
    "attempt = 3\n",
    "while attempt>0:\n",
    "    email = 'lololo@gmail.com'\n",
    "    password= 'bhar me jao'\n",
    "    e = input('enter yor email')\n",
    "    p= input ('enter your password')\n",
    "    if e==email and p==password:\n",
    "        print('login successfully')\n",
    "        break\n",
    "    else:\n",
    "        print('incorrect')\n",
    "        attempt-=1"
   ]
  },
  {
   "cell_type": "code",
   "execution_count": 377,
   "id": "d279548d-5a35-4387-acc3-00f45a25e1d8",
   "metadata": {},
   "outputs": [
    {
     "name": "stdin",
     "output_type": "stream",
     "text": [
      "enter a number:  7\n"
     ]
    },
    {
     "name": "stdout",
     "output_type": "stream",
     "text": [
      "7 x 1 = 7\n",
      "7 x 2 = 14\n",
      "7 x 3 = 21\n",
      "7 x 4 = 28\n",
      "7 x 5 = 35\n",
      "7 x 6 = 42\n",
      "7 x 7 = 49\n",
      "7 x 8 = 56\n",
      "7 x 9 = 63\n",
      "7 x 10 = 70\n"
     ]
    }
   ],
   "source": [
    "def table():\n",
    "    num=int(input('enter a number: '))\n",
    "    i= 1\n",
    "    while i<=10:\n",
    "        print(f'{num} x {i} = {num*i}')\n",
    "        i +=1\n",
    "table()"
   ]
  },
  {
   "cell_type": "code",
   "execution_count": 379,
   "id": "4af16e98-d279-49d7-aea5-e7bb696e76bc",
   "metadata": {},
   "outputs": [
    {
     "name": "stdout",
     "output_type": "stream",
     "text": [
      "data science\n",
      "data science\n",
      "data science\n"
     ]
    }
   ],
   "source": [
    "i = 3\n",
    "while i<6:\n",
    "    print('data science')\n",
    "    i +=1"
   ]
  },
  {
   "cell_type": "code",
   "execution_count": null,
   "id": "58f04c90-4658-4b5e-88a2-234073b90487",
   "metadata": {},
   "outputs": [],
   "source": []
  }
 ],
 "metadata": {
  "kernelspec": {
   "display_name": "Python [conda env:base] *",
   "language": "python",
   "name": "conda-base-py"
  },
  "language_info": {
   "codemirror_mode": {
    "name": "ipython",
    "version": 3
   },
   "file_extension": ".py",
   "mimetype": "text/x-python",
   "name": "python",
   "nbconvert_exporter": "python",
   "pygments_lexer": "ipython3",
   "version": "3.12.7"
  }
 },
 "nbformat": 4,
 "nbformat_minor": 5
}

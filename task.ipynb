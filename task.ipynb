{
 "cells": [
  {
   "cell_type": "code",
   "execution_count": 13,
   "id": "67467792-fbac-4983-a388-16149787f66e",
   "metadata": {},
   "outputs": [
    {
     "name": "stdin",
     "output_type": "stream",
     "text": [
      "Enter the radius of circle 2\n"
     ]
    },
    {
     "name": "stdout",
     "output_type": "stream",
     "text": [
      "12.568\n",
      "The area of circle is<function area at 0x000001C2297D4860>\n"
     ]
    }
   ],
   "source": [
    "def area(r):\n",
    "    print(3.142*(r**2))\n",
    "    print(f'The area of circle is{area}')\n",
    "\n",
    "r=int(input('Enter the radius of circle'))\n",
    "area(r)"
   ]
  },
  {
   "cell_type": "code",
   "execution_count": 11,
   "id": "589cfe10-ba57-4953-ad0d-b6af072edecd",
   "metadata": {},
   "outputs": [
    {
     "name": "stdin",
     "output_type": "stream",
     "text": [
      "Enter the radius of circle 2\n"
     ]
    },
    {
     "name": "stdout",
     "output_type": "stream",
     "text": [
      "The area of circle is12.568\n"
     ]
    }
   ],
   "source": [
    "def area(r):\n",
    "    a=(3.142*(r**2))\n",
    "    print(f'The area of circle is {a}')\n",
    "\n",
    "r=int(input('Enter the radius of circle'))\n",
    "area(r)"
   ]
  },
  {
   "cell_type": "code",
   "execution_count": null,
   "id": "50799b1b-e2e8-4ef9-894d-477dde49e691",
   "metadata": {},
   "outputs": [
    {
     "name": "stderr",
     "output_type": "stream",
     "text": [
      "<>:2: SyntaxWarning: invalid escape sequence '\\ '\n",
      "<>:2: SyntaxWarning: invalid escape sequence '\\ '\n",
      "C:\\Users\\User\\AppData\\Local\\Temp\\ipykernel_17000\\2898941283.py:2: SyntaxWarning: invalid escape sequence '\\ '\n",
      "  print(f'your name is {name} n\\ your age is {age}')\n"
     ]
    }
   ],
   "source": [
    "def info(age,name):\n",
    "    print(f'your name is {name} n\\ your age is {age}')\n",
    "    \n",
    "age=int(input('enter your age'))\n",
    "name=input('enter your name')\n",
    "info(age,name) "
   ]
  },
  {
   "cell_type": "code",
   "execution_count": null,
   "id": "1f021aa1-7f8d-4e72-89ae-43d6fe0aaf76",
   "metadata": {},
   "outputs": [],
   "source": []
  }
 ],
 "metadata": {
  "kernelspec": {
   "display_name": "Python [conda env:base] *",
   "language": "python",
   "name": "conda-base-py"
  },
  "language_info": {
   "codemirror_mode": {
    "name": "ipython",
    "version": 3
   },
   "file_extension": ".py",
   "mimetype": "text/x-python",
   "name": "python",
   "nbconvert_exporter": "python",
   "pygments_lexer": "ipython3",
   "version": "3.12.7"
  }
 },
 "nbformat": 4,
 "nbformat_minor": 5
}
